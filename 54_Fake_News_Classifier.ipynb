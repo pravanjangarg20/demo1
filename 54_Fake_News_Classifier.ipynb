{
  "cells": [
    {
      "cell_type": "markdown",
      "metadata": {
        "id": "view-in-github",
        "colab_type": "text"
      },
      "source": [
        "<a href=\"https://colab.research.google.com/github/pravanjangarg20/demo1/blob/main/54_Fake_News_Classifier.ipynb\" target=\"_parent\"><img src=\"https://colab.research.google.com/assets/colab-badge.svg\" alt=\"Open In Colab\"/></a>"
      ]
    },
    {
      "cell_type": "markdown",
      "source": [
        "# Importing Libraries"
      ],
      "metadata": {
        "id": "cNglAqz9cAj0"
      }
    },
    {
      "cell_type": "code",
      "execution_count": null,
      "metadata": {
        "colab": {
          "base_uri": "https://localhost:8080/"
        },
        "id": "Gv0PlufxEp6R",
        "outputId": "7309181a-1f6d-49c6-948a-794325a11310"
      },
      "outputs": [
        {
          "name": "stdout",
          "output_type": "stream",
          "text": [
            "Requirement already satisfied: nlp_utils in /usr/local/lib/python3.10/dist-packages (0.6.2)\n",
            "Requirement already satisfied: nltk in /usr/local/lib/python3.10/dist-packages (from nlp_utils) (3.9.1)\n",
            "Requirement already satisfied: numpy in /usr/local/lib/python3.10/dist-packages (from nlp_utils) (1.26.4)\n",
            "Requirement already satisfied: micro-toolkit in /usr/local/lib/python3.10/dist-packages (from nlp_utils) (0.9.0)\n",
            "Requirement already satisfied: click in /usr/local/lib/python3.10/dist-packages (from nltk->nlp_utils) (8.1.7)\n",
            "Requirement already satisfied: joblib in /usr/local/lib/python3.10/dist-packages (from nltk->nlp_utils) (1.4.2)\n",
            "Requirement already satisfied: regex>=2021.8.3 in /usr/local/lib/python3.10/dist-packages (from nltk->nlp_utils) (2024.11.6)\n",
            "Requirement already satisfied: tqdm in /usr/local/lib/python3.10/dist-packages (from nltk->nlp_utils) (4.67.1)\n"
          ]
        }
      ],
      "source": [
        "#!pip install nlp_utils"
      ]
    },
    {
      "cell_type": "code",
      "execution_count": null,
      "metadata": {
        "id": "Pq7Y6r5eD44s"
      },
      "outputs": [],
      "source": [
        "import nlp_utils\n",
        "import pandas as pd\n",
        "import seaborn as sns\n",
        "from sklearn.model_selection import train_test_split\n",
        "from sklearn.feature_extraction.text import CountVectorizer, TfidfVectorizer"
      ]
    },
    {
      "cell_type": "markdown",
      "source": [
        "# Loadind and Analysing DataSet"
      ],
      "metadata": {
        "id": "I6_ECqmNcJfo"
      }
    },
    {
      "cell_type": "code",
      "execution_count": null,
      "metadata": {
        "id": "EnIVfFJfEuD5"
      },
      "outputs": [],
      "source": [
        "df=pd.read_csv('train.csv')"
      ]
    },
    {
      "cell_type": "code",
      "execution_count": null,
      "metadata": {
        "colab": {
          "base_uri": "https://localhost:8080/",
          "height": 444
        },
        "id": "Z9gy6rfiE5e7",
        "outputId": "ae582a59-d621-4cfc-a636-6e9996dd676b"
      },
      "outputs": [
        {
          "data": {
            "application/vnd.google.colaboratory.intrinsic+json": {
              "summary": "{\n  \"name\": \"df\",\n  \"rows\": 20800,\n  \"fields\": [\n    {\n      \"column\": \"id\",\n      \"properties\": {\n        \"dtype\": \"number\",\n        \"std\": 6004,\n        \"min\": 0,\n        \"max\": 20799,\n        \"num_unique_values\": 20800,\n        \"samples\": [\n          14649,\n          9231,\n          6473\n        ],\n        \"semantic_type\": \"\",\n        \"description\": \"\"\n      }\n    },\n    {\n      \"column\": \"title\",\n      \"properties\": {\n        \"dtype\": \"string\",\n        \"num_unique_values\": 19803,\n        \"samples\": [\n          \"Florida Republicans Voting for Hillary Clinton \\u00b7 Guardian Liberty Voice\",\n          \"\\u2018Weekend Warriors\\u2019 Show Survival Benefits - The New York Times\",\n          \"Part 6, Democratic Network Money: Commons Money that Works for Us, Instead of Us Working for It\"\n        ],\n        \"semantic_type\": \"\",\n        \"description\": \"\"\n      }\n    },\n    {\n      \"column\": \"author\",\n      \"properties\": {\n        \"dtype\": \"category\",\n        \"num_unique_values\": 4201,\n        \"samples\": [\n          \"AARGH63\",\n          \"Dave Kehr\",\n          \"Patrick Healy\"\n        ],\n        \"semantic_type\": \"\",\n        \"description\": \"\"\n      }\n    },\n    {\n      \"column\": \"text\",\n      \"properties\": {\n        \"dtype\": \"string\",\n        \"num_unique_values\": 20386,\n        \"samples\": [\n          \"Multan a un ultrasur por lanzar a un jugador del Bar\\u00e7a al campo durante el partido Madrid-Legia EL PARTIDO SE CONSIDERABA DE ALTO RIESGO PARA LOS JUGADORES DEL BARCELONA Real Madrid \\nUn jugador barcelonista golpe\\u00f3 a varios jugadores durante el encuentro de la Champions que tuvo lugar ayer entre el Real Madrid y el Legia Varsovia despu\\u00e9s de ser arrojado desde la grada por un hincha madridista. \\nEl portero del Legia, muy molesto, intent\\u00f3 devolver el jugador a las gradas de una patada y se encar\\u00f3 con los Ultrasur, que ya preparaban a otro jugador para echarlo al campo y entorpecer el encuentro. En esta ocasi\\u00f3n pretend\\u00edan prenderlo con un mechero antes de lanzarlo al c\\u00e9sped. \\nLas autoridades han vuelto a pedir a los aficionados que dejen de lanzar cosas al campo como botellas, monedas y jugadores del Barcelona. El dispositivo de seguridad no puedo hacer nada por evitar que algunos hinchas introdujeran a jugadores barcelonistas a la grada, pues los llevaban camuflados dentro de bocadillos de gran tama\\u00f1o. \\nEl partido pudo ser reanudado cuando el \\u00e1rbitro apart\\u00f3 a un rinc\\u00f3n del c\\u00e9sped al jugador barcelonista.\",\n          \"Written by Jacob G. Hornberger   As US officials continue to accuse Russia of meddling with the US presidential election, an accusation that they have provided no evidence whatsoever to support, let\\u2019s review some of the US government\\u2019s history of meddling with elections in others countries.1. In 1951, the democratically elected parliament of Iran elected a man named Mohammad Mossadegh to be Iran\\u2019s prime minister. Mossadegh angered British Empire officials by nationalizing British oil interests in the country.British officials then turned to the CIA for assistance. In 1953, the CIA secretly fomented a violent coup in Iran, which succeeded in ousting Mossadegh from power and making the Shah of Iran the supreme unelected dictator of the country.To fortify the Shah\\u2019s dictatorial hold on power, the CIA helped organize and train the his domestic police force, the Savak, which was essentially a combination of the CIA, the NSA, and the military. Part of the CIA\\u2019s training involved teaching Savak agents the art of torture.For the next 26 years, the Iranian people suffered under one of the most brutal and tyrannical dictatorships in the world, one that US officials fully supported and called an ally and friend of the United States.In 1979, Iranians successfully revolted against the Shah\\u2019s regime and ousted him from power. One result was not a restoration of the democratic system that had elected Mossadegh but rather another brutal dictatorship, this time a religious one. Another result is the bad relations between the Iran and US governments that continues to exist today.2. In 1951, the Guatemalan people democratically elected a man named Jacobo Arbenz to be their president. Arbenz, however, was not satisfactory to US officials, especially the national-security branch of the government, specifically the Pentagon and the CIA. The reason that US officials opposed Arbenz was that he was a socialist, and US officials considered a socialist president of Guatemala to be a threat to \\u201cnational security\\u201d here in the United States.In 1954 \\u2014 one year after the coup in Iran, the CIA fomented a violent military coup that succeeded in removing Arbenz from power and replacing him with one of the most brutal unelected military dictators in Latin American history, a man named Carlos Castillo Armas. The CIA had a kill list prepared for the coup, which Arbenz was able to escape by fleeing the country before Castillo was able to get him. The CIA\\u2019s destruction of Guatemala\\u2019s democratic system threw the nation into a 30-year civil war that ended up killing millions of Guatemalan people, especially many of the poor.3. In 1960 a man named Patrice Lamumba was elected Congo\\u2019s first prime minister after independence from Belgium. Lamumba spoke out against Western imperialism and refused to take sides in the Cold War, which caused the CIA to conclude that he was a threat to \\u201cnational security.\\u201d The CIA orchestrated the assassination of Lamumba, which ended up taking place on January 17, 1961, just three days before President Kennedy, who liked Lamumba and who would have ordered the CIA to stand down, was to be sworn into office.4. In 1970 a man named Salvador Allende received a plurality of votes in the presidential election in Chile. Pursuant to the Chilean constitution, the election was thrown into the national congress. President Richard Nixon, his national-security team, the Pentagon, and the CIA concluded that because Allende believed in communism and socialism, he posed a grave threat to \\u201cnational security\\u201d here in the United States. The CIA attempted to bribe members of the congress to vote against Allende. It also orchestrated the kidnapping of the head of Chile\\u2019s armed forces, Gen Rene Schneider, who opposed a US military coup in his country, especially since a coup would violate the country\\u2019s constitution. The kidnapping attempt on Schneider left him dead.The CIA then fomented a coup that took place on 9/11 1973 that violently ousted Allende from power and left him dead. Replacing him was army Gen. Augusto Pinochet, one of the most brutal unelected military dictators in history. By the time Pinochet\\u2019s 17-year reign of military terror came to an end in 1990, he and his CIA-supported goons had incarcerated, raped, tortured, or killed tens of thousands of innocent people \\u2014 that is, people whose only \\u201ccrime\\u201d was believing in socialism \\u2014 with the full support of the CIA, Pentagon, Nixon, and his \\u201cnational security\\u201d team.Of course, there are also the more recent support of regime-change operations that ousted democratically elected presidents that the US government disapproved of, such as in Ukraine and Egypt.And then there is the long list of countries where unelected dictators were targeted for regime change by the US national security state and, where successful, replaced with a brutal unelected pro-US dictator. Cuba, Indonesia, Iraq, Libya, and Syria all come to mind.US officials need to keep in mind that when they point their accusatory index finger at Russia for supposedly meddling in the US presidential election, US officials have, at the same time, three fingers pointing back at themselves. Reprinted with permission from the Future of Freedom Foundation . Related\",\n          \"When hearing of an establishment called the Black and Blue Steakhouse, one could reasonably surmise that some, or at the very least one, extremely tough person could be found somewhere in there. Well, the three terrorists who attacked London Bridge over the weekend found the Black and Blue Steakhouse, and they found the toughest man in the house. [Or, maybe more to the point, he found them.  Roy Larner, 47, is a huge fan of the South East London soccer team Millwall F. C. The team is known as the Lions, and when   terrorists entered the Black and Blue to kill innocent people, Larner let them know who is the true king of the jungle. After the terrorists entered, with obvious bad intentions, Larner sprang into action: \\u201cLike an idiot I shouted back at them. I thought, \\u2018I need to take the p*** out of these b*****s.\\u2019 \\u201cI took a few steps towards them and said, \\u2018F*** you, I\\u2019m Millwall.\\u2019 So they started attacking me. \\u201cI stood in front of them trying to fight them off. Everyone else ran to the back. I was on my own against all three of them, that\\u2019s why I got hurt so much. It was just me, trying to grab them with my bare hands and hold on. I was swinging. \\u201cI got stabbed and sliced eight times. They got me in my head, chest and both hands. There was blood everywhere. \\u201cThey were saying, \\u2018Islam, Islam!\\u2019 I said again, \\u2018F*** you, I\\u2019m Millwall!\\u2019 \\u201cIt was the worst thing I could have done as they carried on attacking me. \\u201cLuckily, none of the blows were straight at me or I\\u2019d be dead. \\u201d A petition has begun, with the aim of awarding Larner with the George Cross for bravery. The award is the second highest commendation granted by Great Britain. Looking at his scars, it\\u2019s really hard to imagine that he won\\u2019t get it. If Millwall is looking for a new slogan, they may have found it. \\u201cF*** you, I\\u2019m Millwall!\\u201d has a nice ring to it. Follow Dylan Gwinn on Twitter: @themightygwinn\"\n        ],\n        \"semantic_type\": \"\",\n        \"description\": \"\"\n      }\n    },\n    {\n      \"column\": \"label\",\n      \"properties\": {\n        \"dtype\": \"number\",\n        \"std\": 0,\n        \"min\": 0,\n        \"max\": 1,\n        \"num_unique_values\": 2,\n        \"samples\": [\n          0,\n          1\n        ],\n        \"semantic_type\": \"\",\n        \"description\": \"\"\n      }\n    }\n  ]\n}",
              "type": "dataframe",
              "variable_name": "df"
            },
            "text/html": [
              "\n",
              "  <div id=\"df-78f31108-80b6-4b1f-99dc-06c941634d8d\" class=\"colab-df-container\">\n",
              "    <div>\n",
              "<style scoped>\n",
              "    .dataframe tbody tr th:only-of-type {\n",
              "        vertical-align: middle;\n",
              "    }\n",
              "\n",
              "    .dataframe tbody tr th {\n",
              "        vertical-align: top;\n",
              "    }\n",
              "\n",
              "    .dataframe thead th {\n",
              "        text-align: right;\n",
              "    }\n",
              "</style>\n",
              "<table border=\"1\" class=\"dataframe\">\n",
              "  <thead>\n",
              "    <tr style=\"text-align: right;\">\n",
              "      <th></th>\n",
              "      <th>id</th>\n",
              "      <th>title</th>\n",
              "      <th>author</th>\n",
              "      <th>text</th>\n",
              "      <th>label</th>\n",
              "    </tr>\n",
              "  </thead>\n",
              "  <tbody>\n",
              "    <tr>\n",
              "      <th>0</th>\n",
              "      <td>0</td>\n",
              "      <td>House Dem Aide: We Didn’t Even See Comey’s Let...</td>\n",
              "      <td>Darrell Lucus</td>\n",
              "      <td>House Dem Aide: We Didn’t Even See Comey’s Let...</td>\n",
              "      <td>1</td>\n",
              "    </tr>\n",
              "    <tr>\n",
              "      <th>1</th>\n",
              "      <td>1</td>\n",
              "      <td>FLYNN: Hillary Clinton, Big Woman on Campus - ...</td>\n",
              "      <td>Daniel J. Flynn</td>\n",
              "      <td>Ever get the feeling your life circles the rou...</td>\n",
              "      <td>0</td>\n",
              "    </tr>\n",
              "    <tr>\n",
              "      <th>2</th>\n",
              "      <td>2</td>\n",
              "      <td>Why the Truth Might Get You Fired</td>\n",
              "      <td>Consortiumnews.com</td>\n",
              "      <td>Why the Truth Might Get You Fired October 29, ...</td>\n",
              "      <td>1</td>\n",
              "    </tr>\n",
              "    <tr>\n",
              "      <th>3</th>\n",
              "      <td>3</td>\n",
              "      <td>15 Civilians Killed In Single US Airstrike Hav...</td>\n",
              "      <td>Jessica Purkiss</td>\n",
              "      <td>Videos 15 Civilians Killed In Single US Airstr...</td>\n",
              "      <td>1</td>\n",
              "    </tr>\n",
              "    <tr>\n",
              "      <th>4</th>\n",
              "      <td>4</td>\n",
              "      <td>Iranian woman jailed for fictional unpublished...</td>\n",
              "      <td>Howard Portnoy</td>\n",
              "      <td>Print \\nAn Iranian woman has been sentenced to...</td>\n",
              "      <td>1</td>\n",
              "    </tr>\n",
              "    <tr>\n",
              "      <th>...</th>\n",
              "      <td>...</td>\n",
              "      <td>...</td>\n",
              "      <td>...</td>\n",
              "      <td>...</td>\n",
              "      <td>...</td>\n",
              "    </tr>\n",
              "    <tr>\n",
              "      <th>20795</th>\n",
              "      <td>20795</td>\n",
              "      <td>Rapper T.I.: Trump a ’Poster Child For White S...</td>\n",
              "      <td>Jerome Hudson</td>\n",
              "      <td>Rapper T. I. unloaded on black celebrities who...</td>\n",
              "      <td>0</td>\n",
              "    </tr>\n",
              "    <tr>\n",
              "      <th>20796</th>\n",
              "      <td>20796</td>\n",
              "      <td>N.F.L. Playoffs: Schedule, Matchups and Odds -...</td>\n",
              "      <td>Benjamin Hoffman</td>\n",
              "      <td>When the Green Bay Packers lost to the Washing...</td>\n",
              "      <td>0</td>\n",
              "    </tr>\n",
              "    <tr>\n",
              "      <th>20797</th>\n",
              "      <td>20797</td>\n",
              "      <td>Macy’s Is Said to Receive Takeover Approach by...</td>\n",
              "      <td>Michael J. de la Merced and Rachel Abrams</td>\n",
              "      <td>The Macy’s of today grew from the union of sev...</td>\n",
              "      <td>0</td>\n",
              "    </tr>\n",
              "    <tr>\n",
              "      <th>20798</th>\n",
              "      <td>20798</td>\n",
              "      <td>NATO, Russia To Hold Parallel Exercises In Bal...</td>\n",
              "      <td>Alex Ansary</td>\n",
              "      <td>NATO, Russia To Hold Parallel Exercises In Bal...</td>\n",
              "      <td>1</td>\n",
              "    </tr>\n",
              "    <tr>\n",
              "      <th>20799</th>\n",
              "      <td>20799</td>\n",
              "      <td>What Keeps the F-35 Alive</td>\n",
              "      <td>David Swanson</td>\n",
              "      <td>David Swanson is an author, activist, journa...</td>\n",
              "      <td>1</td>\n",
              "    </tr>\n",
              "  </tbody>\n",
              "</table>\n",
              "<p>20800 rows × 5 columns</p>\n",
              "</div>\n",
              "    <div class=\"colab-df-buttons\">\n",
              "\n",
              "  <div class=\"colab-df-container\">\n",
              "    <button class=\"colab-df-convert\" onclick=\"convertToInteractive('df-78f31108-80b6-4b1f-99dc-06c941634d8d')\"\n",
              "            title=\"Convert this dataframe to an interactive table.\"\n",
              "            style=\"display:none;\">\n",
              "\n",
              "  <svg xmlns=\"http://www.w3.org/2000/svg\" height=\"24px\" viewBox=\"0 -960 960 960\">\n",
              "    <path d=\"M120-120v-720h720v720H120Zm60-500h600v-160H180v160Zm220 220h160v-160H400v160Zm0 220h160v-160H400v160ZM180-400h160v-160H180v160Zm440 0h160v-160H620v160ZM180-180h160v-160H180v160Zm440 0h160v-160H620v160Z\"/>\n",
              "  </svg>\n",
              "    </button>\n",
              "\n",
              "  <style>\n",
              "    .colab-df-container {\n",
              "      display:flex;\n",
              "      gap: 12px;\n",
              "    }\n",
              "\n",
              "    .colab-df-convert {\n",
              "      background-color: #E8F0FE;\n",
              "      border: none;\n",
              "      border-radius: 50%;\n",
              "      cursor: pointer;\n",
              "      display: none;\n",
              "      fill: #1967D2;\n",
              "      height: 32px;\n",
              "      padding: 0 0 0 0;\n",
              "      width: 32px;\n",
              "    }\n",
              "\n",
              "    .colab-df-convert:hover {\n",
              "      background-color: #E2EBFA;\n",
              "      box-shadow: 0px 1px 2px rgba(60, 64, 67, 0.3), 0px 1px 3px 1px rgba(60, 64, 67, 0.15);\n",
              "      fill: #174EA6;\n",
              "    }\n",
              "\n",
              "    .colab-df-buttons div {\n",
              "      margin-bottom: 4px;\n",
              "    }\n",
              "\n",
              "    [theme=dark] .colab-df-convert {\n",
              "      background-color: #3B4455;\n",
              "      fill: #D2E3FC;\n",
              "    }\n",
              "\n",
              "    [theme=dark] .colab-df-convert:hover {\n",
              "      background-color: #434B5C;\n",
              "      box-shadow: 0px 1px 3px 1px rgba(0, 0, 0, 0.15);\n",
              "      filter: drop-shadow(0px 1px 2px rgba(0, 0, 0, 0.3));\n",
              "      fill: #FFFFFF;\n",
              "    }\n",
              "  </style>\n",
              "\n",
              "    <script>\n",
              "      const buttonEl =\n",
              "        document.querySelector('#df-78f31108-80b6-4b1f-99dc-06c941634d8d button.colab-df-convert');\n",
              "      buttonEl.style.display =\n",
              "        google.colab.kernel.accessAllowed ? 'block' : 'none';\n",
              "\n",
              "      async function convertToInteractive(key) {\n",
              "        const element = document.querySelector('#df-78f31108-80b6-4b1f-99dc-06c941634d8d');\n",
              "        const dataTable =\n",
              "          await google.colab.kernel.invokeFunction('convertToInteractive',\n",
              "                                                    [key], {});\n",
              "        if (!dataTable) return;\n",
              "\n",
              "        const docLinkHtml = 'Like what you see? Visit the ' +\n",
              "          '<a target=\"_blank\" href=https://colab.research.google.com/notebooks/data_table.ipynb>data table notebook</a>'\n",
              "          + ' to learn more about interactive tables.';\n",
              "        element.innerHTML = '';\n",
              "        dataTable['output_type'] = 'display_data';\n",
              "        await google.colab.output.renderOutput(dataTable, element);\n",
              "        const docLink = document.createElement('div');\n",
              "        docLink.innerHTML = docLinkHtml;\n",
              "        element.appendChild(docLink);\n",
              "      }\n",
              "    </script>\n",
              "  </div>\n",
              "\n",
              "\n",
              "<div id=\"df-31dd45cf-2eaf-4a61-a72b-7c0d29298c0f\">\n",
              "  <button class=\"colab-df-quickchart\" onclick=\"quickchart('df-31dd45cf-2eaf-4a61-a72b-7c0d29298c0f')\"\n",
              "            title=\"Suggest charts\"\n",
              "            style=\"display:none;\">\n",
              "\n",
              "<svg xmlns=\"http://www.w3.org/2000/svg\" height=\"24px\"viewBox=\"0 0 24 24\"\n",
              "     width=\"24px\">\n",
              "    <g>\n",
              "        <path d=\"M19 3H5c-1.1 0-2 .9-2 2v14c0 1.1.9 2 2 2h14c1.1 0 2-.9 2-2V5c0-1.1-.9-2-2-2zM9 17H7v-7h2v7zm4 0h-2V7h2v10zm4 0h-2v-4h2v4z\"/>\n",
              "    </g>\n",
              "</svg>\n",
              "  </button>\n",
              "\n",
              "<style>\n",
              "  .colab-df-quickchart {\n",
              "      --bg-color: #E8F0FE;\n",
              "      --fill-color: #1967D2;\n",
              "      --hover-bg-color: #E2EBFA;\n",
              "      --hover-fill-color: #174EA6;\n",
              "      --disabled-fill-color: #AAA;\n",
              "      --disabled-bg-color: #DDD;\n",
              "  }\n",
              "\n",
              "  [theme=dark] .colab-df-quickchart {\n",
              "      --bg-color: #3B4455;\n",
              "      --fill-color: #D2E3FC;\n",
              "      --hover-bg-color: #434B5C;\n",
              "      --hover-fill-color: #FFFFFF;\n",
              "      --disabled-bg-color: #3B4455;\n",
              "      --disabled-fill-color: #666;\n",
              "  }\n",
              "\n",
              "  .colab-df-quickchart {\n",
              "    background-color: var(--bg-color);\n",
              "    border: none;\n",
              "    border-radius: 50%;\n",
              "    cursor: pointer;\n",
              "    display: none;\n",
              "    fill: var(--fill-color);\n",
              "    height: 32px;\n",
              "    padding: 0;\n",
              "    width: 32px;\n",
              "  }\n",
              "\n",
              "  .colab-df-quickchart:hover {\n",
              "    background-color: var(--hover-bg-color);\n",
              "    box-shadow: 0 1px 2px rgba(60, 64, 67, 0.3), 0 1px 3px 1px rgba(60, 64, 67, 0.15);\n",
              "    fill: var(--button-hover-fill-color);\n",
              "  }\n",
              "\n",
              "  .colab-df-quickchart-complete:disabled,\n",
              "  .colab-df-quickchart-complete:disabled:hover {\n",
              "    background-color: var(--disabled-bg-color);\n",
              "    fill: var(--disabled-fill-color);\n",
              "    box-shadow: none;\n",
              "  }\n",
              "\n",
              "  .colab-df-spinner {\n",
              "    border: 2px solid var(--fill-color);\n",
              "    border-color: transparent;\n",
              "    border-bottom-color: var(--fill-color);\n",
              "    animation:\n",
              "      spin 1s steps(1) infinite;\n",
              "  }\n",
              "\n",
              "  @keyframes spin {\n",
              "    0% {\n",
              "      border-color: transparent;\n",
              "      border-bottom-color: var(--fill-color);\n",
              "      border-left-color: var(--fill-color);\n",
              "    }\n",
              "    20% {\n",
              "      border-color: transparent;\n",
              "      border-left-color: var(--fill-color);\n",
              "      border-top-color: var(--fill-color);\n",
              "    }\n",
              "    30% {\n",
              "      border-color: transparent;\n",
              "      border-left-color: var(--fill-color);\n",
              "      border-top-color: var(--fill-color);\n",
              "      border-right-color: var(--fill-color);\n",
              "    }\n",
              "    40% {\n",
              "      border-color: transparent;\n",
              "      border-right-color: var(--fill-color);\n",
              "      border-top-color: var(--fill-color);\n",
              "    }\n",
              "    60% {\n",
              "      border-color: transparent;\n",
              "      border-right-color: var(--fill-color);\n",
              "    }\n",
              "    80% {\n",
              "      border-color: transparent;\n",
              "      border-right-color: var(--fill-color);\n",
              "      border-bottom-color: var(--fill-color);\n",
              "    }\n",
              "    90% {\n",
              "      border-color: transparent;\n",
              "      border-bottom-color: var(--fill-color);\n",
              "    }\n",
              "  }\n",
              "</style>\n",
              "\n",
              "  <script>\n",
              "    async function quickchart(key) {\n",
              "      const quickchartButtonEl =\n",
              "        document.querySelector('#' + key + ' button');\n",
              "      quickchartButtonEl.disabled = true;  // To prevent multiple clicks.\n",
              "      quickchartButtonEl.classList.add('colab-df-spinner');\n",
              "      try {\n",
              "        const charts = await google.colab.kernel.invokeFunction(\n",
              "            'suggestCharts', [key], {});\n",
              "      } catch (error) {\n",
              "        console.error('Error during call to suggestCharts:', error);\n",
              "      }\n",
              "      quickchartButtonEl.classList.remove('colab-df-spinner');\n",
              "      quickchartButtonEl.classList.add('colab-df-quickchart-complete');\n",
              "    }\n",
              "    (() => {\n",
              "      let quickchartButtonEl =\n",
              "        document.querySelector('#df-31dd45cf-2eaf-4a61-a72b-7c0d29298c0f button');\n",
              "      quickchartButtonEl.style.display =\n",
              "        google.colab.kernel.accessAllowed ? 'block' : 'none';\n",
              "    })();\n",
              "  </script>\n",
              "</div>\n",
              "\n",
              "  <div id=\"id_b1db2ad3-2139-4630-8654-c088854efe6b\">\n",
              "    <style>\n",
              "      .colab-df-generate {\n",
              "        background-color: #E8F0FE;\n",
              "        border: none;\n",
              "        border-radius: 50%;\n",
              "        cursor: pointer;\n",
              "        display: none;\n",
              "        fill: #1967D2;\n",
              "        height: 32px;\n",
              "        padding: 0 0 0 0;\n",
              "        width: 32px;\n",
              "      }\n",
              "\n",
              "      .colab-df-generate:hover {\n",
              "        background-color: #E2EBFA;\n",
              "        box-shadow: 0px 1px 2px rgba(60, 64, 67, 0.3), 0px 1px 3px 1px rgba(60, 64, 67, 0.15);\n",
              "        fill: #174EA6;\n",
              "      }\n",
              "\n",
              "      [theme=dark] .colab-df-generate {\n",
              "        background-color: #3B4455;\n",
              "        fill: #D2E3FC;\n",
              "      }\n",
              "\n",
              "      [theme=dark] .colab-df-generate:hover {\n",
              "        background-color: #434B5C;\n",
              "        box-shadow: 0px 1px 3px 1px rgba(0, 0, 0, 0.15);\n",
              "        filter: drop-shadow(0px 1px 2px rgba(0, 0, 0, 0.3));\n",
              "        fill: #FFFFFF;\n",
              "      }\n",
              "    </style>\n",
              "    <button class=\"colab-df-generate\" onclick=\"generateWithVariable('df')\"\n",
              "            title=\"Generate code using this dataframe.\"\n",
              "            style=\"display:none;\">\n",
              "\n",
              "  <svg xmlns=\"http://www.w3.org/2000/svg\" height=\"24px\"viewBox=\"0 0 24 24\"\n",
              "       width=\"24px\">\n",
              "    <path d=\"M7,19H8.4L18.45,9,17,7.55,7,17.6ZM5,21V16.75L18.45,3.32a2,2,0,0,1,2.83,0l1.4,1.43a1.91,1.91,0,0,1,.58,1.4,1.91,1.91,0,0,1-.58,1.4L9.25,21ZM18.45,9,17,7.55Zm-12,3A5.31,5.31,0,0,0,4.9,8.1,5.31,5.31,0,0,0,1,6.5,5.31,5.31,0,0,0,4.9,4.9,5.31,5.31,0,0,0,6.5,1,5.31,5.31,0,0,0,8.1,4.9,5.31,5.31,0,0,0,12,6.5,5.46,5.46,0,0,0,6.5,12Z\"/>\n",
              "  </svg>\n",
              "    </button>\n",
              "    <script>\n",
              "      (() => {\n",
              "      const buttonEl =\n",
              "        document.querySelector('#id_b1db2ad3-2139-4630-8654-c088854efe6b button.colab-df-generate');\n",
              "      buttonEl.style.display =\n",
              "        google.colab.kernel.accessAllowed ? 'block' : 'none';\n",
              "\n",
              "      buttonEl.onclick = () => {\n",
              "        google.colab.notebook.generateWithVariable('df');\n",
              "      }\n",
              "      })();\n",
              "    </script>\n",
              "  </div>\n",
              "\n",
              "    </div>\n",
              "  </div>\n"
            ],
            "text/plain": [
              "          id                                              title  \\\n",
              "0          0  House Dem Aide: We Didn’t Even See Comey’s Let...   \n",
              "1          1  FLYNN: Hillary Clinton, Big Woman on Campus - ...   \n",
              "2          2                  Why the Truth Might Get You Fired   \n",
              "3          3  15 Civilians Killed In Single US Airstrike Hav...   \n",
              "4          4  Iranian woman jailed for fictional unpublished...   \n",
              "...      ...                                                ...   \n",
              "20795  20795  Rapper T.I.: Trump a ’Poster Child For White S...   \n",
              "20796  20796  N.F.L. Playoffs: Schedule, Matchups and Odds -...   \n",
              "20797  20797  Macy’s Is Said to Receive Takeover Approach by...   \n",
              "20798  20798  NATO, Russia To Hold Parallel Exercises In Bal...   \n",
              "20799  20799                          What Keeps the F-35 Alive   \n",
              "\n",
              "                                          author  \\\n",
              "0                                  Darrell Lucus   \n",
              "1                                Daniel J. Flynn   \n",
              "2                             Consortiumnews.com   \n",
              "3                                Jessica Purkiss   \n",
              "4                                 Howard Portnoy   \n",
              "...                                          ...   \n",
              "20795                              Jerome Hudson   \n",
              "20796                           Benjamin Hoffman   \n",
              "20797  Michael J. de la Merced and Rachel Abrams   \n",
              "20798                                Alex Ansary   \n",
              "20799                              David Swanson   \n",
              "\n",
              "                                                    text  label  \n",
              "0      House Dem Aide: We Didn’t Even See Comey’s Let...      1  \n",
              "1      Ever get the feeling your life circles the rou...      0  \n",
              "2      Why the Truth Might Get You Fired October 29, ...      1  \n",
              "3      Videos 15 Civilians Killed In Single US Airstr...      1  \n",
              "4      Print \\nAn Iranian woman has been sentenced to...      1  \n",
              "...                                                  ...    ...  \n",
              "20795  Rapper T. I. unloaded on black celebrities who...      0  \n",
              "20796  When the Green Bay Packers lost to the Washing...      0  \n",
              "20797  The Macy’s of today grew from the union of sev...      0  \n",
              "20798  NATO, Russia To Hold Parallel Exercises In Bal...      1  \n",
              "20799    David Swanson is an author, activist, journa...      1  \n",
              "\n",
              "[20800 rows x 5 columns]"
            ]
          },
          "execution_count": 5,
          "metadata": {},
          "output_type": "execute_result"
        }
      ],
      "source": [
        "df"
      ]
    },
    {
      "cell_type": "code",
      "execution_count": null,
      "metadata": {
        "colab": {
          "base_uri": "https://localhost:8080/"
        },
        "id": "xeo4hNvWGOm5",
        "outputId": "c43e53a5-cfca-40a9-b590-798d3279b09e"
      },
      "outputs": [
        {
          "data": {
            "text/plain": [
              "(20800, 5)"
            ]
          },
          "execution_count": 6,
          "metadata": {},
          "output_type": "execute_result"
        }
      ],
      "source": [
        "df.shape"
      ]
    },
    {
      "cell_type": "code",
      "execution_count": null,
      "metadata": {
        "id": "acX8RFT4GyMs"
      },
      "outputs": [],
      "source": [
        "pd.set_option('display.max_colwidth',1)"
      ]
    },
    {
      "cell_type": "code",
      "execution_count": null,
      "metadata": {
        "colab": {
          "base_uri": "https://localhost:8080/",
          "height": 478
        },
        "id": "F3-qhuItG9Tn",
        "outputId": "31960b9c-ede1-4990-df48-130a9fe0ddc9"
      },
      "outputs": [
        {
          "data": {
            "text/html": [
              "<div>\n",
              "<style scoped>\n",
              "    .dataframe tbody tr th:only-of-type {\n",
              "        vertical-align: middle;\n",
              "    }\n",
              "\n",
              "    .dataframe tbody tr th {\n",
              "        vertical-align: top;\n",
              "    }\n",
              "\n",
              "    .dataframe thead th {\n",
              "        text-align: right;\n",
              "    }\n",
              "</style>\n",
              "<table border=\"1\" class=\"dataframe\">\n",
              "  <thead>\n",
              "    <tr style=\"text-align: right;\">\n",
              "      <th></th>\n",
              "      <th>title</th>\n",
              "    </tr>\n",
              "  </thead>\n",
              "  <tbody>\n",
              "    <tr>\n",
              "      <th>0</th>\n",
              "      <td>House Dem Aide: We Didn’t Even See Comey’s Letter Until Jason Chaffetz Tweeted It</td>\n",
              "    </tr>\n",
              "    <tr>\n",
              "      <th>1</th>\n",
              "      <td>FLYNN: Hillary Clinton, Big Woman on Campus - Breitbart</td>\n",
              "    </tr>\n",
              "    <tr>\n",
              "      <th>2</th>\n",
              "      <td>Why the Truth Might Get You Fired</td>\n",
              "    </tr>\n",
              "    <tr>\n",
              "      <th>3</th>\n",
              "      <td>15 Civilians Killed In Single US Airstrike Have Been Identified</td>\n",
              "    </tr>\n",
              "    <tr>\n",
              "      <th>4</th>\n",
              "      <td>Iranian woman jailed for fictional unpublished story about woman stoned to death for adultery</td>\n",
              "    </tr>\n",
              "    <tr>\n",
              "      <th>...</th>\n",
              "      <td>...</td>\n",
              "    </tr>\n",
              "    <tr>\n",
              "      <th>20795</th>\n",
              "      <td>Rapper T.I.: Trump a ’Poster Child For White Supremacy’</td>\n",
              "    </tr>\n",
              "    <tr>\n",
              "      <th>20796</th>\n",
              "      <td>N.F.L. Playoffs: Schedule, Matchups and Odds - The New York Times</td>\n",
              "    </tr>\n",
              "    <tr>\n",
              "      <th>20797</th>\n",
              "      <td>Macy’s Is Said to Receive Takeover Approach by Hudson’s Bay - The New York Times</td>\n",
              "    </tr>\n",
              "    <tr>\n",
              "      <th>20798</th>\n",
              "      <td>NATO, Russia To Hold Parallel Exercises In Balkans</td>\n",
              "    </tr>\n",
              "    <tr>\n",
              "      <th>20799</th>\n",
              "      <td>What Keeps the F-35 Alive</td>\n",
              "    </tr>\n",
              "  </tbody>\n",
              "</table>\n",
              "<p>20800 rows × 1 columns</p>\n",
              "</div><br><label><b>dtype:</b> object</label>"
            ],
            "text/plain": [
              "0        House Dem Aide: We Didn’t Even See Comey’s Letter Until Jason Chaffetz Tweeted It            \n",
              "1        FLYNN: Hillary Clinton, Big Woman on Campus - Breitbart                                      \n",
              "2        Why the Truth Might Get You Fired                                                            \n",
              "3        15 Civilians Killed In Single US Airstrike Have Been Identified                              \n",
              "4        Iranian woman jailed for fictional unpublished story about woman stoned to death for adultery\n",
              "                                                     ...                                              \n",
              "20795    Rapper T.I.: Trump a ’Poster Child For White Supremacy’                                      \n",
              "20796    N.F.L. Playoffs: Schedule, Matchups and Odds - The New York Times                            \n",
              "20797    Macy’s Is Said to Receive Takeover Approach by Hudson’s Bay - The New York Times             \n",
              "20798    NATO, Russia To Hold Parallel Exercises In Balkans                                           \n",
              "20799    What Keeps the F-35 Alive                                                                    \n",
              "Name: title, Length: 20800, dtype: object"
            ]
          },
          "execution_count": 8,
          "metadata": {},
          "output_type": "execute_result"
        }
      ],
      "source": [
        "df['title']"
      ]
    },
    {
      "cell_type": "code",
      "execution_count": null,
      "metadata": {
        "colab": {
          "base_uri": "https://localhost:8080/",
          "height": 1000
        },
        "collapsed": true,
        "id": "cXQf3XHUHG7d",
        "outputId": "00d6ae7b-84d8-45e9-876f-4b84d18001a8"
      },
      "outputs": [
        {
          "data": {
            "text/html": [
              "<div>\n",
              "<style scoped>\n",
              "    .dataframe tbody tr th:only-of-type {\n",
              "        vertical-align: middle;\n",
              "    }\n",
              "\n",
              "    .dataframe tbody tr th {\n",
              "        vertical-align: top;\n",
              "    }\n",
              "\n",
              "    .dataframe thead th {\n",
              "        text-align: right;\n",
              "    }\n",
              "</style>\n",
              "<table border=\"1\" class=\"dataframe\">\n",
              "  <thead>\n",
              "    <tr style=\"text-align: right;\">\n",
              "      <th></th>\n",
              "      <th>text</th>\n",
              "    </tr>\n",
              "  </thead>\n",
              "  <tbody>\n",
              "    <tr>\n",
              "      <th>0</th>\n",
              "      <td>House Dem Aide: We Didn’t Even See Comey’s Letter Until Jason Chaffetz Tweeted It By Darrell Lucus on October 30, 2016 Subscribe Jason Chaffetz on the stump in American Fork, Utah ( image courtesy Michael Jolley, available under a Creative Commons-BY license) \\nWith apologies to Keith Olbermann, there is no doubt who the Worst Person in The World is this week–FBI Director James Comey. But according to a House Democratic aide, it looks like we also know who the second-worst person is as well. It turns out that when Comey sent his now-infamous letter announcing that the FBI was looking into emails that may be related to Hillary Clinton’s email server, the ranking Democrats on the relevant committees didn’t hear about it from Comey. They found out via a tweet from one of the Republican committee chairmen. \\nAs we now know, Comey notified the Republican chairmen and Democratic ranking members of the House Intelligence, Judiciary, and Oversight committees that his agency was reviewing emails it had recently discovered in order to see if they contained classified information. Not long after this letter went out, Oversight Committee Chairman Jason Chaffetz set the political world ablaze with this tweet. FBI Dir just informed me, \"The FBI has learned of the existence of emails that appear to be pertinent to the investigation.\" Case reopened \\n— Jason Chaffetz (@jasoninthehouse) October 28, 2016 \\nOf course, we now know that this was not the case . Comey was actually saying that it was reviewing the emails in light of “an unrelated case”–which we now know to be Anthony Weiner’s sexting with a teenager. But apparently such little things as facts didn’t matter to Chaffetz. The Utah Republican had already vowed to initiate a raft of investigations if Hillary wins–at least two years’ worth, and possibly an entire term’s worth of them. Apparently Chaffetz thought the FBI was already doing his work for him–resulting in a tweet that briefly roiled the nation before cooler heads realized it was a dud. \\nBut according to a senior House Democratic aide, misreading that letter may have been the least of Chaffetz’ sins. That aide told Shareblue that his boss and other Democrats didn’t even know about Comey’s letter at the time–and only found out when they checked Twitter. “Democratic Ranking Members on the relevant committees didn’t receive Comey’s letter until after the Republican Chairmen. In fact, the Democratic Ranking Members didn’ receive it until after the Chairman of the Oversight and Government Reform Committee, Jason Chaffetz, tweeted it out and made it public.” \\nSo let’s see if we’ve got this right. The FBI director tells Chaffetz and other GOP committee chairmen about a major development in a potentially politically explosive investigation, and neither Chaffetz nor his other colleagues had the courtesy to let their Democratic counterparts know about it. Instead, according to this aide, he made them find out about it on Twitter. \\nThere has already been talk on Daily Kos that Comey himself provided advance notice of this letter to Chaffetz and other Republicans, giving them time to turn on the spin machine. That may make for good theater, but there is nothing so far that even suggests this is the case. After all, there is nothing so far that suggests that Comey was anything other than grossly incompetent and tone-deaf. \\nWhat it does suggest, however, is that Chaffetz is acting in a way that makes Dan Burton and Darrell Issa look like models of responsibility and bipartisanship. He didn’t even have the decency to notify ranking member Elijah Cummings about something this explosive. If that doesn’t trample on basic standards of fairness, I don’t know what does. \\nGranted, it’s not likely that Chaffetz will have to answer for this. He sits in a ridiculously Republican district anchored in Provo and Orem; it has a Cook Partisan Voting Index of R+25, and gave Mitt Romney a punishing 78 percent of the vote in 2012. Moreover, the Republican House leadership has given its full support to Chaffetz’ planned fishing expedition. But that doesn’t mean we can’t turn the hot lights on him. After all, he is a textbook example of what the House has become under Republican control. And he is also the Second Worst Person in the World. About Darrell Lucus \\nDarrell is a 30-something graduate of the University of North Carolina who considers himself a journalist of the old school. An attempt to turn him into a member of the religious right in college only succeeded in turning him into the religious right's worst nightmare--a charismatic Christian who is an unapologetic liberal. His desire to stand up for those who have been scared into silence only increased when he survived an abusive three-year marriage. You may know him on Daily Kos as Christian Dem in NC . Follow him on Twitter @DarrellLucus or connect with him on Facebook . Click here to buy Darrell a Mello Yello. Connect</td>\n",
              "    </tr>\n",
              "    <tr>\n",
              "      <th>1</th>\n",
              "      <td>Ever get the feeling your life circles the roundabout rather than heads in a straight line toward the intended destination? [Hillary Clinton remains the big woman on campus in leafy, liberal Wellesley, Massachusetts. Everywhere else votes her most likely to don her inauguration dress for the remainder of her days the way Miss Havisham forever wore that wedding dress.  Speaking of Great Expectations, Hillary Rodham overflowed with them 48 years ago when she first addressed a Wellesley graduating class. The president of the college informed those gathered in 1969 that the students needed “no debate so far as I could ascertain as to who their spokesman was to be” (kind of the like the Democratic primaries in 2016 minus the   terms unknown then even at a Seven Sisters school). “I am very glad that Miss Adams made it clear that what I am speaking for today is all of us —  the 400 of us,” Miss Rodham told her classmates. After appointing herself Edger Bergen to the Charlie McCarthys and Mortimer Snerds in attendance, the    bespectacled in granny glasses (awarding her matronly wisdom —  or at least John Lennon wisdom) took issue with the previous speaker. Despite becoming the first   to win election to a seat in the U. S. Senate since Reconstruction, Edward Brooke came in for criticism for calling for “empathy” for the goals of protestors as he criticized tactics. Though Clinton in her senior thesis on Saul Alinsky lamented “Black Power demagogues” and “elitist arrogance and repressive intolerance” within the New Left, similar words coming out of a Republican necessitated a brief rebuttal. “Trust,” Rodham ironically observed in 1969, “this is one word that when I asked the class at our rehearsal what it was they wanted me to say for them, everyone came up to me and said ‘Talk about trust, talk about the lack of trust both for us and the way we feel about others. Talk about the trust bust.’ What can you say about it? What can you say about a feeling that permeates a generation and that perhaps is not even understood by those who are distrusted?” The “trust bust” certainly busted Clinton’s 2016 plans. She certainly did not even understand that people distrusted her. After Whitewater, Travelgate, the vast   conspiracy, Benghazi, and the missing emails, Clinton found herself the distrusted voice on Friday. There was a load of compromising on the road to the broadening of her political horizons. And distrust from the American people —  Trump edged her 48 percent to 38 percent on the question immediately prior to November’s election —  stood as a major reason for the closing of those horizons. Clinton described her vanquisher and his supporters as embracing a “lie,” a “con,” “alternative facts,” and “a   assault on truth and reason. ” She failed to explain why the American people chose his lies over her truth. “As the history majors among you here today know all too well, when people in power invent their own facts and attack those who question them, it can mark the beginning of the end of a free society,” she offered. “That is not hyperbole. ” Like so many people to emerge from the 1960s, Hillary Clinton embarked upon a long, strange trip. From high school Goldwater Girl and Wellesley College Republican president to Democratic politician, Clinton drank in the times and the place that gave her a degree. More significantly, she went from idealist to cynic, as a comparison of her two Wellesley commencement addresses show. Way back when, she lamented that “for too long our leaders have viewed politics as the art of the possible, and the challenge now is to practice politics as the art of making what appears to be impossible possible. ” Now, as the big woman on campus but the odd woman out of the White House, she wonders how her current station is even possible. “Why aren’t I 50 points ahead?” she asked in September. In May she asks why she isn’t president. The woman famously dubbed a “congenital liar” by Bill Safire concludes that lies did her in —  theirs, mind you, not hers. Getting stood up on Election Day, like finding yourself the jilted bride on your wedding day, inspires dangerous delusions.</td>\n",
              "    </tr>\n",
              "    <tr>\n",
              "      <th>2</th>\n",
              "      <td>Why the Truth Might Get You Fired October 29, 2016 \\nThe tension between intelligence analysts and political policymakers has always been between honest assessments and desired results, with the latter often overwhelming the former, as in the Iraq War, writes Lawrence Davidson. \\nBy Lawrence Davidson \\nFor those who might wonder why foreign policy makers repeatedly make bad choices, some insight might be drawn from the following analysis. The action here plays out in the United States, but the lessons are probably universal. \\nBack in the early spring of 2003, George W. Bush initiated the invasion of Iraq. One of his key public reasons for doing so was the claim that the country’s dictator, Saddam Hussein, was on the verge of developing nuclear weapons and was hiding other weapons of mass destruction. The real reason went beyond that charge and included a long-range plan for “regime change” in the Middle East. President George W. Bush and Vice President Dick Cheney receive an Oval Office briefing from CIA Director George Tenet. Also present is Chief of Staff Andy Card (on right). (White House photo) \\nFor our purposes, we will concentrate on the belief that Iraq was about to become a hostile nuclear power. Why did President Bush and his close associates accept this scenario so readily? \\nThe short answer is Bush wanted, indeed needed, to believe it as a rationale for invading Iraq. At first he had tried to connect Saddam Hussein to the 9/11 attacks on the U.S. Though he never gave up on that stratagem, the lack of evidence made it difficult to rally an American people, already fixated on Afghanistan, to support a war against Baghdad. \\nBut the nuclear weapons gambit proved more fruitful, not because there was any hard evidence for the charge, but because supposedly reliable witnesses, in the persons of exiled anti-Saddam Iraqis (many on the U.S. government’s payroll ), kept telling Bush and his advisers that the nuclear story was true. \\nWhat we had was a U.S. leadership cadre whose worldview literally demanded a mortally dangerous Iraq, and informants who, in order to precipitate the overthrow of Saddam, were willing to tell the tale of pending atomic weapons. The strong desire to believe the tale of a nuclear Iraq lowered the threshold for proof . Likewise, the repeated assertions by assumed dependable Iraqi sources underpinned a nationwide U.S. campaign generating both fear and war fever. \\nSo the U.S. and its allies insisted that the United Nations send in weapons inspectors to scour Iraq for evidence of a nuclear weapons program (as well as chemical and biological weapons). That the inspectors could find no convincing evidence only frustrated the Bush administration and soon forced its hand. \\nOn March 19, 2003, Bush launched the invasion of Iraq with the expectation was that, once in occupation of the country, U.S. inspectors would surely find evidence of those nukes (or at least stockpiles of chemical and biological weapons). They did not. Their Iraqi informants had systematically lied to them. \\nSocial and Behavioral Sciences to the Rescue? \\nThe various U.S. intelligence agencies were thoroughly shaken by this affair, and today, 13 years later, their directors and managers are still trying to sort it out – specifically, how to tell when they are getting “true” intelligence and when they are being lied to. Or, as one intelligence worker has put it, we need “ help to protect us against armies of snake oil salesmen. ” To that end the CIA et al. are in the market for academic assistance. Ahmed Chalabi, head of the Iraqi National Congress, a key supplier of Iraqi defectors with bogus stories of hidden WMD. \\nA “partnership” is being forged between the Office of the Director of National Intelligence (ODNI), which serves as the coordinating center for the sixteen independent U.S. intelligence agencies, and the National Academies of Sciences, Engineering and Medicine . The result of this collaboration will be a “ permanent Intelligence Community Studies Board” to coordinate programs in “social and behavioral science research [that] might strengthen national security .” \\nDespite this effort, it is almost certain that the “social and behavioral sciences” cannot give the spy agencies what they want – a way of detecting lies that is better than their present standard procedures of polygraph tests and interrogations. But even if they could, it might well make no difference, because the real problem is not to be found with the liars. It is to be found with the believers. \\nThe Believers \\nIt is simply not true, as the ODNI leaders seem to assert, that U.S. intelligence agency personnel cannot tell, more often than not, that they are being lied to. This is the case because there are thousands of middle-echelon intelligence workers, desk officers, and specialists who know something closely approaching the truth – that is, they know pretty well what is going on in places like Afghanistan, Iraq, Syria, Libya, Israel, Palestine and elsewhere. Director of National Intelligence James Clapper (right) talks with President Barack Obama in the Oval Office, with John Brennan and other national security aides present. (Photo credit: Office of Director of National Intelligence) \\nTherefore, if someone feeds them “snake oil,” they usually know it. However, having an accurate grasp of things is often to no avail because their superiors – those who got their appointments by accepting a pre-structured worldview – have different criterion for what is “true” than do the analysts. \\nListen to Charles Gaukel, of the National Intelligence Council – yet another organization that acts as a meeting ground for the 16 intelligence agencies. Referring to the search for a way to avoid getting taken in by lies, Gaukel has declared, “ We’re looking for truth. But we’re particularly looking for truth that works. ” Now what might that mean? \\nI can certainly tell you what it means historically. It means that for the power brokers, “truth” must match up, fit with, their worldview – their political and ideological precepts. If it does not fit, it does not “work.” So the intelligence specialists who send their usually accurate assessments up the line to the policy makers often hit a roadblock caused by “group think,” ideological blinkers, and a “we know better” attitude. \\nOn the other hand, as long as what you’re selling the leadership matches up with what they want to believe, you can peddle them anything: imaginary Iraqi nukes, Israel as a Western-style democracy, Saudi Arabia as an indispensable ally, Libya as a liberated country, Bashar al-Assad as the real roadblock to peace in Syria, the Strategic Defense Initiative (SDI) aka Star Wars, a world that is getting colder and not warmer, American exceptionalism in all its glory – the list is almost endless. \\nWhat does this sad tale tell us? If you want to spend millions of dollars on social and behavioral science research to improve the assessment and use of intelligence, forget about the liars. What you want to look for is an antidote to the narrow-mindedness of the believers – the policymakers who seem not to be able to rise above the ideological presumptions of their class – presumptions that underpin their self-confidence as they lead us all down slippery slopes. \\nIt has happened this way so often, and in so many places, that it is the source of Shakespeare’s determination that “what is past, is prelude.” Our elites play out our destinies as if they have no free will – no capacity to break with structured ways of seeing. Yet the middle-echelon specialists keep sending their relatively accurate assessments up the ladder of power. Hope springs eternal.</td>\n",
              "    </tr>\n",
              "    <tr>\n",
              "      <th>3</th>\n",
              "      <td>Videos 15 Civilians Killed In Single US Airstrike Have Been Identified The rate at which civilians are being killed by American airstrikes in Afghanistan is now higher than it was in 2014 when the US was engaged in active combat operations.   Photo of Hellfire missiles being loaded onto a US military Reaper drone in Afghanistan by Staff Sgt. Brian Ferguson/U.S. Air Force. \\nThe Bureau has been able to identify 15 civilians killed in a single US drone strike in Afghanistan last month – the biggest loss of civilian life in one strike since the attack on the Medecins Sans Frontieres hospital (MSF) last October. \\nThe US claimed it had conducted a “counter-terrorism” strike against Islamic State (IS) fighters when it hit Nangarhar province with missiles on September 28. But the next day the United Nations issued an unusually rapid and strong statement saying the strike had killed 15 civilians and injured 13 others who had gathered at a house to celebrate a tribal elder’s return from a pilgrimage to Mecca. \\nThe Bureau spoke to a man named Haji Rais who said he was the owner of the house that was targeted. He said 15 people were killed and 19 others injured, and provided their names (listed below). The Bureau was able to independently verify the identities of those who died. \\nRais’ son, a headmaster at a local school, was among them. Another man, Abdul Hakim, lost three of his sons in the attack. \\nRais said he had no involvement with IS and denied US claims that IS members had visited his house before the strike. He said: “I did not even speak to those sort of people on the phone let alone receiving them in my house.” \\nThe deaths amount to the biggest confirmed loss of civilian life in a single American strike in Afghanistan since the attack on the MSF hospital in Kunduz last October, which killed at least 42 people. \\nThe Nangarhar strike was not the only US attack to kill civilians in September. The Bureau’s data indicates that as many as 45 civilians and allied soldiers were killed in four American strikes in Afghanistan and Somalia that month. \\nOn September 18 a pair of strikes killed eight Afghan policemen in Tarinkot, the capital of Urozgan provice. US jets reportedly hit a police checkpoint, killing one officer, before returning to target first responders. The use of this tactic – known as a “double-tap” strike – is controversial because they often hit civilian rescuers. \\nThe US told the Bureau it had conducted the strike against individuals firing on and posing a threat to Afghan forces. The email did not directly address the allegations of Afghan policemen being killed. \\nAt the end of the month in Somalia, citizens burnt US flags on the streets of the north-central city of Galcayo after it emerged a drone attack may have unintentionally killed 22 Somali soldiers and civilians. The strike occurred on the same day as the one in Nangarhar. \\nIn both the Somali and Afghan incidents, the US at first denied that any non-combatants had been killed. It is now investigating both the strikes in Nangarhar and Galcayo. \\nThe rate at which civilians are being killed by American airstrikes in Afghanistan is now higher than it was in 2014 when the US was engaged in active combat operations. Name</td>\n",
              "    </tr>\n",
              "    <tr>\n",
              "      <th>4</th>\n",
              "      <td>Print \\nAn Iranian woman has been sentenced to six years in prison after Iran’s Revolutionary Guard searched her home and found a notebook that contained a fictional story she’d written about a woman who was stoned to death, according to the Eurasia Review . \\nGolrokh Ebrahimi Iraee, 35, is the wife of political prisoner Arash Sadeghi, 36, who is serving a 19-year prison sentence for being a human rights activist, the publication reported. \\n“When the intelligence unit of the Revolutionary Guards came to arrest her husband, they raided their apartment – without a warrant – and found drafts of stories that Ebrahimi Iraee had written,” the article stated. \\n“One of the confiscated drafts was a story about stoning women to death for adultery – never published, never presented to anyone,” the article stated. “The narrative followed the story of a protagonist that watched a movie about stoning of women under Islamic law for adultery.</td>\n",
              "    </tr>\n",
              "    <tr>\n",
              "      <th>...</th>\n",
              "      <td>...</td>\n",
              "    </tr>\n",
              "    <tr>\n",
              "      <th>20795</th>\n",
              "      <td>Rapper T. I. unloaded on black celebrities who met with Donald Trump after the election, saying they failed to challenge the president for disrespecting and degrading black voters during the campaign. [The Atlanta —  based artist told the   of The View Thursday that he took issue with talk show host Steve Harvey,   Kanye West, and football Hall of Famer and civil rights champion Jim Brown meeting with Trump.  “Before you stand and smile and say this is a good man and take pictures, what about addressing the disrespect and disregard for our community that was done?” T. I. said, adding “And what about him being the poster child for white supremacy and standing for the people who look to devalue our lives?” The   star of the VH1 reality show T. I.  Tiny: The Family Hustle also defended fellow rapper Snoop Dogg, who recently starred in a   music video that sees the “Doggystyle” rapper pull a gun on and “shoot” a parody clown version of President Donald Trump. “Whatever Snoop said, he had the right to say. He’s protected by the Constitution in saying it,” T. I. said. “We have to protect our legends. We have to protect our heroes and the people who mean something to us and our community and our culture. ” The View   Sunny Hostin suggested that Trump advisor Omarosa Manigault has stated the administration’s intention to “bridge the gap” between the White House and the black community, to which T. I. responded with a personal insult. “She can’t even bridge the gap in her teeth,” the rapper said. T. I. had originally defended Snoop Dogg and his controversial video in an Instagram message, calling Trump a “f*cking tangerine tanned muskrat scrotum skin, lacefront possum fur wig wearing, alternative fact, atomic dog diarrhea face ass man [sic]. ”   Follow Jerome Hudson on Twitter: @JeromeEHudson</td>\n",
              "    </tr>\n",
              "    <tr>\n",
              "      <th>20796</th>\n",
              "      <td>When the Green Bay Packers lost to the Washington Redskins in Week 11, dropping to   Aaron Rodgers vowed to “run the table” in a march to the playoffs. With a   victory over the Detroit Lions on Sunday night, the team fulfilled Rodgers’ promise. Much of the drama of the matchup between division rivals was eliminated earlier in the day when the Redskins lost to the Giants, thus guaranteeing both the Packers and Lions would be playoff teams, but the N. F. C. North bragging rights, and a home game in the first round of the playoffs, were sufficient motivation for Green Bay to push hard enough to secure the team’s sixth consecutive win and the third consecutive loss for Detroit. Pundits had spent the week deciphering all of the wild scenarios that could play out for positioning among the remaining teams. But when all was said and done, ten of the teams that were in line for a playoff spot remained in the same seeding order. No. 6 Detroit Lions at No. 3 Seattle Seahawks Time: 8:15 p. m. Eastern SATURDAY on NBC The Seahawks’ title hopes took a crushing blow when Earl Thomas was lost for the season with a broken leg. After the injury, the Seahawks went   with the wins coming with major asterisks as they came against the   Rams and 49ers. That collapse paled in comparison to the Lions, who lost their final three games, blowing what had been a large division lead against Green Bay. Line: Seahawks   ( : 43) No. 5 Giants at No. 4 Green Bay Packers Time: 4:40 p. m. Eastern SUNDAY on Fox Thanks to playing in the N. F. C. East, home of the   Dallas Cowboys, the Giants managed to tie Atlanta for the   record in the N. F. C. but got stuck with the No. 5 seed in the playoffs and a road game against a   Packers squad that won its final six games. The good news for the Giants is that superstitious fans will note that the last two times they played the Packers on the road in the playoffs, they not only won the games but went on to win the Super Bowl both times. Line: Packers   ( : 44. 5) Bye weeks: Dallas, Atlanta No. 5 Oakland Raiders at No. 4 Houston Texans Time: 4:35 p. m. Eastern SATURDAY on ESPN Line: Texans   ( : 37) The Texans were the least inspiring of the N. F. L. ’s division champions and that was complicated further when Tom Savage, whom the team had elevated to starting quarterback after the benching of Brock Osweiler, was forced to leave Week 17’s loss to Tennessee with a concussion. As bad as that sounds, it may still be enough against a reeling Oakland squad that lost Derek Carr to a broken leg in Week 16, Matt McGloin to a shoulder injury in Week 17, and fell all the way from the No. 2 seed in the A. F. C. to No. 5. It is unclear at this point if McGloin or rookie Connor Cook will start at quarterback against Houston. No. 6 Miami Dolphins at No. 3 Pittsburgh Steelers Time: 1:05 p. m. Eastern SUNDAY on CBS The Dolphins were a contender when the team’s quarterback, Ryan Tannehill, was lost in Week 14 with injured ligaments in his left knee. Thanks to backup quarterback Matt Moore, and Jay Ajayi, the team’s   running back, they won two of three games and secured a   berth. But going up against a   offense like Pittsburgh is a tough test for Miami’s middling defense, even if Tannehill’s knee heals enough to allow him to return. Line: Steelers  .5 ( : 47. 5) Bye weeks: New England, Kansas City With four teams vying for two N. F. C. playoff spots, all eyes were on the   game on Sunday. A Redskins victory could have caused movement in the seedings, with the Lions and Packers playing a     evening matchup. The Giants, who had already locked up the No. 5 seed and had nothing to gain, threw a wrench in the Redskins’ plans, eliminating their division rivals with a decisive   victory. With the drama essentially taken out of the N. F. C. all of the playoff movement Sunday occurred in the A. F. C. where there was a   at the top of the standings in the A. F. C. West. Just a week after losing Derek Carr, the team’s quarterback and a legitimate candidate for most valuable player, to a broken leg, the Oakland Raiders were crushed   by the Denver Broncos. That, combined with the Kansas City Chiefs’   victory over the San Diego Chargers vaulted the Chiefs from a   spot all the way to the No. 2 seed in the A. F. C. which comes with a   bye in the playoffs. The loss for Oakland added to the misery of the Raiders, who have gone from Super Bowl contenders last week to a   team that will play on the road in Houston next week potentially with a   quarterback under center as Carr’s backup, Matt McGloin, injured his shoulder in the loss to the Broncos. Beyond the switch to the Chiefs as the No.   in the A. F. C. it was business as usual for the teams that will get bye weeks in the playoffs. The New England Patriots secured the No. 1 spot in the A. F. C. with a win over Miami, the Dallas Cowboys were already guaranteed the No. 1 spot in the N. F. C. before their loss to Philadelphia, and the Atlanta Falcons held onto the No. 2 seed in the N. F. C. with a   win over New Orleans. The only remaining chance for a minor   was for the Packers, who led their division by virtue of a tiebreaker, to lose to the Lions, which would have forced them to play on the road in the   round of the playoffs. But the    aspect of the de facto N. F. C. North championship went away when the Redskins lost to the Giants, which eliminated the Redskins from   contention. While most of the races were straight forward, one of the crazier playoff scenarios that had been discussed before the week was the possibility that the Tampa Bay Buccaneers could find themselves in the playoffs. They simply had to shoot the moon by beating the Carolina Panthers, having the Redskins tie the Giants, the Packers lose to the Lions, and should all of that happen they simply required wins by Indianapolis, Dallas, Tennessee and San Francisco to top the Packers in strength of schedule. Tampa Bay took care of their end by beating the Panthers early in the day, but they were eliminated officially when Dallas lost to Philadelphia.</td>\n",
              "    </tr>\n",
              "    <tr>\n",
              "      <th>20797</th>\n",
              "      <td>The Macy’s of today grew from the union of several great names in American retailing, including its namesake chain, Bloomingdale’s and Marshall Field’s. But the ambitious owner of Saks Fifth Avenue has broached the idea of taking the union even further, combining with Macy’s to create a department store juggernaut at a time when the industry is reeling. Hudson’s Bay Company, the Canadian owner of Saks, has approached Macy’s about a potential takeover, people briefed on the matter who were not authorized to speak publicly said on Friday. Talks between the two companies are at an early stage and may still fall apart or lead to a partnership of some kind rather than a sale. While it is unclear whether a deal will happen, a combination could lift the fortunes of Macy’s, the country’s biggest department store, which has been struggling. Investors certainly appeared to see it that way. Shares of Macy’s rose as much as 12 percent on Friday, its biggest intraday gain since Aug. 11, according to data from Bloomberg. Once a retail titan, Macy’s has struggled to remain relevant as   and discount retailers have decimated the traditional    business. Last month, Macy’s announced plans to cut more than 10, 000 jobs and close some of its 880 stores. Terry Lundgren, its chief executive and the architect of Macy’s last big merger, is expected to step down by the end of March. He will be succeeded by the company’s president, Jeffrey Gennette. Since the recession, shoppers have grown accustomed to hunt for bargains and to not pay full price. Discount stores and outlet malls have flourished. Traditional stores have been compelled to respond by trimming prices, which cuts into their margins. Departments stores have been hit especially hard, particularly as shoppers migrate away from malls. What has emerged, analysts say, is a virtual race to the bottom. That has been particularly difficult for Macy’s, born of a series of mergers over the past two decades that made it a juggernaut in the industry. A stalwart of the middle tier of retail, the company has neither the advantages of   retailers like HM nor the   stores. In addition, Macy’s faces increasingly fierce competition online from sites like Amazon and elsewhere. Macy’s troubles have drawn the attention of a prominent activist hedge fund, Starboard Value, which has urged the company to generate cash by selling the real estate beneath its stores. Starboard, which held just under 1 percent of Macy’s shares as of Sept. 30, had previously estimated the value of that land at about $21 billion. On Friday, analysts at Citigroup estimated that Macy’s   holdings could be worth at least $18 billion. Macy’s market value, by comparison, was just under $11 billion as of Friday morning. Macy’s has taken some steps to sell or redevelop stores, and last year, it added an expert on real estate transactions to its board. But the company has largely resisted more ambitious efforts to divest its real estate, including     deals, in which a company sells the underlying land beneath its stores and then rents it back. The company’s suitor, Hudson’s Bay Company, is far smaller  —   its market value was about 1. 9 billion Canadian dollars, or $1. 5 billion  —   but is known for its bold steps. Hudson’s Bay Company has assembled a growing empire that includes the Hudson’s Bay department store chain, Lord  Taylor and its crown jewel, Saks. And the governor and executive chairman of the Hudson’s Bay Company, Richard Baker, has shown little fear of using debt: In November 2014, the company borrowed nearly $4 billion against the Saks flagship in Midtown Manhattan. He has spoken often of retailers’ need to highlight the value of their real estate. Financing a bid for Macy’s may be trickier, however, because the it carries about $6. 5 billion in   debt. That may mean that the Hudson’s Bay Company will have to bring in a partner or borrow against more of its real estate holdings. A spokesman for the Hudson’s Bay Company declined to comment on the talks, which were reported earlier by The Wall Street Journal. “We do not comment on rumors and speculation,” a representative for Macy’s said. A representative for Starboard Value did not respond to a request for comment. Some analysts said that they saw the merit of a potential combination, particularly given Macy’s operational woes and Mr. Baker’s expertise in wringing money out of real estate. “There is a clear logic, despite disparity in   cap” between Macy’s and Hudson’s Bay Company, Craig Johnson, the president of Customer Growth Partners, a research firm, said in a note. Referring to Macy’s stock ticker symbol, he added, “The retail market has been changing faster than M has been able to keep up with, whether the flight from the mall or the migration online. ”</td>\n",
              "    </tr>\n",
              "    <tr>\n",
              "      <th>20798</th>\n",
              "      <td>NATO, Russia To Hold Parallel Exercises In Balkans 11/02/2016 \\nPRESS TV \\nRussia’s military and NATO forces are holding parallel military exercises in two neighboring Balkan countries. \\nRussian troops will participate in war games in Serbia while NATO is conducting military drills in Montenegro, media reported on Monday. \\nRussian forces’ 13-day military exercise in Serbia is named “The Slavic Brotherhood 2016” and begins on Wednesday. \\nIt will include 150 Russian paratroopers, 50 air force staffers, three transport planes and an unspecified number of troops from Serbia and Belarus, Russia’s Defense Ministry said. \\nThe five-day NATO drill in Montenegro started on Monday and involves responding to floods and chemical attacks. It will involve 680 unarmed personnel from seven NATO countries and 10 partner states. \\nIn the past both Serbia and Montenegro were constitutional republics of the Socialist Federal Republic of Yugoslavia. \\nBoth countries are socialist republics and traditional Russian Christian Orthodox allies. In 2003 this state union was re-formed into Serbia and Montenegro, and in 2006 the two became independent states. \\nSince their split, the two Balkan neighbors seem to have headed in different directions strategically. \\nMontenegro has taken a pro-Western stance which has been awarded by NATO with an offer to join the Northern Atlantic Alliance. \\nThe NATO invitation to Montenegro has met strong opposition from Russia. \\nMeanwhile, Montenegrin officials have accused Russia of staging an alleged coup in October to topple its pro-Western government because of the NATO accession bid. \\nSerbia, a NATO partner, has held exercises with the Western alliance, but not such a large one or with foreign troops and equipment participating on its soil.</td>\n",
              "    </tr>\n",
              "    <tr>\n",
              "      <th>20799</th>\n",
              "      <td>David Swanson is an author, activist, journalist, and radio host. He is a 2015 Nobel Peace Prize Nominee. He is director of WorldBeyondWar.com and campaign coordinator for RootsAction.org . He hosts Talk Nation Radio . Talk Nation Radio is on VT Radio and is syndicated by Pacifica Network. The show also airs on WTJU, Charlottesville, VA; WCSX-Detroit, MI; KGHI, Westport, WA; WHUS, Storrs, CT; WPRR, Grand Rapids, MI; KRFP-LP, Moscow, ID; KZGM, Cabool, MO; KMUD, Garberville, CA; WAZU, Peoria, IL; WXRD, Crown Point, IN; Geneva Radio, Geneva, NY; KKRN, Round Mountain, CA; KSKQ-LP, Ashland, OR; WUOW-LP, Oneonta, NY; No Lies Radio, Pinole, CA; WYAP-LP, Clay, WV; The Detour, Johnson City, TN; WZRD, Chicago, IL; WEFT, Champaign, IL; WXPI, Pittsburgh, PA; WDRT, Viroqua, WI; Veracity Now, online; Liberty and Justice Radio, Shirley, MA; Ithaca Community Radio, Ithaca, NY; WMCB, Greenfield, MA; PRX.org; KAOS 89.3fm, Olympia, WA; WUSB 90.1 FM, Stony Brook, NY; WOOL-FM, Bellow Falls, Vermont; WSLR-LP 96.5 in Sarasota, Florida. He also blogs at DavidSwanson.org and WarIsACrime.org And is a prolific author. His latest books are; War Is A Lie , Daybreak: Undoing the Imperial Presidency and Forming a More Perfect Union , and When the World Outlawed War Swanson holds a master's degree in philosophy from the University of Virginia. He has worked as a newspaper reporter and as a communications director, with jobs including press secretary for Dennis Kucinich's 2004 presidential campaign, media coordinator for the International Labor Communications Association, and three years as communications coordinator for ACORN, the Association of Community Organizations for Reform Now. Read his full and complete biography at DavidSwanson.org and also visit book site at War Is Crime . What Keeps the F-35 Alive By David Swanson on October 31, 2016 Petition to Stop F-35 Going Global \\nby David Swanson \\nImagine if a local business in your town invented a brand new tool that was intended to have an almost magical effect thousands of miles away. However, where the tool was kept and used locally became an area unsafe for children. Children who got near this tool tended to have increased blood pressure and increased stress hormones, lower reading skills, poorer memories, impaired auditory and speech perception, and impaired academic performance. \\nMost of us would find this situation at least a little concerning, unless the new invention was designed to murder lots of people. Then it’d be just fine. \\nNow, imagine if this same new tool ruined neighborhoods because people couldn’t safely live near it. Imagine if the government had to compensate people but kick them out of living near the location of this tool. Again, I think, we might find that troubling if mass murder were not the mission. \\nImagine also that this tool fairly frequently explodes, emitting highly toxic chemicals, particles, and fibers unsafe to breathe into the air for miles around. Normally, that’d be a problem. But if this tool is needed for killing lots of people, we’ll work with its flaws, won’t we? \\nNow, what if this new gadget was expected to cost at least $1,400,000,000,000 over 50 years? And what if that money had to be taken away from numerous other expenses more beneficial for the economy and the world? What if the $1.4 trillion was drained out of the economy causing a loss of jobs and a radical diminuition of resources for education, healthcare, housing, environmental protection, or humanitarian aid? Wouldn’t that be a worry in some cases, I mean in those cases where the ability to kill tons of human beings wasn’t at stake? \\nWhat if this product, even when working perfectly, was a leading destroyer of the earth’s natural environment? \\nWhat if this high-tech toy wasn’t even designed to do what was expected of it and wasn’t even able to do what it was designed for? \\nAmazingly, even those shortcomings do not matter as long as the intention is massive murder and destruction. Then, all is forgiven. \\nThe tool I’m describing is called the F-35. At RootsAction.org you can find a new petition launched by locally-minded people acting globally in places where the F-35 is intended to be based. Also at that link you’ll find explanations of how the tool I’ve been decribing is the F-35. \\nThe petition is directed to the United States Congress and the governments of Australia, Italy, the Netherlands, Norway, Turkey, the United Kingdom, Israel, Japan and South Korea from the world and from the people of Burlington, Vermont, and Fairbanks, Alaska, where the F-35 is to be based. This effort is being initiated by Vermont Stop the F35 Coalition, Save Our Skies Vermont, Western Maine Matters, Alaska Peace Center, University of Alaska Fairbanks Peace Club, North Star Chapter 146 Veterans For Peace, World Beyond War, RootsAction.org, Code Pink, and Ben Cohen. \\nThe petition reads: \\nThe F-35 is a weapon of offensive war, serving no defensive purpose. It is planned to cost the U.S. $1.4 trillion over 50 years. Because starvation on earth could be ended for $30 billion and the lack of clean drinking water for $11 billion per year, it is first and foremost through the wasting of resources that this airplane will kill. Military spending, contrary to popular misconception, also hurts the U.S. economy ( see here ) and other economies. The F-35 causes negative health impacts and cognitive impairment in children living near its bases. It renders housing near airports unsuitable for residential use. It has a high crash rate and horrible consequences to those living in the area of its crashes. Its emissions are a major environmental polluter. \\nWars are endangering the United States and other participating nations rather than protecting them. Nonviolent tools of law, diplomacy, aid, crisis prevention, and verifiable nuclear disarmament should be substituted for continuing counterproductive wars. Therefore, we, the undersigned, call for the immediate cancellation of the F-35 program as a whole, and the immediate cancellation of plans to base any such dangerous and noisy jets near populated areas. We oppose replacing the F-35 with any other weapon or basing the F-35 in any other locations. We further demand redirection of the money for the F-35 back into taxpayers’ pockets, and into environmental and human needs in the U.S., other F-35 customer nations, and around the world, including to fight climate change, pay off student debt, rebuild crumbling infrastructure, and improve education, healthcare, and housing. \\nAdd your name . \\nDavid Swanson is an author, activist, journalist, and radio host. He is director of WorldBeyondWar.org and campaign coordinator for RootsAction.org . Swanson’s books include War Is A Lie . He blogs at DavidSwanson.org and WarIsACrime.org . He hosts Talk Nation Radio .He is a 2015 and 2016 Nobel Peace Prize Nominee. \\nFollow him on Twitter: @davidcnswanson and FaceBook . \\nHelp support DavidSwanson.org, WarIsACrime.org, and TalkNationRadio.org by clicking here: http://davidswanson.org/donate .</td>\n",
              "    </tr>\n",
              "  </tbody>\n",
              "</table>\n",
              "<p>20800 rows × 1 columns</p>\n",
              "</div><br><label><b>dtype:</b> object</label>"
            ],
            "text/plain": [
              "0        House Dem Aide: We Didn’t Even See Comey’s Letter Until Jason Chaffetz Tweeted It By Darrell Lucus on October 30, 2016 Subscribe Jason Chaffetz on the stump in American Fork, Utah ( image courtesy Michael Jolley, available under a Creative Commons-BY license) \\nWith apologies to Keith Olbermann, there is no doubt who the Worst Person in The World is this week–FBI Director James Comey. But according to a House Democratic aide, it looks like we also know who the second-worst person is as well. It turns out that when Comey sent his now-infamous letter announcing that the FBI was looking into emails that may be related to Hillary Clinton’s email server, the ranking Democrats on the relevant committees didn’t hear about it from Comey. They found out via a tweet from one of the Republican committee chairmen. \\nAs we now know, Comey notified the Republican chairmen and Democratic ranking members of the House Intelligence, Judiciary, and Oversight committees that his agency was reviewing emails it had recently discovered in order to see if they contained classified information. Not long after this letter went out, Oversight Committee Chairman Jason Chaffetz set the political world ablaze with this tweet. FBI Dir just informed me, \"The FBI has learned of the existence of emails that appear to be pertinent to the investigation.\" Case reopened \\n— Jason Chaffetz (@jasoninthehouse) October 28, 2016 \\nOf course, we now know that this was not the case . Comey was actually saying that it was reviewing the emails in light of “an unrelated case”–which we now know to be Anthony Weiner’s sexting with a teenager. But apparently such little things as facts didn’t matter to Chaffetz. The Utah Republican had already vowed to initiate a raft of investigations if Hillary wins–at least two years’ worth, and possibly an entire term’s worth of them. Apparently Chaffetz thought the FBI was already doing his work for him–resulting in a tweet that briefly roiled the nation before cooler heads realized it was a dud. \\nBut according to a senior House Democratic aide, misreading that letter may have been the least of Chaffetz’ sins. That aide told Shareblue that his boss and other Democrats didn’t even know about Comey’s letter at the time–and only found out when they checked Twitter. “Democratic Ranking Members on the relevant committees didn’t receive Comey’s letter until after the Republican Chairmen. In fact, the Democratic Ranking Members didn’ receive it until after the Chairman of the Oversight and Government Reform Committee, Jason Chaffetz, tweeted it out and made it public.” \\nSo let’s see if we’ve got this right. The FBI director tells Chaffetz and other GOP committee chairmen about a major development in a potentially politically explosive investigation, and neither Chaffetz nor his other colleagues had the courtesy to let their Democratic counterparts know about it. Instead, according to this aide, he made them find out about it on Twitter. \\nThere has already been talk on Daily Kos that Comey himself provided advance notice of this letter to Chaffetz and other Republicans, giving them time to turn on the spin machine. That may make for good theater, but there is nothing so far that even suggests this is the case. After all, there is nothing so far that suggests that Comey was anything other than grossly incompetent and tone-deaf. \\nWhat it does suggest, however, is that Chaffetz is acting in a way that makes Dan Burton and Darrell Issa look like models of responsibility and bipartisanship. He didn’t even have the decency to notify ranking member Elijah Cummings about something this explosive. If that doesn’t trample on basic standards of fairness, I don’t know what does. \\nGranted, it’s not likely that Chaffetz will have to answer for this. He sits in a ridiculously Republican district anchored in Provo and Orem; it has a Cook Partisan Voting Index of R+25, and gave Mitt Romney a punishing 78 percent of the vote in 2012. Moreover, the Republican House leadership has given its full support to Chaffetz’ planned fishing expedition. But that doesn’t mean we can’t turn the hot lights on him. After all, he is a textbook example of what the House has become under Republican control. And he is also the Second Worst Person in the World. About Darrell Lucus \\nDarrell is a 30-something graduate of the University of North Carolina who considers himself a journalist of the old school. An attempt to turn him into a member of the religious right in college only succeeded in turning him into the religious right's worst nightmare--a charismatic Christian who is an unapologetic liberal. His desire to stand up for those who have been scared into silence only increased when he survived an abusive three-year marriage. You may know him on Daily Kos as Christian Dem in NC . Follow him on Twitter @DarrellLucus or connect with him on Facebook . Click here to buy Darrell a Mello Yello. Connect                                                                                                                                                                                                                                                                                                                                                                                                                                                                                                                                                                                                                                                                                                                                                                                                                                                                                                                                                                                                                                                                                                                                                                                                                                                                                                                                                                                                                                                                                                                                                                                                                                                                                                                                                                                                                                                                                                                                                                                                                                                                                                                                                                                                                                                                                                                                                                                                                                                                                                                                                                                                                                                                                                                                                                                                                                                                                      \n",
              "1        Ever get the feeling your life circles the roundabout rather than heads in a straight line toward the intended destination? [Hillary Clinton remains the big woman on campus in leafy, liberal Wellesley, Massachusetts. Everywhere else votes her most likely to don her inauguration dress for the remainder of her days the way Miss Havisham forever wore that wedding dress.  Speaking of Great Expectations, Hillary Rodham overflowed with them 48 years ago when she first addressed a Wellesley graduating class. The president of the college informed those gathered in 1969 that the students needed “no debate so far as I could ascertain as to who their spokesman was to be” (kind of the like the Democratic primaries in 2016 minus the   terms unknown then even at a Seven Sisters school). “I am very glad that Miss Adams made it clear that what I am speaking for today is all of us —  the 400 of us,” Miss Rodham told her classmates. After appointing herself Edger Bergen to the Charlie McCarthys and Mortimer Snerds in attendance, the    bespectacled in granny glasses (awarding her matronly wisdom —  or at least John Lennon wisdom) took issue with the previous speaker. Despite becoming the first   to win election to a seat in the U. S. Senate since Reconstruction, Edward Brooke came in for criticism for calling for “empathy” for the goals of protestors as he criticized tactics. Though Clinton in her senior thesis on Saul Alinsky lamented “Black Power demagogues” and “elitist arrogance and repressive intolerance” within the New Left, similar words coming out of a Republican necessitated a brief rebuttal. “Trust,” Rodham ironically observed in 1969, “this is one word that when I asked the class at our rehearsal what it was they wanted me to say for them, everyone came up to me and said ‘Talk about trust, talk about the lack of trust both for us and the way we feel about others. Talk about the trust bust.’ What can you say about it? What can you say about a feeling that permeates a generation and that perhaps is not even understood by those who are distrusted?” The “trust bust” certainly busted Clinton’s 2016 plans. She certainly did not even understand that people distrusted her. After Whitewater, Travelgate, the vast   conspiracy, Benghazi, and the missing emails, Clinton found herself the distrusted voice on Friday. There was a load of compromising on the road to the broadening of her political horizons. And distrust from the American people —  Trump edged her 48 percent to 38 percent on the question immediately prior to November’s election —  stood as a major reason for the closing of those horizons. Clinton described her vanquisher and his supporters as embracing a “lie,” a “con,” “alternative facts,” and “a   assault on truth and reason. ” She failed to explain why the American people chose his lies over her truth. “As the history majors among you here today know all too well, when people in power invent their own facts and attack those who question them, it can mark the beginning of the end of a free society,” she offered. “That is not hyperbole. ” Like so many people to emerge from the 1960s, Hillary Clinton embarked upon a long, strange trip. From high school Goldwater Girl and Wellesley College Republican president to Democratic politician, Clinton drank in the times and the place that gave her a degree. More significantly, she went from idealist to cynic, as a comparison of her two Wellesley commencement addresses show. Way back when, she lamented that “for too long our leaders have viewed politics as the art of the possible, and the challenge now is to practice politics as the art of making what appears to be impossible possible. ” Now, as the big woman on campus but the odd woman out of the White House, she wonders how her current station is even possible. “Why aren’t I 50 points ahead?” she asked in September. In May she asks why she isn’t president. The woman famously dubbed a “congenital liar” by Bill Safire concludes that lies did her in —  theirs, mind you, not hers. Getting stood up on Election Day, like finding yourself the jilted bride on your wedding day, inspires dangerous delusions.                                                                                                                                                                                                                                                                                                                                                                                                                                                                                                                                                                                                                                                                                                                                                                                                                                                                                                                                                                                                                                                                                                                                                                                                                                                                                                                                                                                                                                                                                                                                                                                                                                                                                                                                                                                                                                                                                                                                                                                                                                                                                                                                                                                                                                                                                                                                                                                                                                                                                                                                                                                                                                                                                                                                                                                                                                                                                                                                                                                                                                                                                                                                                                                                                                                                                                                                                                                                                                                                                                                                                                                                                                                                                                  \n",
              "2        Why the Truth Might Get You Fired October 29, 2016 \\nThe tension between intelligence analysts and political policymakers has always been between honest assessments and desired results, with the latter often overwhelming the former, as in the Iraq War, writes Lawrence Davidson. \\nBy Lawrence Davidson \\nFor those who might wonder why foreign policy makers repeatedly make bad choices, some insight might be drawn from the following analysis. The action here plays out in the United States, but the lessons are probably universal. \\nBack in the early spring of 2003, George W. Bush initiated the invasion of Iraq. One of his key public reasons for doing so was the claim that the country’s dictator, Saddam Hussein, was on the verge of developing nuclear weapons and was hiding other weapons of mass destruction. The real reason went beyond that charge and included a long-range plan for “regime change” in the Middle East. President George W. Bush and Vice President Dick Cheney receive an Oval Office briefing from CIA Director George Tenet. Also present is Chief of Staff Andy Card (on right). (White House photo) \\nFor our purposes, we will concentrate on the belief that Iraq was about to become a hostile nuclear power. Why did President Bush and his close associates accept this scenario so readily? \\nThe short answer is Bush wanted, indeed needed, to believe it as a rationale for invading Iraq. At first he had tried to connect Saddam Hussein to the 9/11 attacks on the U.S. Though he never gave up on that stratagem, the lack of evidence made it difficult to rally an American people, already fixated on Afghanistan, to support a war against Baghdad. \\nBut the nuclear weapons gambit proved more fruitful, not because there was any hard evidence for the charge, but because supposedly reliable witnesses, in the persons of exiled anti-Saddam Iraqis (many on the U.S. government’s payroll ), kept telling Bush and his advisers that the nuclear story was true. \\nWhat we had was a U.S. leadership cadre whose worldview literally demanded a mortally dangerous Iraq, and informants who, in order to precipitate the overthrow of Saddam, were willing to tell the tale of pending atomic weapons. The strong desire to believe the tale of a nuclear Iraq lowered the threshold for proof . Likewise, the repeated assertions by assumed dependable Iraqi sources underpinned a nationwide U.S. campaign generating both fear and war fever. \\nSo the U.S. and its allies insisted that the United Nations send in weapons inspectors to scour Iraq for evidence of a nuclear weapons program (as well as chemical and biological weapons). That the inspectors could find no convincing evidence only frustrated the Bush administration and soon forced its hand. \\nOn March 19, 2003, Bush launched the invasion of Iraq with the expectation was that, once in occupation of the country, U.S. inspectors would surely find evidence of those nukes (or at least stockpiles of chemical and biological weapons). They did not. Their Iraqi informants had systematically lied to them. \\nSocial and Behavioral Sciences to the Rescue? \\nThe various U.S. intelligence agencies were thoroughly shaken by this affair, and today, 13 years later, their directors and managers are still trying to sort it out – specifically, how to tell when they are getting “true” intelligence and when they are being lied to. Or, as one intelligence worker has put it, we need “ help to protect us against armies of snake oil salesmen. ” To that end the CIA et al. are in the market for academic assistance. Ahmed Chalabi, head of the Iraqi National Congress, a key supplier of Iraqi defectors with bogus stories of hidden WMD. \\nA “partnership” is being forged between the Office of the Director of National Intelligence (ODNI), which serves as the coordinating center for the sixteen independent U.S. intelligence agencies, and the National Academies of Sciences, Engineering and Medicine . The result of this collaboration will be a “ permanent Intelligence Community Studies Board” to coordinate programs in “social and behavioral science research [that] might strengthen national security .” \\nDespite this effort, it is almost certain that the “social and behavioral sciences” cannot give the spy agencies what they want – a way of detecting lies that is better than their present standard procedures of polygraph tests and interrogations. But even if they could, it might well make no difference, because the real problem is not to be found with the liars. It is to be found with the believers. \\nThe Believers \\nIt is simply not true, as the ODNI leaders seem to assert, that U.S. intelligence agency personnel cannot tell, more often than not, that they are being lied to. This is the case because there are thousands of middle-echelon intelligence workers, desk officers, and specialists who know something closely approaching the truth – that is, they know pretty well what is going on in places like Afghanistan, Iraq, Syria, Libya, Israel, Palestine and elsewhere. Director of National Intelligence James Clapper (right) talks with President Barack Obama in the Oval Office, with John Brennan and other national security aides present. (Photo credit: Office of Director of National Intelligence) \\nTherefore, if someone feeds them “snake oil,” they usually know it. However, having an accurate grasp of things is often to no avail because their superiors – those who got their appointments by accepting a pre-structured worldview – have different criterion for what is “true” than do the analysts. \\nListen to Charles Gaukel, of the National Intelligence Council – yet another organization that acts as a meeting ground for the 16 intelligence agencies. Referring to the search for a way to avoid getting taken in by lies, Gaukel has declared, “ We’re looking for truth. But we’re particularly looking for truth that works. ” Now what might that mean? \\nI can certainly tell you what it means historically. It means that for the power brokers, “truth” must match up, fit with, their worldview – their political and ideological precepts. If it does not fit, it does not “work.” So the intelligence specialists who send their usually accurate assessments up the line to the policy makers often hit a roadblock caused by “group think,” ideological blinkers, and a “we know better” attitude. \\nOn the other hand, as long as what you’re selling the leadership matches up with what they want to believe, you can peddle them anything: imaginary Iraqi nukes, Israel as a Western-style democracy, Saudi Arabia as an indispensable ally, Libya as a liberated country, Bashar al-Assad as the real roadblock to peace in Syria, the Strategic Defense Initiative (SDI) aka Star Wars, a world that is getting colder and not warmer, American exceptionalism in all its glory – the list is almost endless. \\nWhat does this sad tale tell us? If you want to spend millions of dollars on social and behavioral science research to improve the assessment and use of intelligence, forget about the liars. What you want to look for is an antidote to the narrow-mindedness of the believers – the policymakers who seem not to be able to rise above the ideological presumptions of their class – presumptions that underpin their self-confidence as they lead us all down slippery slopes. \\nIt has happened this way so often, and in so many places, that it is the source of Shakespeare’s determination that “what is past, is prelude.” Our elites play out our destinies as if they have no free will – no capacity to break with structured ways of seeing. Yet the middle-echelon specialists keep sending their relatively accurate assessments up the ladder of power. Hope springs eternal.\n",
              "3        Videos 15 Civilians Killed In Single US Airstrike Have Been Identified The rate at which civilians are being killed by American airstrikes in Afghanistan is now higher than it was in 2014 when the US was engaged in active combat operations.   Photo of Hellfire missiles being loaded onto a US military Reaper drone in Afghanistan by Staff Sgt. Brian Ferguson/U.S. Air Force. \\nThe Bureau has been able to identify 15 civilians killed in a single US drone strike in Afghanistan last month – the biggest loss of civilian life in one strike since the attack on the Medecins Sans Frontieres hospital (MSF) last October. \\nThe US claimed it had conducted a “counter-terrorism” strike against Islamic State (IS) fighters when it hit Nangarhar province with missiles on September 28. But the next day the United Nations issued an unusually rapid and strong statement saying the strike had killed 15 civilians and injured 13 others who had gathered at a house to celebrate a tribal elder’s return from a pilgrimage to Mecca. \\nThe Bureau spoke to a man named Haji Rais who said he was the owner of the house that was targeted. He said 15 people were killed and 19 others injured, and provided their names (listed below). The Bureau was able to independently verify the identities of those who died. \\nRais’ son, a headmaster at a local school, was among them. Another man, Abdul Hakim, lost three of his sons in the attack. \\nRais said he had no involvement with IS and denied US claims that IS members had visited his house before the strike. He said: “I did not even speak to those sort of people on the phone let alone receiving them in my house.” \\nThe deaths amount to the biggest confirmed loss of civilian life in a single American strike in Afghanistan since the attack on the MSF hospital in Kunduz last October, which killed at least 42 people. \\nThe Nangarhar strike was not the only US attack to kill civilians in September. The Bureau’s data indicates that as many as 45 civilians and allied soldiers were killed in four American strikes in Afghanistan and Somalia that month. \\nOn September 18 a pair of strikes killed eight Afghan policemen in Tarinkot, the capital of Urozgan provice. US jets reportedly hit a police checkpoint, killing one officer, before returning to target first responders. The use of this tactic – known as a “double-tap” strike – is controversial because they often hit civilian rescuers. \\nThe US told the Bureau it had conducted the strike against individuals firing on and posing a threat to Afghan forces. The email did not directly address the allegations of Afghan policemen being killed. \\nAt the end of the month in Somalia, citizens burnt US flags on the streets of the north-central city of Galcayo after it emerged a drone attack may have unintentionally killed 22 Somali soldiers and civilians. The strike occurred on the same day as the one in Nangarhar. \\nIn both the Somali and Afghan incidents, the US at first denied that any non-combatants had been killed. It is now investigating both the strikes in Nangarhar and Galcayo. \\nThe rate at which civilians are being killed by American airstrikes in Afghanistan is now higher than it was in 2014 when the US was engaged in active combat operations. Name                                                                                                                                                                                                                                                                                                                                                                                                                                                                                                                                                                                                                                                                                                                                                                                                                                                                                                                                                                                                                                                                                                                                                                                                                                                                                                                                                                                                                                                                                                                                                                                                                                                                                                                                                                                                                                                                                                                                                                                                                                                                                                                                                                                                                                                                                                                                                                                                                                                                                                                                                                                                                                                                                                                                                                                                                                                                                                                                                                                                                                                                                                                                                                                                                                                                                                                                                                                                                                                                                                                                                                                                                                                                                                                                                                                                                                                                                                                                                                                                                                                                                                                                                                                                                                                                                                                                                                                                                                                                                                                                                                                                                                                 \n",
              "4        Print \\nAn Iranian woman has been sentenced to six years in prison after Iran’s Revolutionary Guard searched her home and found a notebook that contained a fictional story she’d written about a woman who was stoned to death, according to the Eurasia Review . \\nGolrokh Ebrahimi Iraee, 35, is the wife of political prisoner Arash Sadeghi, 36, who is serving a 19-year prison sentence for being a human rights activist, the publication reported. \\n“When the intelligence unit of the Revolutionary Guards came to arrest her husband, they raided their apartment – without a warrant – and found drafts of stories that Ebrahimi Iraee had written,” the article stated. \\n“One of the confiscated drafts was a story about stoning women to death for adultery – never published, never presented to anyone,” the article stated. “The narrative followed the story of a protagonist that watched a movie about stoning of women under Islamic law for adultery.                                                                                                                                                                                                                                                                                                                                                                                                                                                                                                                                                                                                                                                                                                                                                                                                                                                                                                                                                                                                                                                                                                                                                                                                                                                                                                                                                                                                                                                                                                                                                                                                                                                                                                                                                                                                                                                                                                                                                                                                                                                                                                                                                                                                                                                                                                                                                                                                                                                                                                                                                                                                                                                                                                                                                                                                                                                                                                                                                                                                                                                                                                                                                                                                                                                                                                                                                                                                                                                                                                                                                                                                                                                                                                                                                                                                                                                                                                                                                                                                                                                                                                                                                                                                                                                                                                                                                                                                                                                                                                                                                                                                                                                                                                                                                                                                                                                                                                                                                                                                                                                                                                                                                                                                                                                                                                                                                                                                                                                                                                                                                                                                                                                                                                                                                                                                                                                                                                                                                                                                                                                                                                                                                                                                                                                                                                                                                                                                                                                                                                                                                                                                                                                                                                                                                                                                                                                                                                                                                                                                                                                    \n",
              "                                                                                                                                                                                                                                                                                                                                                                                                                                                                                              ...                                                                                                                                                                                                                                                                                                                                                                                                                                                                                                                                                                                                                                                                                                                                                                                                                                                                                                                                                                                                                                                                                                                                                                                                                                                                                                                                                                                                                                                                                                                                                                                                                                                                                                                                                                                                                                                                                                                                                                                                                                                                                                                                                                                                                                                                                                                                                                                                                                                                                                                                                                                                                                                                                                                                                                                                                                                                                                                                                                                                                                                                                                                                                                                                                                                                                                                                                                                                                                                                                                                                                                                                                                                                                                                                                                                                                                                                                                                                                                                                                                                                                                                                                                                                                                                                                                                                                                                                                                                                                                                                                                                                                                                                                                                                                                                                                                                                                                                                                                                                                                                                                                                                                                                                                                                                                                                                                                                                                                                                                                                                                                                                                                                                                                                                                                                                                                                                                                                                                                                                                                                                                                                                                                                                                                                                                                                                                                                                                                                                                                                                                                                                                                                                                                                                                                                                                                                                                                                                                                                                                                                                                                                                                                                                                                                                                                                                                                                                                                                                                                                                          \n",
              "20795    Rapper T. I. unloaded on black celebrities who met with Donald Trump after the election, saying they failed to challenge the president for disrespecting and degrading black voters during the campaign. [The Atlanta —  based artist told the   of The View Thursday that he took issue with talk show host Steve Harvey,   Kanye West, and football Hall of Famer and civil rights champion Jim Brown meeting with Trump.  “Before you stand and smile and say this is a good man and take pictures, what about addressing the disrespect and disregard for our community that was done?” T. I. said, adding “And what about him being the poster child for white supremacy and standing for the people who look to devalue our lives?” The   star of the VH1 reality show T. I.  Tiny: The Family Hustle also defended fellow rapper Snoop Dogg, who recently starred in a   music video that sees the “Doggystyle” rapper pull a gun on and “shoot” a parody clown version of President Donald Trump. “Whatever Snoop said, he had the right to say. He’s protected by the Constitution in saying it,” T. I. said. “We have to protect our legends. We have to protect our heroes and the people who mean something to us and our community and our culture. ” The View   Sunny Hostin suggested that Trump advisor Omarosa Manigault has stated the administration’s intention to “bridge the gap” between the White House and the black community, to which T. I. responded with a personal insult. “She can’t even bridge the gap in her teeth,” the rapper said. T. I. had originally defended Snoop Dogg and his controversial video in an Instagram message, calling Trump a “f*cking tangerine tanned muskrat scrotum skin, lacefront possum fur wig wearing, alternative fact, atomic dog diarrhea face ass man [sic]. ”   Follow Jerome Hudson on Twitter: @JeromeEHudson                                                                                                                                                                                                                                                                                                                                                                                                                                                                                                                                                                                                                                                                                                                                                                                                                                                                                                                                                                                                                                                                                                                                                                                                                                                                                                                                                                                                                                                                                                                                                                                                                                                                                                                                                                                                                                                                                                                                                                                                                                                                                                                                                                                                                                                                                                                                                                                                                                                                                                                                                                                                                                                                                                                                                                                                                                                                                                                                                                                                                                                                                                                                                                                                                                                                                                                                                                                                                                                                                                                                                                                                                                                                                                                                                                                                                                                                                                                                                                                                                                                                                                                                                                                                                                                                                                                                                                                                                                                                                                                                                                                                                                                                                                                                                                                                                                                                                                                                                                                                                                                                                                                                                                                                                                                                                                                                                                                                                                                                                                                                                                                                                                                                                                                                                                                                                                                                                                                                                                                                                                                                                                                                            \n",
              "20796    When the Green Bay Packers lost to the Washington Redskins in Week 11, dropping to   Aaron Rodgers vowed to “run the table” in a march to the playoffs. With a   victory over the Detroit Lions on Sunday night, the team fulfilled Rodgers’ promise. Much of the drama of the matchup between division rivals was eliminated earlier in the day when the Redskins lost to the Giants, thus guaranteeing both the Packers and Lions would be playoff teams, but the N. F. C. North bragging rights, and a home game in the first round of the playoffs, were sufficient motivation for Green Bay to push hard enough to secure the team’s sixth consecutive win and the third consecutive loss for Detroit. Pundits had spent the week deciphering all of the wild scenarios that could play out for positioning among the remaining teams. But when all was said and done, ten of the teams that were in line for a playoff spot remained in the same seeding order. No. 6 Detroit Lions at No. 3 Seattle Seahawks Time: 8:15 p. m. Eastern SATURDAY on NBC The Seahawks’ title hopes took a crushing blow when Earl Thomas was lost for the season with a broken leg. After the injury, the Seahawks went   with the wins coming with major asterisks as they came against the   Rams and 49ers. That collapse paled in comparison to the Lions, who lost their final three games, blowing what had been a large division lead against Green Bay. Line: Seahawks   ( : 43) No. 5 Giants at No. 4 Green Bay Packers Time: 4:40 p. m. Eastern SUNDAY on Fox Thanks to playing in the N. F. C. East, home of the   Dallas Cowboys, the Giants managed to tie Atlanta for the   record in the N. F. C. but got stuck with the No. 5 seed in the playoffs and a road game against a   Packers squad that won its final six games. The good news for the Giants is that superstitious fans will note that the last two times they played the Packers on the road in the playoffs, they not only won the games but went on to win the Super Bowl both times. Line: Packers   ( : 44. 5) Bye weeks: Dallas, Atlanta No. 5 Oakland Raiders at No. 4 Houston Texans Time: 4:35 p. m. Eastern SATURDAY on ESPN Line: Texans   ( : 37) The Texans were the least inspiring of the N. F. L. ’s division champions and that was complicated further when Tom Savage, whom the team had elevated to starting quarterback after the benching of Brock Osweiler, was forced to leave Week 17’s loss to Tennessee with a concussion. As bad as that sounds, it may still be enough against a reeling Oakland squad that lost Derek Carr to a broken leg in Week 16, Matt McGloin to a shoulder injury in Week 17, and fell all the way from the No. 2 seed in the A. F. C. to No. 5. It is unclear at this point if McGloin or rookie Connor Cook will start at quarterback against Houston. No. 6 Miami Dolphins at No. 3 Pittsburgh Steelers Time: 1:05 p. m. Eastern SUNDAY on CBS The Dolphins were a contender when the team’s quarterback, Ryan Tannehill, was lost in Week 14 with injured ligaments in his left knee. Thanks to backup quarterback Matt Moore, and Jay Ajayi, the team’s   running back, they won two of three games and secured a   berth. But going up against a   offense like Pittsburgh is a tough test for Miami’s middling defense, even if Tannehill’s knee heals enough to allow him to return. Line: Steelers  .5 ( : 47. 5) Bye weeks: New England, Kansas City With four teams vying for two N. F. C. playoff spots, all eyes were on the   game on Sunday. A Redskins victory could have caused movement in the seedings, with the Lions and Packers playing a     evening matchup. The Giants, who had already locked up the No. 5 seed and had nothing to gain, threw a wrench in the Redskins’ plans, eliminating their division rivals with a decisive   victory. With the drama essentially taken out of the N. F. C. all of the playoff movement Sunday occurred in the A. F. C. where there was a   at the top of the standings in the A. F. C. West. Just a week after losing Derek Carr, the team’s quarterback and a legitimate candidate for most valuable player, to a broken leg, the Oakland Raiders were crushed   by the Denver Broncos. That, combined with the Kansas City Chiefs’   victory over the San Diego Chargers vaulted the Chiefs from a   spot all the way to the No. 2 seed in the A. F. C. which comes with a   bye in the playoffs. The loss for Oakland added to the misery of the Raiders, who have gone from Super Bowl contenders last week to a   team that will play on the road in Houston next week potentially with a   quarterback under center as Carr’s backup, Matt McGloin, injured his shoulder in the loss to the Broncos. Beyond the switch to the Chiefs as the No.   in the A. F. C. it was business as usual for the teams that will get bye weeks in the playoffs. The New England Patriots secured the No. 1 spot in the A. F. C. with a win over Miami, the Dallas Cowboys were already guaranteed the No. 1 spot in the N. F. C. before their loss to Philadelphia, and the Atlanta Falcons held onto the No. 2 seed in the N. F. C. with a   win over New Orleans. The only remaining chance for a minor   was for the Packers, who led their division by virtue of a tiebreaker, to lose to the Lions, which would have forced them to play on the road in the   round of the playoffs. But the    aspect of the de facto N. F. C. North championship went away when the Redskins lost to the Giants, which eliminated the Redskins from   contention. While most of the races were straight forward, one of the crazier playoff scenarios that had been discussed before the week was the possibility that the Tampa Bay Buccaneers could find themselves in the playoffs. They simply had to shoot the moon by beating the Carolina Panthers, having the Redskins tie the Giants, the Packers lose to the Lions, and should all of that happen they simply required wins by Indianapolis, Dallas, Tennessee and San Francisco to top the Packers in strength of schedule. Tampa Bay took care of their end by beating the Panthers early in the day, but they were eliminated officially when Dallas lost to Philadelphia.                                                                                                                                                                                                                                                                                                                                                                                                                                                                                                                                                                                                                                                                                                                                                                                                                                                                                                                                                                                                                                                                                                                                                                                                                                                                                                                                                                                                                                                                                                                                                                                                                                                                                                                       \n",
              "20797    The Macy’s of today grew from the union of several great names in American retailing, including its namesake chain, Bloomingdale’s and Marshall Field’s. But the ambitious owner of Saks Fifth Avenue has broached the idea of taking the union even further, combining with Macy’s to create a department store juggernaut at a time when the industry is reeling. Hudson’s Bay Company, the Canadian owner of Saks, has approached Macy’s about a potential takeover, people briefed on the matter who were not authorized to speak publicly said on Friday. Talks between the two companies are at an early stage and may still fall apart or lead to a partnership of some kind rather than a sale. While it is unclear whether a deal will happen, a combination could lift the fortunes of Macy’s, the country’s biggest department store, which has been struggling. Investors certainly appeared to see it that way. Shares of Macy’s rose as much as 12 percent on Friday, its biggest intraday gain since Aug. 11, according to data from Bloomberg. Once a retail titan, Macy’s has struggled to remain relevant as   and discount retailers have decimated the traditional    business. Last month, Macy’s announced plans to cut more than 10, 000 jobs and close some of its 880 stores. Terry Lundgren, its chief executive and the architect of Macy’s last big merger, is expected to step down by the end of March. He will be succeeded by the company’s president, Jeffrey Gennette. Since the recession, shoppers have grown accustomed to hunt for bargains and to not pay full price. Discount stores and outlet malls have flourished. Traditional stores have been compelled to respond by trimming prices, which cuts into their margins. Departments stores have been hit especially hard, particularly as shoppers migrate away from malls. What has emerged, analysts say, is a virtual race to the bottom. That has been particularly difficult for Macy’s, born of a series of mergers over the past two decades that made it a juggernaut in the industry. A stalwart of the middle tier of retail, the company has neither the advantages of   retailers like HM nor the   stores. In addition, Macy’s faces increasingly fierce competition online from sites like Amazon and elsewhere. Macy’s troubles have drawn the attention of a prominent activist hedge fund, Starboard Value, which has urged the company to generate cash by selling the real estate beneath its stores. Starboard, which held just under 1 percent of Macy’s shares as of Sept. 30, had previously estimated the value of that land at about $21 billion. On Friday, analysts at Citigroup estimated that Macy’s   holdings could be worth at least $18 billion. Macy’s market value, by comparison, was just under $11 billion as of Friday morning. Macy’s has taken some steps to sell or redevelop stores, and last year, it added an expert on real estate transactions to its board. But the company has largely resisted more ambitious efforts to divest its real estate, including     deals, in which a company sells the underlying land beneath its stores and then rents it back. The company’s suitor, Hudson’s Bay Company, is far smaller  —   its market value was about 1. 9 billion Canadian dollars, or $1. 5 billion  —   but is known for its bold steps. Hudson’s Bay Company has assembled a growing empire that includes the Hudson’s Bay department store chain, Lord  Taylor and its crown jewel, Saks. And the governor and executive chairman of the Hudson’s Bay Company, Richard Baker, has shown little fear of using debt: In November 2014, the company borrowed nearly $4 billion against the Saks flagship in Midtown Manhattan. He has spoken often of retailers’ need to highlight the value of their real estate. Financing a bid for Macy’s may be trickier, however, because the it carries about $6. 5 billion in   debt. That may mean that the Hudson’s Bay Company will have to bring in a partner or borrow against more of its real estate holdings. A spokesman for the Hudson’s Bay Company declined to comment on the talks, which were reported earlier by The Wall Street Journal. “We do not comment on rumors and speculation,” a representative for Macy’s said. A representative for Starboard Value did not respond to a request for comment. Some analysts said that they saw the merit of a potential combination, particularly given Macy’s operational woes and Mr. Baker’s expertise in wringing money out of real estate. “There is a clear logic, despite disparity in   cap” between Macy’s and Hudson’s Bay Company, Craig Johnson, the president of Customer Growth Partners, a research firm, said in a note. Referring to Macy’s stock ticker symbol, he added, “The retail market has been changing faster than M has been able to keep up with, whether the flight from the mall or the migration online. ”                                                                                                                                                                                                                                                                                                                                                                                                                                                                                                                                                                                                                                                                                                                                                                                                                                                                                                                                                                                                                                                                                                                                                                                                                                                                                                                                                                                                                                                                                                                                                                                                                                                                                                                                                                                                                                                                                                                                                                                                                                                                                                                                                                                                                                                                                                                                                                                                                                                                                                                                                                                                                                                                                                                                                                                                                                                                                                                                                                                                                                   \n",
              "20798    NATO, Russia To Hold Parallel Exercises In Balkans 11/02/2016 \\nPRESS TV \\nRussia’s military and NATO forces are holding parallel military exercises in two neighboring Balkan countries. \\nRussian troops will participate in war games in Serbia while NATO is conducting military drills in Montenegro, media reported on Monday. \\nRussian forces’ 13-day military exercise in Serbia is named “The Slavic Brotherhood 2016” and begins on Wednesday. \\nIt will include 150 Russian paratroopers, 50 air force staffers, three transport planes and an unspecified number of troops from Serbia and Belarus, Russia’s Defense Ministry said. \\nThe five-day NATO drill in Montenegro started on Monday and involves responding to floods and chemical attacks. It will involve 680 unarmed personnel from seven NATO countries and 10 partner states. \\nIn the past both Serbia and Montenegro were constitutional republics of the Socialist Federal Republic of Yugoslavia. \\nBoth countries are socialist republics and traditional Russian Christian Orthodox allies. In 2003 this state union was re-formed into Serbia and Montenegro, and in 2006 the two became independent states. \\nSince their split, the two Balkan neighbors seem to have headed in different directions strategically. \\nMontenegro has taken a pro-Western stance which has been awarded by NATO with an offer to join the Northern Atlantic Alliance. \\nThe NATO invitation to Montenegro has met strong opposition from Russia. \\nMeanwhile, Montenegrin officials have accused Russia of staging an alleged coup in October to topple its pro-Western government because of the NATO accession bid. \\nSerbia, a NATO partner, has held exercises with the Western alliance, but not such a large one or with foreign troops and equipment participating on its soil.                                                                                                                                                                                                                                                                                                                                                                                                                                                                                                                                                                                                                                                                                                                                                                                                                                                                                                                                                                                                                                                                                                                                                                                                                                                                                                                                                                                                                                                                                                                                                                                                                                                                                                                                                                                                                                                                                                                                                                                                                                                                                                                                                                                                                                                                                                                                                                                                                                                                                                                                                                                                                                                                                                                                                                                                                                                                                                                                                                                                                                                                                                                                                                                                                                                                                                                                                                                                                                                                                                                                                                                                                                                                                                                                                                                                                                                                                                                                                                                                                                                                                                                                                                                                                                                                                                                                                                                                                                                                                                                                                                                                                                                                                                                                                                                                                                                                                                                                                                                                                                                                                                                                                                                                                                                                                                                                                                                                                                                                                                                                                                                                                                                                                                                                                                                                                                                                                                                                                                                                                                                                                                                                                                        \n",
              "20799      David Swanson is an author, activist, journalist, and radio host. He is a 2015 Nobel Peace Prize Nominee. He is director of WorldBeyondWar.com and campaign coordinator for RootsAction.org . He hosts Talk Nation Radio . Talk Nation Radio is on VT Radio and is syndicated by Pacifica Network. The show also airs on WTJU, Charlottesville, VA; WCSX-Detroit, MI; KGHI, Westport, WA; WHUS, Storrs, CT; WPRR, Grand Rapids, MI; KRFP-LP, Moscow, ID; KZGM, Cabool, MO; KMUD, Garberville, CA; WAZU, Peoria, IL; WXRD, Crown Point, IN; Geneva Radio, Geneva, NY; KKRN, Round Mountain, CA; KSKQ-LP, Ashland, OR; WUOW-LP, Oneonta, NY; No Lies Radio, Pinole, CA; WYAP-LP, Clay, WV; The Detour, Johnson City, TN; WZRD, Chicago, IL; WEFT, Champaign, IL; WXPI, Pittsburgh, PA; WDRT, Viroqua, WI; Veracity Now, online; Liberty and Justice Radio, Shirley, MA; Ithaca Community Radio, Ithaca, NY; WMCB, Greenfield, MA; PRX.org; KAOS 89.3fm, Olympia, WA; WUSB 90.1 FM, Stony Brook, NY; WOOL-FM, Bellow Falls, Vermont; WSLR-LP 96.5 in Sarasota, Florida. He also blogs at DavidSwanson.org and WarIsACrime.org And is a prolific author. His latest books are; War Is A Lie , Daybreak: Undoing the Imperial Presidency and Forming a More Perfect Union , and When the World Outlawed War Swanson holds a master's degree in philosophy from the University of Virginia. He has worked as a newspaper reporter and as a communications director, with jobs including press secretary for Dennis Kucinich's 2004 presidential campaign, media coordinator for the International Labor Communications Association, and three years as communications coordinator for ACORN, the Association of Community Organizations for Reform Now. Read his full and complete biography at DavidSwanson.org and also visit book site at War Is Crime . What Keeps the F-35 Alive By David Swanson on October 31, 2016 Petition to Stop F-35 Going Global \\nby David Swanson \\nImagine if a local business in your town invented a brand new tool that was intended to have an almost magical effect thousands of miles away. However, where the tool was kept and used locally became an area unsafe for children. Children who got near this tool tended to have increased blood pressure and increased stress hormones, lower reading skills, poorer memories, impaired auditory and speech perception, and impaired academic performance. \\nMost of us would find this situation at least a little concerning, unless the new invention was designed to murder lots of people. Then it’d be just fine. \\nNow, imagine if this same new tool ruined neighborhoods because people couldn’t safely live near it. Imagine if the government had to compensate people but kick them out of living near the location of this tool. Again, I think, we might find that troubling if mass murder were not the mission. \\nImagine also that this tool fairly frequently explodes, emitting highly toxic chemicals, particles, and fibers unsafe to breathe into the air for miles around. Normally, that’d be a problem. But if this tool is needed for killing lots of people, we’ll work with its flaws, won’t we? \\nNow, what if this new gadget was expected to cost at least $1,400,000,000,000 over 50 years? And what if that money had to be taken away from numerous other expenses more beneficial for the economy and the world? What if the $1.4 trillion was drained out of the economy causing a loss of jobs and a radical diminuition of resources for education, healthcare, housing, environmental protection, or humanitarian aid? Wouldn’t that be a worry in some cases, I mean in those cases where the ability to kill tons of human beings wasn’t at stake? \\nWhat if this product, even when working perfectly, was a leading destroyer of the earth’s natural environment? \\nWhat if this high-tech toy wasn’t even designed to do what was expected of it and wasn’t even able to do what it was designed for? \\nAmazingly, even those shortcomings do not matter as long as the intention is massive murder and destruction. Then, all is forgiven. \\nThe tool I’m describing is called the F-35. At RootsAction.org you can find a new petition launched by locally-minded people acting globally in places where the F-35 is intended to be based. Also at that link you’ll find explanations of how the tool I’ve been decribing is the F-35. \\nThe petition is directed to the United States Congress and the governments of Australia, Italy, the Netherlands, Norway, Turkey, the United Kingdom, Israel, Japan and South Korea from the world and from the people of Burlington, Vermont, and Fairbanks, Alaska, where the F-35 is to be based. This effort is being initiated by Vermont Stop the F35 Coalition, Save Our Skies Vermont, Western Maine Matters, Alaska Peace Center, University of Alaska Fairbanks Peace Club, North Star Chapter 146 Veterans For Peace, World Beyond War, RootsAction.org, Code Pink, and Ben Cohen. \\nThe petition reads: \\nThe F-35 is a weapon of offensive war, serving no defensive purpose. It is planned to cost the U.S. $1.4 trillion over 50 years. Because starvation on earth could be ended for $30 billion and the lack of clean drinking water for $11 billion per year, it is first and foremost through the wasting of resources that this airplane will kill. Military spending, contrary to popular misconception, also hurts the U.S. economy ( see here ) and other economies. The F-35 causes negative health impacts and cognitive impairment in children living near its bases. It renders housing near airports unsuitable for residential use. It has a high crash rate and horrible consequences to those living in the area of its crashes. Its emissions are a major environmental polluter. \\nWars are endangering the United States and other participating nations rather than protecting them. Nonviolent tools of law, diplomacy, aid, crisis prevention, and verifiable nuclear disarmament should be substituted for continuing counterproductive wars. Therefore, we, the undersigned, call for the immediate cancellation of the F-35 program as a whole, and the immediate cancellation of plans to base any such dangerous and noisy jets near populated areas. We oppose replacing the F-35 with any other weapon or basing the F-35 in any other locations. We further demand redirection of the money for the F-35 back into taxpayers’ pockets, and into environmental and human needs in the U.S., other F-35 customer nations, and around the world, including to fight climate change, pay off student debt, rebuild crumbling infrastructure, and improve education, healthcare, and housing. \\nAdd your name . \\nDavid Swanson is an author, activist, journalist, and radio host. He is director of WorldBeyondWar.org and campaign coordinator for RootsAction.org . Swanson’s books include War Is A Lie . He blogs at DavidSwanson.org and WarIsACrime.org . He hosts Talk Nation Radio .He is a 2015 and 2016 Nobel Peace Prize Nominee. \\nFollow him on Twitter: @davidcnswanson and FaceBook . \\nHelp support DavidSwanson.org, WarIsACrime.org, and TalkNationRadio.org by clicking here: http://davidswanson.org/donate .                                                                                                                                                                                                                                                                                                                                                                                                                                                                                                                                                                                                                                                                             \n",
              "Name: text, Length: 20800, dtype: object"
            ]
          },
          "execution_count": 9,
          "metadata": {},
          "output_type": "execute_result"
        }
      ],
      "source": [
        "df['text']"
      ]
    },
    {
      "cell_type": "code",
      "execution_count": null,
      "metadata": {
        "colab": {
          "base_uri": "https://localhost:8080/",
          "height": 198
        },
        "id": "cVZz2MtiHOjv",
        "outputId": "357a4ec3-05c6-411d-da71-b8abfd24c2a5"
      },
      "outputs": [
        {
          "data": {
            "text/html": [
              "<div>\n",
              "<style scoped>\n",
              "    .dataframe tbody tr th:only-of-type {\n",
              "        vertical-align: middle;\n",
              "    }\n",
              "\n",
              "    .dataframe tbody tr th {\n",
              "        vertical-align: top;\n",
              "    }\n",
              "\n",
              "    .dataframe thead th {\n",
              "        text-align: right;\n",
              "    }\n",
              "</style>\n",
              "<table border=\"1\" class=\"dataframe\">\n",
              "  <thead>\n",
              "    <tr style=\"text-align: right;\">\n",
              "      <th></th>\n",
              "      <th>count</th>\n",
              "    </tr>\n",
              "    <tr>\n",
              "      <th>label</th>\n",
              "      <th></th>\n",
              "    </tr>\n",
              "  </thead>\n",
              "  <tbody>\n",
              "    <tr>\n",
              "      <th>1</th>\n",
              "      <td>10413</td>\n",
              "    </tr>\n",
              "    <tr>\n",
              "      <th>0</th>\n",
              "      <td>10387</td>\n",
              "    </tr>\n",
              "  </tbody>\n",
              "</table>\n",
              "</div><br><label><b>dtype:</b> int64</label>"
            ],
            "text/plain": [
              "label\n",
              "1    10413\n",
              "0    10387\n",
              "Name: count, dtype: int64"
            ]
          },
          "execution_count": 10,
          "metadata": {},
          "output_type": "execute_result"
        }
      ],
      "source": [
        "df['label'].value_counts()"
      ]
    },
    {
      "cell_type": "code",
      "execution_count": null,
      "metadata": {
        "colab": {
          "base_uri": "https://localhost:8080/",
          "height": 261
        },
        "id": "HXNS2oAgHcNX",
        "outputId": "657e23f8-f5bb-4e03-ac43-f522fe5385d4"
      },
      "outputs": [
        {
          "data": {
            "text/html": [
              "<div>\n",
              "<style scoped>\n",
              "    .dataframe tbody tr th:only-of-type {\n",
              "        vertical-align: middle;\n",
              "    }\n",
              "\n",
              "    .dataframe tbody tr th {\n",
              "        vertical-align: top;\n",
              "    }\n",
              "\n",
              "    .dataframe thead th {\n",
              "        text-align: right;\n",
              "    }\n",
              "</style>\n",
              "<table border=\"1\" class=\"dataframe\">\n",
              "  <thead>\n",
              "    <tr style=\"text-align: right;\">\n",
              "      <th></th>\n",
              "      <th>0</th>\n",
              "    </tr>\n",
              "  </thead>\n",
              "  <tbody>\n",
              "    <tr>\n",
              "      <th>id</th>\n",
              "      <td>0</td>\n",
              "    </tr>\n",
              "    <tr>\n",
              "      <th>title</th>\n",
              "      <td>558</td>\n",
              "    </tr>\n",
              "    <tr>\n",
              "      <th>author</th>\n",
              "      <td>1957</td>\n",
              "    </tr>\n",
              "    <tr>\n",
              "      <th>text</th>\n",
              "      <td>39</td>\n",
              "    </tr>\n",
              "    <tr>\n",
              "      <th>label</th>\n",
              "      <td>0</td>\n",
              "    </tr>\n",
              "  </tbody>\n",
              "</table>\n",
              "</div><br><label><b>dtype:</b> int64</label>"
            ],
            "text/plain": [
              "id        0   \n",
              "title     558 \n",
              "author    1957\n",
              "text      39  \n",
              "label     0   \n",
              "dtype: int64"
            ]
          },
          "execution_count": 11,
          "metadata": {},
          "output_type": "execute_result"
        }
      ],
      "source": [
        "df.isnull().sum()"
      ]
    },
    {
      "cell_type": "code",
      "execution_count": null,
      "metadata": {
        "id": "Ngy3Ni1AHgAF"
      },
      "outputs": [],
      "source": [
        "df=df.dropna()"
      ]
    },
    {
      "cell_type": "code",
      "execution_count": null,
      "metadata": {
        "colab": {
          "base_uri": "https://localhost:8080/",
          "height": 261
        },
        "id": "CbuV9HepHpi2",
        "outputId": "4286248b-84b0-47ec-ded2-15d1bb63c49f"
      },
      "outputs": [
        {
          "data": {
            "text/html": [
              "<div>\n",
              "<style scoped>\n",
              "    .dataframe tbody tr th:only-of-type {\n",
              "        vertical-align: middle;\n",
              "    }\n",
              "\n",
              "    .dataframe tbody tr th {\n",
              "        vertical-align: top;\n",
              "    }\n",
              "\n",
              "    .dataframe thead th {\n",
              "        text-align: right;\n",
              "    }\n",
              "</style>\n",
              "<table border=\"1\" class=\"dataframe\">\n",
              "  <thead>\n",
              "    <tr style=\"text-align: right;\">\n",
              "      <th></th>\n",
              "      <th>0</th>\n",
              "    </tr>\n",
              "  </thead>\n",
              "  <tbody>\n",
              "    <tr>\n",
              "      <th>id</th>\n",
              "      <td>0</td>\n",
              "    </tr>\n",
              "    <tr>\n",
              "      <th>title</th>\n",
              "      <td>0</td>\n",
              "    </tr>\n",
              "    <tr>\n",
              "      <th>author</th>\n",
              "      <td>0</td>\n",
              "    </tr>\n",
              "    <tr>\n",
              "      <th>text</th>\n",
              "      <td>0</td>\n",
              "    </tr>\n",
              "    <tr>\n",
              "      <th>label</th>\n",
              "      <td>0</td>\n",
              "    </tr>\n",
              "  </tbody>\n",
              "</table>\n",
              "</div><br><label><b>dtype:</b> int64</label>"
            ],
            "text/plain": [
              "id        0\n",
              "title     0\n",
              "author    0\n",
              "text      0\n",
              "label     0\n",
              "dtype: int64"
            ]
          },
          "execution_count": 13,
          "metadata": {},
          "output_type": "execute_result"
        }
      ],
      "source": [
        "df.isnull().sum()"
      ]
    },
    {
      "cell_type": "code",
      "execution_count": null,
      "metadata": {
        "id": "vn-l8kzEHsWh"
      },
      "outputs": [],
      "source": [
        "df.reset_index(inplace=True)"
      ]
    },
    {
      "cell_type": "code",
      "execution_count": null,
      "metadata": {
        "id": "TAqNmY16HxAi"
      },
      "outputs": [],
      "source": [
        "import re\n",
        "import string"
      ]
    },
    {
      "cell_type": "markdown",
      "metadata": {
        "id": "TrlUkUkuH6Y0"
      },
      "source": [
        "#Text Cleaning"
      ]
    },
    {
      "cell_type": "markdown",
      "source": [
        "## Removing Alphanumeric, Punchuation, Lowering the word"
      ],
      "metadata": {
        "id": "xcdlFFl0cUmZ"
      }
    },
    {
      "cell_type": "code",
      "execution_count": null,
      "metadata": {
        "colab": {
          "base_uri": "https://localhost:8080/"
        },
        "id": "cfiTtsqzH4Z3",
        "outputId": "3b2864e0-8e8e-4981-bc1c-6f02948e3a17"
      },
      "outputs": [
        {
          "name": "stderr",
          "output_type": "stream",
          "text": [
            "<ipython-input-16-7277e090c952>:6: SettingWithCopyWarning: \n",
            "A value is trying to be set on a copy of a slice from a DataFrame.\n",
            "Try using .loc[row_indexer,col_indexer] = value instead\n",
            "\n",
            "See the caveats in the documentation: https://pandas.pydata.org/pandas-docs/stable/user_guide/indexing.html#returning-a-view-versus-a-copy\n",
            "  df['text']=df['text'].map(alphanumeric).map(punc_lower).map(remove_n).map(remove_non_ascii)\n"
          ]
        }
      ],
      "source": [
        "alphanumeric= lambda x: re.sub('\\w*\\d\\w*',\" \",x)\n",
        "punc_lower= lambda x: re.sub('[%s]' %re.escape(string.punctuation),\" \",x.lower())\n",
        "remove_n= lambda x: re.sub('\\n',\" \",x)\n",
        "remove_non_ascii=lambda x:re.sub(r'[^\\x00-\\x7f]',r\" \",x)\n",
        "\n",
        "df['text']=df['text'].map(alphanumeric).map(punc_lower).map(remove_n).map(remove_non_ascii)"
      ]
    },
    {
      "cell_type": "code",
      "execution_count": null,
      "metadata": {
        "colab": {
          "base_uri": "https://localhost:8080/",
          "height": 1000
        },
        "collapsed": true,
        "id": "qvhWWfFhJVg0",
        "outputId": "ef3f68ac-efc6-4f94-8089-f79a7001b5c8"
      },
      "outputs": [
        {
          "data": {
            "text/html": [
              "<div>\n",
              "<style scoped>\n",
              "    .dataframe tbody tr th:only-of-type {\n",
              "        vertical-align: middle;\n",
              "    }\n",
              "\n",
              "    .dataframe tbody tr th {\n",
              "        vertical-align: top;\n",
              "    }\n",
              "\n",
              "    .dataframe thead th {\n",
              "        text-align: right;\n",
              "    }\n",
              "</style>\n",
              "<table border=\"1\" class=\"dataframe\">\n",
              "  <thead>\n",
              "    <tr style=\"text-align: right;\">\n",
              "      <th></th>\n",
              "      <th>text</th>\n",
              "    </tr>\n",
              "  </thead>\n",
              "  <tbody>\n",
              "    <tr>\n",
              "      <th>0</th>\n",
              "      <td>house dem aide  we didn t even see comey s letter until jason chaffetz tweeted it by darrell lucus on october      subscribe jason chaffetz on the stump in american fork  utah   image courtesy michael jolley  available under a creative commons by license   with apologies to keith olbermann  there is no doubt who the worst person in the world is this week fbi director james comey  but according to a house democratic aide  it looks like we also know who the second worst person is as well  it turns out that when comey sent his now infamous letter announcing that the fbi was looking into emails that may be related to hillary clinton s email server  the ranking democrats on the relevant committees didn t hear about it from comey  they found out via a tweet from one of the republican committee chairmen   as we now know  comey notified the republican chairmen and democratic ranking members of the house intelligence  judiciary  and oversight committees that his agency was reviewing emails it had recently discovered in order to see if they contained classified information  not long after this letter went out  oversight committee chairman jason chaffetz set the political world ablaze with this tweet  fbi dir just informed me   the fbi has learned of the existence of emails that appear to be pertinent to the investigation   case reopened    jason chaffetz   jasoninthehouse  october       of course  we now know that this was not the case   comey was actually saying that it was reviewing the emails in light of  an unrelated case  which we now know to be anthony weiner s sexting with a teenager  but apparently such little things as facts didn t matter to chaffetz  the utah republican had already vowed to initiate a raft of investigations if hillary wins at least two years  worth  and possibly an entire term s worth of them  apparently chaffetz thought the fbi was already doing his work for him resulting in a tweet that briefly roiled the nation before cooler heads realized it was a dud   but according to a senior house democratic aide  misreading that letter may have been the least of chaffetz  sins  that aide told shareblue that his boss and other democrats didn t even know about comey s letter at the time and only found out when they checked twitter   democratic ranking members on the relevant committees didn t receive comey s letter until after the republican chairmen  in fact  the democratic ranking members didn  receive it until after the chairman of the oversight and government reform committee  jason chaffetz  tweeted it out and made it public    so let s see if we ve got this right  the fbi director tells chaffetz and other gop committee chairmen about a major development in a potentially politically explosive investigation  and neither chaffetz nor his other colleagues had the courtesy to let their democratic counterparts know about it  instead  according to this aide  he made them find out about it on twitter   there has already been talk on daily kos that comey himself provided advance notice of this letter to chaffetz and other republicans  giving them time to turn on the spin machine  that may make for good theater  but there is nothing so far that even suggests this is the case  after all  there is nothing so far that suggests that comey was anything other than grossly incompetent and tone deaf   what it does suggest  however  is that chaffetz is acting in a way that makes dan burton and darrell issa look like models of responsibility and bipartisanship  he didn t even have the decency to notify ranking member elijah cummings about something this explosive  if that doesn t trample on basic standards of fairness  i don t know what does   granted  it s not likely that chaffetz will have to answer for this  he sits in a ridiculously republican district anchored in provo and orem  it has a cook partisan voting index of r    and gave mitt romney a punishing   percent of the vote in    moreover  the republican house leadership has given its full support to chaffetz  planned fishing expedition  but that doesn t mean we can t turn the hot lights on him  after all  he is a textbook example of what the house has become under republican control  and he is also the second worst person in the world  about darrell lucus  darrell is a   something graduate of the university of north carolina who considers himself a journalist of the old school  an attempt to turn him into a member of the religious right in college only succeeded in turning him into the religious right s worst nightmare  a charismatic christian who is an unapologetic liberal  his desire to stand up for those who have been scared into silence only increased when he survived an abusive three year marriage  you may know him on daily kos as christian dem in nc   follow him on twitter  darrelllucus or connect with him on facebook   click here to buy darrell a mello yello  connect</td>\n",
              "    </tr>\n",
              "    <tr>\n",
              "      <th>1</th>\n",
              "      <td>ever get the feeling your life circles the roundabout rather than heads in a straight line toward the intended destination   hillary clinton remains the big woman on campus in leafy  liberal wellesley  massachusetts  everywhere else votes her most likely to don her inauguration dress for the remainder of her days the way miss havisham forever wore that wedding dress   speaking of great expectations  hillary rodham overflowed with them   years ago when she first addressed a wellesley graduating class  the president of the college informed those gathered in   that the students needed  no debate so far as i could ascertain as to who their spokesman was to be   kind of the like the democratic primaries in   minus the   terms unknown then even at a seven sisters school    i am very glad that miss adams made it clear that what i am speaking for today is all of us    the   of us   miss rodham told her classmates  after appointing herself edger bergen to the charlie mccarthys and mortimer snerds in attendance  the    bespectacled in granny glasses  awarding her matronly wisdom    or at least john lennon wisdom  took issue with the previous speaker  despite becoming the first   to win election to a seat in the u  s  senate since reconstruction  edward brooke came in for criticism for calling for  empathy  for the goals of protestors as he criticized tactics  though clinton in her senior thesis on saul alinsky lamented  black power demagogues  and  elitist arrogance and repressive intolerance  within the new left  similar words coming out of a republican necessitated a brief rebuttal   trust   rodham ironically observed in     this is one word that when i asked the class at our rehearsal what it was they wanted me to say for them  everyone came up to me and said  talk about trust  talk about the lack of trust both for us and the way we feel about others  talk about the trust bust   what can you say about it  what can you say about a feeling that permeates a generation and that perhaps is not even understood by those who are distrusted   the  trust bust  certainly busted clinton s   plans  she certainly did not even understand that people distrusted her  after whitewater  travelgate  the vast   conspiracy  benghazi  and the missing emails  clinton found herself the distrusted voice on friday  there was a load of compromising on the road to the broadening of her political horizons  and distrust from the american people    trump edged her   percent to   percent on the question immediately prior to november s election    stood as a major reason for the closing of those horizons  clinton described her vanquisher and his supporters as embracing a  lie   a  con    alternative facts   and  a   assault on truth and reason    she failed to explain why the american people chose his lies over her truth   as the history majors among you here today know all too well  when people in power invent their own facts and attack those who question them  it can mark the beginning of the end of a free society   she offered   that is not hyperbole    like so many people to emerge from the    hillary clinton embarked upon a long  strange trip  from high school goldwater girl and wellesley college republican president to democratic politician  clinton drank in the times and the place that gave her a degree  more significantly  she went from idealist to cynic  as a comparison of her two wellesley commencement addresses show  way back when  she lamented that  for too long our leaders have viewed politics as the art of the possible  and the challenge now is to practice politics as the art of making what appears to be impossible possible    now  as the big woman on campus but the odd woman out of the white house  she wonders how her current station is even possible   why aren t i   points ahead   she asked in september  in may she asks why she isn t president  the woman famously dubbed a  congenital liar  by bill safire concludes that lies did her in    theirs  mind you  not hers  getting stood up on election day  like finding yourself the jilted bride on your wedding day  inspires dangerous delusions</td>\n",
              "    </tr>\n",
              "    <tr>\n",
              "      <th>2</th>\n",
              "      <td>why the truth might get you fired october       the tension between intelligence analysts and political policymakers has always been between honest assessments and desired results  with the latter often overwhelming the former  as in the iraq war  writes lawrence davidson   by lawrence davidson  for those who might wonder why foreign policy makers repeatedly make bad choices  some insight might be drawn from the following analysis  the action here plays out in the united states  but the lessons are probably universal   back in the early spring of    george w  bush initiated the invasion of iraq  one of his key public reasons for doing so was the claim that the country s dictator  saddam hussein  was on the verge of developing nuclear weapons and was hiding other weapons of mass destruction  the real reason went beyond that charge and included a long range plan for  regime change  in the middle east  president george w  bush and vice president dick cheney receive an oval office briefing from cia director george tenet  also present is chief of staff andy card  on right    white house photo   for our purposes  we will concentrate on the belief that iraq was about to become a hostile nuclear power  why did president bush and his close associates accept this scenario so readily   the short answer is bush wanted  indeed needed  to believe it as a rationale for invading iraq  at first he had tried to connect saddam hussein to the     attacks on the u s  though he never gave up on that stratagem  the lack of evidence made it difficult to rally an american people  already fixated on afghanistan  to support a war against baghdad   but the nuclear weapons gambit proved more fruitful  not because there was any hard evidence for the charge  but because supposedly reliable witnesses  in the persons of exiled anti saddam iraqis  many on the u s  government s payroll    kept telling bush and his advisers that the nuclear story was true   what we had was a u s  leadership cadre whose worldview literally demanded a mortally dangerous iraq  and informants who  in order to precipitate the overthrow of saddam  were willing to tell the tale of pending atomic weapons  the strong desire to believe the tale of a nuclear iraq lowered the threshold for proof   likewise  the repeated assertions by assumed dependable iraqi sources underpinned a nationwide u s  campaign generating both fear and war fever   so the u s  and its allies insisted that the united nations send in weapons inspectors to scour iraq for evidence of a nuclear weapons program  as well as chemical and biological weapons   that the inspectors could find no convincing evidence only frustrated the bush administration and soon forced its hand   on march       bush launched the invasion of iraq with the expectation was that  once in occupation of the country  u s  inspectors would surely find evidence of those nukes  or at least stockpiles of chemical and biological weapons   they did not  their iraqi informants had systematically lied to them   social and behavioral sciences to the rescue   the various u s  intelligence agencies were thoroughly shaken by this affair  and today    years later  their directors and managers are still trying to sort it out   specifically  how to tell when they are getting  true  intelligence and when they are being lied to  or  as one intelligence worker has put it  we need   help to protect us against armies of snake oil salesmen    to that end the cia et al  are in the market for academic assistance  ahmed chalabi  head of the iraqi national congress  a key supplier of iraqi defectors with bogus stories of hidden wmd   a  partnership  is being forged between the office of the director of national intelligence  odni   which serves as the coordinating center for the sixteen independent u s  intelligence agencies  and the national academies of sciences  engineering and medicine   the result of this collaboration will be a   permanent intelligence community studies board  to coordinate programs in  social and behavioral science research  that  might strengthen national security     despite this effort  it is almost certain that the  social and behavioral sciences  cannot give the spy agencies what they want   a way of detecting lies that is better than their present standard procedures of polygraph tests and interrogations  but even if they could  it might well make no difference  because the real problem is not to be found with the liars  it is to be found with the believers   the believers  it is simply not true  as the odni leaders seem to assert  that u s  intelligence agency personnel cannot tell  more often than not  that they are being lied to  this is the case because there are thousands of middle echelon intelligence workers  desk officers  and specialists who know something closely approaching the truth   that is  they know pretty well what is going on in places like afghanistan  iraq  syria  libya  israel  palestine and elsewhere  director of national intelligence james clapper  right  talks with president barack obama in the oval office  with john brennan and other national security aides present   photo credit  office of director of national intelligence   therefore  if someone feeds them  snake oil   they usually know it  however  having an accurate grasp of things is often to no avail because their superiors   those who got their appointments by accepting a pre structured worldview   have different criterion for what is  true  than do the analysts   listen to charles gaukel  of the national intelligence council   yet another organization that acts as a meeting ground for the   intelligence agencies  referring to the search for a way to avoid getting taken in by lies  gaukel has declared    we re looking for truth  but we re particularly looking for truth that works    now what might that mean   i can certainly tell you what it means historically  it means that for the power brokers   truth  must match up  fit with  their worldview   their political and ideological precepts  if it does not fit  it does not  work   so the intelligence specialists who send their usually accurate assessments up the line to the policy makers often hit a roadblock caused by  group think   ideological blinkers  and a  we know better  attitude   on the other hand  as long as what you re selling the leadership matches up with what they want to believe  you can peddle them anything  imaginary iraqi nukes  israel as a western style democracy  saudi arabia as an indispensable ally  libya as a liberated country  bashar al assad as the real roadblock to peace in syria  the strategic defense initiative  sdi  aka star wars  a world that is getting colder and not warmer  american exceptionalism in all its glory   the list is almost endless   what does this sad tale tell us  if you want to spend millions of dollars on social and behavioral science research to improve the assessment and use of intelligence  forget about the liars  what you want to look for is an antidote to the narrow mindedness of the believers   the policymakers who seem not to be able to rise above the ideological presumptions of their class   presumptions that underpin their self confidence as they lead us all down slippery slopes   it has happened this way so often  and in so many places  that it is the source of shakespeare s determination that  what is past  is prelude   our elites play out our destinies as if they have no free will   no capacity to break with structured ways of seeing  yet the middle echelon specialists keep sending their relatively accurate assessments up the ladder of power  hope springs eternal</td>\n",
              "    </tr>\n",
              "    <tr>\n",
              "      <th>3</th>\n",
              "      <td>videos   civilians killed in single us airstrike have been identified the rate at which civilians are being killed by american airstrikes in afghanistan is now higher than it was in   when the us was engaged in active combat operations    photo of hellfire missiles being loaded onto a us military reaper drone in afghanistan by staff sgt  brian ferguson u s  air force   the bureau has been able to identify   civilians killed in a single us drone strike in afghanistan last month   the biggest loss of civilian life in one strike since the attack on the medecins sans frontieres hospital  msf  last october   the us claimed it had conducted a  counter terrorism  strike against islamic state  is  fighters when it hit nangarhar province with missiles on september    but the next day the united nations issued an unusually rapid and strong statement saying the strike had killed   civilians and injured   others who had gathered at a house to celebrate a tribal elder s return from a pilgrimage to mecca   the bureau spoke to a man named haji rais who said he was the owner of the house that was targeted  he said   people were killed and   others injured  and provided their names  listed below   the bureau was able to independently verify the identities of those who died   rais  son  a headmaster at a local school  was among them  another man  abdul hakim  lost three of his sons in the attack   rais said he had no involvement with is and denied us claims that is members had visited his house before the strike  he said   i did not even speak to those sort of people on the phone let alone receiving them in my house    the deaths amount to the biggest confirmed loss of civilian life in a single american strike in afghanistan since the attack on the msf hospital in kunduz last october  which killed at least   people   the nangarhar strike was not the only us attack to kill civilians in september  the bureau s data indicates that as many as   civilians and allied soldiers were killed in four american strikes in afghanistan and somalia that month   on september   a pair of strikes killed eight afghan policemen in tarinkot  the capital of urozgan provice  us jets reportedly hit a police checkpoint  killing one officer  before returning to target first responders  the use of this tactic   known as a  double tap  strike   is controversial because they often hit civilian rescuers   the us told the bureau it had conducted the strike against individuals firing on and posing a threat to afghan forces  the email did not directly address the allegations of afghan policemen being killed   at the end of the month in somalia  citizens burnt us flags on the streets of the north central city of galcayo after it emerged a drone attack may have unintentionally killed   somali soldiers and civilians  the strike occurred on the same day as the one in nangarhar   in both the somali and afghan incidents  the us at first denied that any non combatants had been killed  it is now investigating both the strikes in nangarhar and galcayo   the rate at which civilians are being killed by american airstrikes in afghanistan is now higher than it was in   when the us was engaged in active combat operations  name</td>\n",
              "    </tr>\n",
              "    <tr>\n",
              "      <th>4</th>\n",
              "      <td>print  an iranian woman has been sentenced to six years in prison after iran s revolutionary guard searched her home and found a notebook that contained a fictional story she d written about a woman who was stoned to death  according to the eurasia review    golrokh ebrahimi iraee     is the wife of political prisoner arash sadeghi     who is serving a   year prison sentence for being a human rights activist  the publication reported    when the intelligence unit of the revolutionary guards came to arrest her husband  they raided their apartment   without a warrant   and found drafts of stories that ebrahimi iraee had written   the article stated    one of the confiscated drafts was a story about stoning women to death for adultery   never published  never presented to anyone   the article stated   the narrative followed the story of a protagonist that watched a movie about stoning of women under islamic law for adultery</td>\n",
              "    </tr>\n",
              "    <tr>\n",
              "      <th>...</th>\n",
              "      <td>...</td>\n",
              "    </tr>\n",
              "    <tr>\n",
              "      <th>18280</th>\n",
              "      <td>rapper t  i  unloaded on black celebrities who met with donald trump after the election  saying they failed to challenge the president for disrespecting and degrading black voters during the campaign   the atlanta    based artist told the   of the view thursday that he took issue with talk show host steve harvey    kanye west  and football hall of famer and civil rights champion jim brown meeting with trump    before you stand and smile and say this is a good man and take pictures  what about addressing the disrespect and disregard for our community that was done   t  i  said  adding  and what about him being the poster child for white supremacy and standing for the people who look to devalue our lives   the   star of the   reality show t  i   tiny  the family hustle also defended fellow rapper snoop dogg  who recently starred in a   music video that sees the  doggystyle  rapper pull a gun on and  shoot  a parody clown version of president donald trump   whatever snoop said  he had the right to say  he s protected by the constitution in saying it   t  i  said   we have to protect our legends  we have to protect our heroes and the people who mean something to us and our community and our culture    the view   sunny hostin suggested that trump advisor omarosa manigault has stated the administration s intention to  bridge the gap  between the white house and the black community  to which t  i  responded with a personal insult   she can t even bridge the gap in her teeth   the rapper said  t  i  had originally defended snoop dogg and his controversial video in an instagram message  calling trump a  f cking tangerine tanned muskrat scrotum skin  lacefront possum fur wig wearing  alternative fact  atomic dog diarrhea face ass man  sic       follow jerome hudson on twitter   jeromeehudson</td>\n",
              "    </tr>\n",
              "    <tr>\n",
              "      <th>18281</th>\n",
              "      <td>when the green bay packers lost to the washington redskins in week    dropping to   aaron rodgers vowed to  run the table  in a march to the playoffs  with a   victory over the detroit lions on sunday night  the team fulfilled rodgers  promise  much of the drama of the matchup between division rivals was eliminated earlier in the day when the redskins lost to the giants  thus guaranteeing both the packers and lions would be playoff teams  but the n  f  c  north bragging rights  and a home game in the first round of the playoffs  were sufficient motivation for green bay to push hard enough to secure the team s sixth consecutive win and the third consecutive loss for detroit  pundits had spent the week deciphering all of the wild scenarios that could play out for positioning among the remaining teams  but when all was said and done  ten of the teams that were in line for a playoff spot remained in the same seeding order  no    detroit lions at no    seattle seahawks time      p  m  eastern saturday on nbc the seahawks  title hopes took a crushing blow when earl thomas was lost for the season with a broken leg  after the injury  the seahawks went   with the wins coming with major asterisks as they came against the   rams and    that collapse paled in comparison to the lions  who lost their final three games  blowing what had been a large division lead against green bay  line  seahawks          no    giants at no    green bay packers time      p  m  eastern sunday on fox thanks to playing in the n  f  c  east  home of the   dallas cowboys  the giants managed to tie atlanta for the   record in the n  f  c  but got stuck with the no    seed in the playoffs and a road game against a   packers squad that won its final six games  the good news for the giants is that superstitious fans will note that the last two times they played the packers on the road in the playoffs  they not only won the games but went on to win the super bowl both times  line  packers             bye weeks  dallas  atlanta no    oakland raiders at no    houston texans time      p  m  eastern saturday on espn line  texans          the texans were the least inspiring of the n  f  l   s division champions and that was complicated further when tom savage  whom the team had elevated to starting quarterback after the benching of brock osweiler  was forced to leave week   s loss to tennessee with a concussion  as bad as that sounds  it may still be enough against a reeling oakland squad that lost derek carr to a broken leg in week    matt mcgloin to a shoulder injury in week    and fell all the way from the no    seed in the a  f  c  to no     it is unclear at this point if mcgloin or rookie connor cook will start at quarterback against houston  no    miami dolphins at no    pittsburgh steelers time      p  m  eastern sunday on cbs the dolphins were a contender when the team s quarterback  ryan tannehill  was lost in week   with injured ligaments in his left knee  thanks to backup quarterback matt moore  and jay ajayi  the team s   running back  they won two of three games and secured a   berth  but going up against a   offense like pittsburgh is a tough test for miami s middling defense  even if tannehill s knee heals enough to allow him to return  line  steelers               bye weeks  new england  kansas city with four teams vying for two n  f  c  playoff spots  all eyes were on the   game on sunday  a redskins victory could have caused movement in the seedings  with the lions and packers playing a     evening matchup  the giants  who had already locked up the no    seed and had nothing to gain  threw a wrench in the redskins  plans  eliminating their division rivals with a decisive   victory  with the drama essentially taken out of the n  f  c  all of the playoff movement sunday occurred in the a  f  c  where there was a   at the top of the standings in the a  f  c  west  just a week after losing derek carr  the team s quarterback and a legitimate candidate for most valuable player  to a broken leg  the oakland raiders were crushed   by the denver broncos  that  combined with the kansas city chiefs    victory over the san diego chargers vaulted the chiefs from a   spot all the way to the no    seed in the a  f  c  which comes with a   bye in the playoffs  the loss for oakland added to the misery of the raiders  who have gone from super bowl contenders last week to a   team that will play on the road in houston next week potentially with a   quarterback under center as carr s backup  matt mcgloin  injured his shoulder in the loss to the broncos  beyond the switch to the chiefs as the no    in the a  f  c  it was business as usual for the teams that will get bye weeks in the playoffs  the new england patriots secured the no    spot in the a  f  c  with a win over miami  the dallas cowboys were already guaranteed the no    spot in the n  f  c  before their loss to philadelphia  and the atlanta falcons held onto the no    seed in the n  f  c  with a   win over new orleans  the only remaining chance for a minor   was for the packers  who led their division by virtue of a tiebreaker  to lose to the lions  which would have forced them to play on the road in the   round of the playoffs  but the    aspect of the de facto n  f  c  north championship went away when the redskins lost to the giants  which eliminated the redskins from   contention  while most of the races were straight forward  one of the crazier playoff scenarios that had been discussed before the week was the possibility that the tampa bay buccaneers could find themselves in the playoffs  they simply had to shoot the moon by beating the carolina panthers  having the redskins tie the giants  the packers lose to the lions  and should all of that happen they simply required wins by indianapolis  dallas  tennessee and san francisco to top the packers in strength of schedule  tampa bay took care of their end by beating the panthers early in the day  but they were eliminated officially when dallas lost to philadelphia</td>\n",
              "    </tr>\n",
              "    <tr>\n",
              "      <th>18282</th>\n",
              "      <td>the macy s of today grew from the union of several great names in american retailing  including its namesake chain  bloomingdale s and marshall field s  but the ambitious owner of saks fifth avenue has broached the idea of taking the union even further  combining with macy s to create a department store juggernaut at a time when the industry is reeling  hudson s bay company  the canadian owner of saks  has approached macy s about a potential takeover  people briefed on the matter who were not authorized to speak publicly said on friday  talks between the two companies are at an early stage and may still fall apart or lead to a partnership of some kind rather than a sale  while it is unclear whether a deal will happen  a combination could lift the fortunes of macy s  the country s biggest department store  which has been struggling  investors certainly appeared to see it that way  shares of macy s rose as much as   percent on friday  its biggest intraday gain since aug     according to data from bloomberg  once a retail titan  macy s has struggled to remain relevant as   and discount retailers have decimated the traditional    business  last month  macy s announced plans to cut more than      jobs and close some of its   stores  terry lundgren  its chief executive and the architect of macy s last big merger  is expected to step down by the end of march  he will be succeeded by the company s president  jeffrey gennette  since the recession  shoppers have grown accustomed to hunt for bargains and to not pay full price  discount stores and outlet malls have flourished  traditional stores have been compelled to respond by trimming prices  which cuts into their margins  departments stores have been hit especially hard  particularly as shoppers migrate away from malls  what has emerged  analysts say  is a virtual race to the bottom  that has been particularly difficult for macy s  born of a series of mergers over the past two decades that made it a juggernaut in the industry  a stalwart of the middle tier of retail  the company has neither the advantages of   retailers like hm nor the   stores  in addition  macy s faces increasingly fierce competition online from sites like amazon and elsewhere  macy s troubles have drawn the attention of a prominent activist hedge fund  starboard value  which has urged the company to generate cash by selling the real estate beneath its stores  starboard  which held just under   percent of macy s shares as of sept     had previously estimated the value of that land at about    billion  on friday  analysts at citigroup estimated that macy s   holdings could be worth at least    billion  macy s market value  by comparison  was just under    billion as of friday morning  macy s has taken some steps to sell or redevelop stores  and last year  it added an expert on real estate transactions to its board  but the company has largely resisted more ambitious efforts to divest its real estate  including     deals  in which a company sells the underlying land beneath its stores and then rents it back  the company s suitor  hudson s bay company  is far smaller      its market value was about      billion canadian dollars  or       billion      but is known for its bold steps  hudson s bay company has assembled a growing empire that includes the hudson s bay department store chain  lord  taylor and its crown jewel  saks  and the governor and executive chairman of the hudson s bay company  richard baker  has shown little fear of using debt  in november    the company borrowed nearly    billion against the saks flagship in midtown manhattan  he has spoken often of retailers  need to highlight the value of their real estate  financing a bid for macy s may be trickier  however  because the it carries about       billion in   debt  that may mean that the hudson s bay company will have to bring in a partner or borrow against more of its real estate holdings  a spokesman for the hudson s bay company declined to comment on the talks  which were reported earlier by the wall street journal   we do not comment on rumors and speculation   a representative for macy s said  a representative for starboard value did not respond to a request for comment  some analysts said that they saw the merit of a potential combination  particularly given macy s operational woes and mr  baker s expertise in wringing money out of real estate   there is a clear logic  despite disparity in   cap  between macy s and hudson s bay company  craig johnson  the president of customer growth partners  a research firm  said in a note  referring to macy s stock ticker symbol  he added   the retail market has been changing faster than m has been able to keep up with  whether the flight from the mall or the migration online</td>\n",
              "    </tr>\n",
              "    <tr>\n",
              "      <th>18283</th>\n",
              "      <td>nato  russia to hold parallel exercises in balkans        press tv  russia s military and nato forces are holding parallel military exercises in two neighboring balkan countries   russian troops will participate in war games in serbia while nato is conducting military drills in montenegro  media reported on monday   russian forces    day military exercise in serbia is named  the slavic brotherhood    and begins on wednesday   it will include   russian paratroopers    air force staffers  three transport planes and an unspecified number of troops from serbia and belarus  russia s defense ministry said   the five day nato drill in montenegro started on monday and involves responding to floods and chemical attacks  it will involve   unarmed personnel from seven nato countries and   partner states   in the past both serbia and montenegro were constitutional republics of the socialist federal republic of yugoslavia   both countries are socialist republics and traditional russian christian orthodox allies  in   this state union was re formed into serbia and montenegro  and in   the two became independent states   since their split  the two balkan neighbors seem to have headed in different directions strategically   montenegro has taken a pro western stance which has been awarded by nato with an offer to join the northern atlantic alliance   the nato invitation to montenegro has met strong opposition from russia   meanwhile  montenegrin officials have accused russia of staging an alleged coup in october to topple its pro western government because of the nato accession bid   serbia  a nato partner  has held exercises with the western alliance  but not such a large one or with foreign troops and equipment participating on its soil</td>\n",
              "    </tr>\n",
              "    <tr>\n",
              "      <th>18284</th>\n",
              "      <td>david swanson is an author  activist  journalist  and radio host  he is a   nobel peace prize nominee  he is director of worldbeyondwar com and campaign coordinator for rootsaction org   he hosts talk nation radio   talk nation radio is on vt radio and is syndicated by pacifica network  the show also airs on wtju  charlottesville  va  wcsx detroit  mi  kghi  westport  wa  whus  storrs  ct  wprr  grand rapids  mi  krfp lp  moscow  id  kzgm  cabool  mo  kmud  garberville  ca  wazu  peoria  il  wxrd  crown point  in  geneva radio  geneva  ny  kkrn  round mountain  ca  kskq lp  ashland  or  wuow lp  oneonta  ny  no lies radio  pinole  ca  wyap lp  clay  wv  the detour  johnson city  tn  wzrd  chicago  il  weft  champaign  il  wxpi  pittsburgh  pa  wdrt  viroqua  wi  veracity now  online  liberty and justice radio  shirley  ma  ithaca community radio  ithaca  ny  wmcb  greenfield  ma  prx org  kaos      olympia  wa  wusb     fm  stony brook  ny  wool fm  bellow falls  vermont  wslr lp     in sarasota  florida  he also blogs at davidswanson org and warisacrime org and is a prolific author  his latest books are  war is a lie   daybreak  undoing the imperial presidency and forming a more perfect union   and when the world outlawed war swanson holds a master s degree in philosophy from the university of virginia  he has worked as a newspaper reporter and as a communications director  with jobs including press secretary for dennis kucinich s   presidential campaign  media coordinator for the international labor communications association  and three years as communications coordinator for acorn  the association of community organizations for reform now  read his full and complete biography at davidswanson org and also visit book site at war is crime   what keeps the f   alive by david swanson on october      petition to stop f   going global  by david swanson  imagine if a local business in your town invented a brand new tool that was intended to have an almost magical effect thousands of miles away  however  where the tool was kept and used locally became an area unsafe for children  children who got near this tool tended to have increased blood pressure and increased stress hormones  lower reading skills  poorer memories  impaired auditory and speech perception  and impaired academic performance   most of us would find this situation at least a little concerning  unless the new invention was designed to murder lots of people  then it d be just fine   now  imagine if this same new tool ruined neighborhoods because people couldn t safely live near it  imagine if the government had to compensate people but kick them out of living near the location of this tool  again  i think  we might find that troubling if mass murder were not the mission   imagine also that this tool fairly frequently explodes  emitting highly toxic chemicals  particles  and fibers unsafe to breathe into the air for miles around  normally  that d be a problem  but if this tool is needed for killing lots of people  we ll work with its flaws  won t we   now  what if this new gadget was expected to cost at least            over   years  and what if that money had to be taken away from numerous other expenses more beneficial for the economy and the world  what if the      trillion was drained out of the economy causing a loss of jobs and a radical diminuition of resources for education  healthcare  housing  environmental protection  or humanitarian aid  wouldn t that be a worry in some cases  i mean in those cases where the ability to kill tons of human beings wasn t at stake   what if this product  even when working perfectly  was a leading destroyer of the earth s natural environment   what if this high tech toy wasn t even designed to do what was expected of it and wasn t even able to do what it was designed for   amazingly  even those shortcomings do not matter as long as the intention is massive murder and destruction  then  all is forgiven   the tool i m describing is called the f    at rootsaction org you can find a new petition launched by locally minded people acting globally in places where the f   is intended to be based  also at that link you ll find explanations of how the tool i ve been decribing is the f     the petition is directed to the united states congress and the governments of australia  italy  the netherlands  norway  turkey  the united kingdom  israel  japan and south korea from the world and from the people of burlington  vermont  and fairbanks  alaska  where the f   is to be based  this effort is being initiated by vermont stop the   coalition  save our skies vermont  western maine matters  alaska peace center  university of alaska fairbanks peace club  north star chapter   veterans for peace  world beyond war  rootsaction org  code pink  and ben cohen   the petition reads   the f   is a weapon of offensive war  serving no defensive purpose  it is planned to cost the u s       trillion over   years  because starvation on earth could be ended for    billion and the lack of clean drinking water for    billion per year  it is first and foremost through the wasting of resources that this airplane will kill  military spending  contrary to popular misconception  also hurts the u s  economy   see here   and other economies  the f   causes negative health impacts and cognitive impairment in children living near its bases  it renders housing near airports unsuitable for residential use  it has a high crash rate and horrible consequences to those living in the area of its crashes  its emissions are a major environmental polluter   wars are endangering the united states and other participating nations rather than protecting them  nonviolent tools of law  diplomacy  aid  crisis prevention  and verifiable nuclear disarmament should be substituted for continuing counterproductive wars  therefore  we  the undersigned  call for the immediate cancellation of the f   program as a whole  and the immediate cancellation of plans to base any such dangerous and noisy jets near populated areas  we oppose replacing the f   with any other weapon or basing the f   in any other locations  we further demand redirection of the money for the f   back into taxpayers  pockets  and into environmental and human needs in the u s   other f   customer nations  and around the world  including to fight climate change  pay off student debt  rebuild crumbling infrastructure  and improve education  healthcare  and housing   add your name    david swanson is an author  activist  journalist  and radio host  he is director of worldbeyondwar org and campaign coordinator for rootsaction org   swanson s books include war is a lie   he blogs at davidswanson org and warisacrime org   he hosts talk nation radio  he is a   and   nobel peace prize nominee   follow him on twitter   davidcnswanson and facebook    help support davidswanson org  warisacrime org  and talknationradio org by clicking here  http   davidswanson org donate</td>\n",
              "    </tr>\n",
              "  </tbody>\n",
              "</table>\n",
              "<p>18285 rows × 1 columns</p>\n",
              "</div><br><label><b>dtype:</b> object</label>"
            ],
            "text/plain": [
              "0        house dem aide  we didn t even see comey s letter until jason chaffetz tweeted it by darrell lucus on october      subscribe jason chaffetz on the stump in american fork  utah   image courtesy michael jolley  available under a creative commons by license   with apologies to keith olbermann  there is no doubt who the worst person in the world is this week fbi director james comey  but according to a house democratic aide  it looks like we also know who the second worst person is as well  it turns out that when comey sent his now infamous letter announcing that the fbi was looking into emails that may be related to hillary clinton s email server  the ranking democrats on the relevant committees didn t hear about it from comey  they found out via a tweet from one of the republican committee chairmen   as we now know  comey notified the republican chairmen and democratic ranking members of the house intelligence  judiciary  and oversight committees that his agency was reviewing emails it had recently discovered in order to see if they contained classified information  not long after this letter went out  oversight committee chairman jason chaffetz set the political world ablaze with this tweet  fbi dir just informed me   the fbi has learned of the existence of emails that appear to be pertinent to the investigation   case reopened    jason chaffetz   jasoninthehouse  october       of course  we now know that this was not the case   comey was actually saying that it was reviewing the emails in light of  an unrelated case  which we now know to be anthony weiner s sexting with a teenager  but apparently such little things as facts didn t matter to chaffetz  the utah republican had already vowed to initiate a raft of investigations if hillary wins at least two years  worth  and possibly an entire term s worth of them  apparently chaffetz thought the fbi was already doing his work for him resulting in a tweet that briefly roiled the nation before cooler heads realized it was a dud   but according to a senior house democratic aide  misreading that letter may have been the least of chaffetz  sins  that aide told shareblue that his boss and other democrats didn t even know about comey s letter at the time and only found out when they checked twitter   democratic ranking members on the relevant committees didn t receive comey s letter until after the republican chairmen  in fact  the democratic ranking members didn  receive it until after the chairman of the oversight and government reform committee  jason chaffetz  tweeted it out and made it public    so let s see if we ve got this right  the fbi director tells chaffetz and other gop committee chairmen about a major development in a potentially politically explosive investigation  and neither chaffetz nor his other colleagues had the courtesy to let their democratic counterparts know about it  instead  according to this aide  he made them find out about it on twitter   there has already been talk on daily kos that comey himself provided advance notice of this letter to chaffetz and other republicans  giving them time to turn on the spin machine  that may make for good theater  but there is nothing so far that even suggests this is the case  after all  there is nothing so far that suggests that comey was anything other than grossly incompetent and tone deaf   what it does suggest  however  is that chaffetz is acting in a way that makes dan burton and darrell issa look like models of responsibility and bipartisanship  he didn t even have the decency to notify ranking member elijah cummings about something this explosive  if that doesn t trample on basic standards of fairness  i don t know what does   granted  it s not likely that chaffetz will have to answer for this  he sits in a ridiculously republican district anchored in provo and orem  it has a cook partisan voting index of r    and gave mitt romney a punishing   percent of the vote in    moreover  the republican house leadership has given its full support to chaffetz  planned fishing expedition  but that doesn t mean we can t turn the hot lights on him  after all  he is a textbook example of what the house has become under republican control  and he is also the second worst person in the world  about darrell lucus  darrell is a   something graduate of the university of north carolina who considers himself a journalist of the old school  an attempt to turn him into a member of the religious right in college only succeeded in turning him into the religious right s worst nightmare  a charismatic christian who is an unapologetic liberal  his desire to stand up for those who have been scared into silence only increased when he survived an abusive three year marriage  you may know him on daily kos as christian dem in nc   follow him on twitter  darrelllucus or connect with him on facebook   click here to buy darrell a mello yello  connect                                                                                                                                                                                                                                                                                                                                                                                                                                                                                                                                                                                                                                                                                                                                                                                                                                                                                                                                                                                                                                                                                                                                                                                                                                                                                                                                                                                                                                                                                                                                                                                                                                                                                                                                                                                                                                                                                                                                                                                                                                                                                                                                                                                                                                                                                                                                                                                                                                                                                                                                                                                                                                                                                                                                                                                                                                                                          \n",
              "1        ever get the feeling your life circles the roundabout rather than heads in a straight line toward the intended destination   hillary clinton remains the big woman on campus in leafy  liberal wellesley  massachusetts  everywhere else votes her most likely to don her inauguration dress for the remainder of her days the way miss havisham forever wore that wedding dress   speaking of great expectations  hillary rodham overflowed with them   years ago when she first addressed a wellesley graduating class  the president of the college informed those gathered in   that the students needed  no debate so far as i could ascertain as to who their spokesman was to be   kind of the like the democratic primaries in   minus the   terms unknown then even at a seven sisters school    i am very glad that miss adams made it clear that what i am speaking for today is all of us    the   of us   miss rodham told her classmates  after appointing herself edger bergen to the charlie mccarthys and mortimer snerds in attendance  the    bespectacled in granny glasses  awarding her matronly wisdom    or at least john lennon wisdom  took issue with the previous speaker  despite becoming the first   to win election to a seat in the u  s  senate since reconstruction  edward brooke came in for criticism for calling for  empathy  for the goals of protestors as he criticized tactics  though clinton in her senior thesis on saul alinsky lamented  black power demagogues  and  elitist arrogance and repressive intolerance  within the new left  similar words coming out of a republican necessitated a brief rebuttal   trust   rodham ironically observed in     this is one word that when i asked the class at our rehearsal what it was they wanted me to say for them  everyone came up to me and said  talk about trust  talk about the lack of trust both for us and the way we feel about others  talk about the trust bust   what can you say about it  what can you say about a feeling that permeates a generation and that perhaps is not even understood by those who are distrusted   the  trust bust  certainly busted clinton s   plans  she certainly did not even understand that people distrusted her  after whitewater  travelgate  the vast   conspiracy  benghazi  and the missing emails  clinton found herself the distrusted voice on friday  there was a load of compromising on the road to the broadening of her political horizons  and distrust from the american people    trump edged her   percent to   percent on the question immediately prior to november s election    stood as a major reason for the closing of those horizons  clinton described her vanquisher and his supporters as embracing a  lie   a  con    alternative facts   and  a   assault on truth and reason    she failed to explain why the american people chose his lies over her truth   as the history majors among you here today know all too well  when people in power invent their own facts and attack those who question them  it can mark the beginning of the end of a free society   she offered   that is not hyperbole    like so many people to emerge from the    hillary clinton embarked upon a long  strange trip  from high school goldwater girl and wellesley college republican president to democratic politician  clinton drank in the times and the place that gave her a degree  more significantly  she went from idealist to cynic  as a comparison of her two wellesley commencement addresses show  way back when  she lamented that  for too long our leaders have viewed politics as the art of the possible  and the challenge now is to practice politics as the art of making what appears to be impossible possible    now  as the big woman on campus but the odd woman out of the white house  she wonders how her current station is even possible   why aren t i   points ahead   she asked in september  in may she asks why she isn t president  the woman famously dubbed a  congenital liar  by bill safire concludes that lies did her in    theirs  mind you  not hers  getting stood up on election day  like finding yourself the jilted bride on your wedding day  inspires dangerous delusions                                                                                                                                                                                                                                                                                                                                                                                                                                                                                                                                                                                                                                                                                                                                                                                                                                                                                                                                                                                                                                                                                                                                                                                                                                                                                                                                                                                                                                                                                                                                                                                                                                                                                                                                                                                                                                                                                                                                                                                                                                                                                                                                                                                                                                                                                                                                                                                                                                                                                                                                                                                                                                                                                                                                                                                                                                                                                                                                                                                                                                                                                                                                                                                                                                                                                                                                                                                                                                                                                                                                                                                                                                                                                     \n",
              "2        why the truth might get you fired october       the tension between intelligence analysts and political policymakers has always been between honest assessments and desired results  with the latter often overwhelming the former  as in the iraq war  writes lawrence davidson   by lawrence davidson  for those who might wonder why foreign policy makers repeatedly make bad choices  some insight might be drawn from the following analysis  the action here plays out in the united states  but the lessons are probably universal   back in the early spring of    george w  bush initiated the invasion of iraq  one of his key public reasons for doing so was the claim that the country s dictator  saddam hussein  was on the verge of developing nuclear weapons and was hiding other weapons of mass destruction  the real reason went beyond that charge and included a long range plan for  regime change  in the middle east  president george w  bush and vice president dick cheney receive an oval office briefing from cia director george tenet  also present is chief of staff andy card  on right    white house photo   for our purposes  we will concentrate on the belief that iraq was about to become a hostile nuclear power  why did president bush and his close associates accept this scenario so readily   the short answer is bush wanted  indeed needed  to believe it as a rationale for invading iraq  at first he had tried to connect saddam hussein to the     attacks on the u s  though he never gave up on that stratagem  the lack of evidence made it difficult to rally an american people  already fixated on afghanistan  to support a war against baghdad   but the nuclear weapons gambit proved more fruitful  not because there was any hard evidence for the charge  but because supposedly reliable witnesses  in the persons of exiled anti saddam iraqis  many on the u s  government s payroll    kept telling bush and his advisers that the nuclear story was true   what we had was a u s  leadership cadre whose worldview literally demanded a mortally dangerous iraq  and informants who  in order to precipitate the overthrow of saddam  were willing to tell the tale of pending atomic weapons  the strong desire to believe the tale of a nuclear iraq lowered the threshold for proof   likewise  the repeated assertions by assumed dependable iraqi sources underpinned a nationwide u s  campaign generating both fear and war fever   so the u s  and its allies insisted that the united nations send in weapons inspectors to scour iraq for evidence of a nuclear weapons program  as well as chemical and biological weapons   that the inspectors could find no convincing evidence only frustrated the bush administration and soon forced its hand   on march       bush launched the invasion of iraq with the expectation was that  once in occupation of the country  u s  inspectors would surely find evidence of those nukes  or at least stockpiles of chemical and biological weapons   they did not  their iraqi informants had systematically lied to them   social and behavioral sciences to the rescue   the various u s  intelligence agencies were thoroughly shaken by this affair  and today    years later  their directors and managers are still trying to sort it out   specifically  how to tell when they are getting  true  intelligence and when they are being lied to  or  as one intelligence worker has put it  we need   help to protect us against armies of snake oil salesmen    to that end the cia et al  are in the market for academic assistance  ahmed chalabi  head of the iraqi national congress  a key supplier of iraqi defectors with bogus stories of hidden wmd   a  partnership  is being forged between the office of the director of national intelligence  odni   which serves as the coordinating center for the sixteen independent u s  intelligence agencies  and the national academies of sciences  engineering and medicine   the result of this collaboration will be a   permanent intelligence community studies board  to coordinate programs in  social and behavioral science research  that  might strengthen national security     despite this effort  it is almost certain that the  social and behavioral sciences  cannot give the spy agencies what they want   a way of detecting lies that is better than their present standard procedures of polygraph tests and interrogations  but even if they could  it might well make no difference  because the real problem is not to be found with the liars  it is to be found with the believers   the believers  it is simply not true  as the odni leaders seem to assert  that u s  intelligence agency personnel cannot tell  more often than not  that they are being lied to  this is the case because there are thousands of middle echelon intelligence workers  desk officers  and specialists who know something closely approaching the truth   that is  they know pretty well what is going on in places like afghanistan  iraq  syria  libya  israel  palestine and elsewhere  director of national intelligence james clapper  right  talks with president barack obama in the oval office  with john brennan and other national security aides present   photo credit  office of director of national intelligence   therefore  if someone feeds them  snake oil   they usually know it  however  having an accurate grasp of things is often to no avail because their superiors   those who got their appointments by accepting a pre structured worldview   have different criterion for what is  true  than do the analysts   listen to charles gaukel  of the national intelligence council   yet another organization that acts as a meeting ground for the   intelligence agencies  referring to the search for a way to avoid getting taken in by lies  gaukel has declared    we re looking for truth  but we re particularly looking for truth that works    now what might that mean   i can certainly tell you what it means historically  it means that for the power brokers   truth  must match up  fit with  their worldview   their political and ideological precepts  if it does not fit  it does not  work   so the intelligence specialists who send their usually accurate assessments up the line to the policy makers often hit a roadblock caused by  group think   ideological blinkers  and a  we know better  attitude   on the other hand  as long as what you re selling the leadership matches up with what they want to believe  you can peddle them anything  imaginary iraqi nukes  israel as a western style democracy  saudi arabia as an indispensable ally  libya as a liberated country  bashar al assad as the real roadblock to peace in syria  the strategic defense initiative  sdi  aka star wars  a world that is getting colder and not warmer  american exceptionalism in all its glory   the list is almost endless   what does this sad tale tell us  if you want to spend millions of dollars on social and behavioral science research to improve the assessment and use of intelligence  forget about the liars  what you want to look for is an antidote to the narrow mindedness of the believers   the policymakers who seem not to be able to rise above the ideological presumptions of their class   presumptions that underpin their self confidence as they lead us all down slippery slopes   it has happened this way so often  and in so many places  that it is the source of shakespeare s determination that  what is past  is prelude   our elites play out our destinies as if they have no free will   no capacity to break with structured ways of seeing  yet the middle echelon specialists keep sending their relatively accurate assessments up the ladder of power  hope springs eternal \n",
              "3        videos   civilians killed in single us airstrike have been identified the rate at which civilians are being killed by american airstrikes in afghanistan is now higher than it was in   when the us was engaged in active combat operations    photo of hellfire missiles being loaded onto a us military reaper drone in afghanistan by staff sgt  brian ferguson u s  air force   the bureau has been able to identify   civilians killed in a single us drone strike in afghanistan last month   the biggest loss of civilian life in one strike since the attack on the medecins sans frontieres hospital  msf  last october   the us claimed it had conducted a  counter terrorism  strike against islamic state  is  fighters when it hit nangarhar province with missiles on september    but the next day the united nations issued an unusually rapid and strong statement saying the strike had killed   civilians and injured   others who had gathered at a house to celebrate a tribal elder s return from a pilgrimage to mecca   the bureau spoke to a man named haji rais who said he was the owner of the house that was targeted  he said   people were killed and   others injured  and provided their names  listed below   the bureau was able to independently verify the identities of those who died   rais  son  a headmaster at a local school  was among them  another man  abdul hakim  lost three of his sons in the attack   rais said he had no involvement with is and denied us claims that is members had visited his house before the strike  he said   i did not even speak to those sort of people on the phone let alone receiving them in my house    the deaths amount to the biggest confirmed loss of civilian life in a single american strike in afghanistan since the attack on the msf hospital in kunduz last october  which killed at least   people   the nangarhar strike was not the only us attack to kill civilians in september  the bureau s data indicates that as many as   civilians and allied soldiers were killed in four american strikes in afghanistan and somalia that month   on september   a pair of strikes killed eight afghan policemen in tarinkot  the capital of urozgan provice  us jets reportedly hit a police checkpoint  killing one officer  before returning to target first responders  the use of this tactic   known as a  double tap  strike   is controversial because they often hit civilian rescuers   the us told the bureau it had conducted the strike against individuals firing on and posing a threat to afghan forces  the email did not directly address the allegations of afghan policemen being killed   at the end of the month in somalia  citizens burnt us flags on the streets of the north central city of galcayo after it emerged a drone attack may have unintentionally killed   somali soldiers and civilians  the strike occurred on the same day as the one in nangarhar   in both the somali and afghan incidents  the us at first denied that any non combatants had been killed  it is now investigating both the strikes in nangarhar and galcayo   the rate at which civilians are being killed by american airstrikes in afghanistan is now higher than it was in   when the us was engaged in active combat operations  name                                                                                                                                                                                                                                                                                                                                                                                                                                                                                                                                                                                                                                                                                                                                                                                                                                                                                                                                                                                                                                                                                                                                                                                                                                                                                                                                                                                                                                                                                                                                                                                                                                                                                                                                                                                                                                                                                                                                                                                                                                                                                                                                                                                                                                                                                                                                                                                                                                                                                                                                                                                                                                                                                                                                                                                                                                                                                                                                                                                                                                                                                                                                                                                                                                                                                                                                                                                                                                                                                                                                                                                                                                                                                                                                                                                                                                                                                                                                                                                                                                                                                                                                                                                                                                                                                                                                                                                                                                                                                                                                                                                                                                          \n",
              "4        print  an iranian woman has been sentenced to six years in prison after iran s revolutionary guard searched her home and found a notebook that contained a fictional story she d written about a woman who was stoned to death  according to the eurasia review    golrokh ebrahimi iraee     is the wife of political prisoner arash sadeghi     who is serving a   year prison sentence for being a human rights activist  the publication reported    when the intelligence unit of the revolutionary guards came to arrest her husband  they raided their apartment   without a warrant   and found drafts of stories that ebrahimi iraee had written   the article stated    one of the confiscated drafts was a story about stoning women to death for adultery   never published  never presented to anyone   the article stated   the narrative followed the story of a protagonist that watched a movie about stoning of women under islamic law for adultery                                                                                                                                                                                                                                                                                                                                                                                                                                                                                                                                                                                                                                                                                                                                                                                                                                                                                                                                                                                                                                                                                                                                                                                                                                                                                                                                                                                                                                                                                                                                                                                                                                                                                                                                                                                                                                                                                                                                                                                                                                                                                                                                                                                                                                                                                                                                                                                                                                                                                                                                                                                                                                                                                                                                                                                                                                                                                                                                                                                                                                                                                                                                                                                                                                                                                                                                                                                                                                                                                                                                                                                                                                                                                                                                                                                                                                                                                                                                                                                                                                                                                                                                                                                                                                                                                                                                                                                                                                                                                                                                                                                                                                                                                                                                                                                                                                                                                                                                                                                                                                                                                                                                                                                                                                                                                                                                                                                                                                                                                                                                                                                                                                                                                                                                                                                                                                                                                                                                                                                                                                                                                                                                                                                                                                                                                                                                                                                                                                                                                                                                                                                                                                                                                                                                                                                                                                                                                                                                                                                                                        \n",
              "                                                                                                                                                                                                                                                                                                                                                                                                                                                                                          ...                                                                                                                                                                                                                                                                                                                                                                                                                                                                                                                                                                                                                                                                                                                                                                                                                                                                                                                                                                                                                                                                                                                                                                                                                                                                                                                                                                                                                                                                                                                                                                                                                                                                                                                                                                                                                                                                                                                                                                                                                                                                                                                                                                                                                                                                                                                                                                                                                                                                                                                                                                                                                                                                                                                                                                                                                                                                                                                                                                                                                                                                                                                                                                                                                                                                                                                                                                                                                                                                                                                                                                                                                                                                                                                                                                                                                                                                                                                                                                                                                                                                                                                                                                                                                                                                                                                                                                                                                                                                                                                                                                                                                                                                                                                                                                                                                                                                                                                                                                                                                                                                                                                                                                                                                                                                                                                                                                                                                                                                                                                                                                                                                                                                                                                                                                                                                                                                                                                                                                                                                                                                                                                                                                                                                                                                                                                                                                                                                                                                                                                                                                                                                                                                                                                                                                                                                                                                                                                                                                                                                                                                                                                                                                                                                                                                                                                                                                                                                                                                                                          \n",
              "18280    rapper t  i  unloaded on black celebrities who met with donald trump after the election  saying they failed to challenge the president for disrespecting and degrading black voters during the campaign   the atlanta    based artist told the   of the view thursday that he took issue with talk show host steve harvey    kanye west  and football hall of famer and civil rights champion jim brown meeting with trump    before you stand and smile and say this is a good man and take pictures  what about addressing the disrespect and disregard for our community that was done   t  i  said  adding  and what about him being the poster child for white supremacy and standing for the people who look to devalue our lives   the   star of the   reality show t  i   tiny  the family hustle also defended fellow rapper snoop dogg  who recently starred in a   music video that sees the  doggystyle  rapper pull a gun on and  shoot  a parody clown version of president donald trump   whatever snoop said  he had the right to say  he s protected by the constitution in saying it   t  i  said   we have to protect our legends  we have to protect our heroes and the people who mean something to us and our community and our culture    the view   sunny hostin suggested that trump advisor omarosa manigault has stated the administration s intention to  bridge the gap  between the white house and the black community  to which t  i  responded with a personal insult   she can t even bridge the gap in her teeth   the rapper said  t  i  had originally defended snoop dogg and his controversial video in an instagram message  calling trump a  f cking tangerine tanned muskrat scrotum skin  lacefront possum fur wig wearing  alternative fact  atomic dog diarrhea face ass man  sic       follow jerome hudson on twitter   jeromeehudson                                                                                                                                                                                                                                                                                                                                                                                                                                                                                                                                                                                                                                                                                                                                                                                                                                                                                                                                                                                                                                                                                                                                                                                                                                                                                                                                                                                                                                                                                                                                                                                                                                                                                                                                                                                                                                                                                                                                                                                                                                                                                                                                                                                                                                                                                                                                                                                                                                                                                                                                                                                                                                                                                                                                                                                                                                                                                                                                                                                                                                                                                                                                                                                                                                                                                                                                                                                                                                                                                                                                                                                                                                                                                                                                                                                                                                                                                                                                                                                                                                                                                                                                                                                                                                                                                                                                                                                                                                                                                                                                                                                                                                                                                                                                                                                                                                                                                                                                                                                                                                                                                                                                                                                                                                                                                                                                                                                                                                                                                                                                                                                                                                                                                                                                                                                                                                                                                                                                                                                                                                                                                                          \n",
              "18281    when the green bay packers lost to the washington redskins in week    dropping to   aaron rodgers vowed to  run the table  in a march to the playoffs  with a   victory over the detroit lions on sunday night  the team fulfilled rodgers  promise  much of the drama of the matchup between division rivals was eliminated earlier in the day when the redskins lost to the giants  thus guaranteeing both the packers and lions would be playoff teams  but the n  f  c  north bragging rights  and a home game in the first round of the playoffs  were sufficient motivation for green bay to push hard enough to secure the team s sixth consecutive win and the third consecutive loss for detroit  pundits had spent the week deciphering all of the wild scenarios that could play out for positioning among the remaining teams  but when all was said and done  ten of the teams that were in line for a playoff spot remained in the same seeding order  no    detroit lions at no    seattle seahawks time      p  m  eastern saturday on nbc the seahawks  title hopes took a crushing blow when earl thomas was lost for the season with a broken leg  after the injury  the seahawks went   with the wins coming with major asterisks as they came against the   rams and    that collapse paled in comparison to the lions  who lost their final three games  blowing what had been a large division lead against green bay  line  seahawks          no    giants at no    green bay packers time      p  m  eastern sunday on fox thanks to playing in the n  f  c  east  home of the   dallas cowboys  the giants managed to tie atlanta for the   record in the n  f  c  but got stuck with the no    seed in the playoffs and a road game against a   packers squad that won its final six games  the good news for the giants is that superstitious fans will note that the last two times they played the packers on the road in the playoffs  they not only won the games but went on to win the super bowl both times  line  packers             bye weeks  dallas  atlanta no    oakland raiders at no    houston texans time      p  m  eastern saturday on espn line  texans          the texans were the least inspiring of the n  f  l   s division champions and that was complicated further when tom savage  whom the team had elevated to starting quarterback after the benching of brock osweiler  was forced to leave week   s loss to tennessee with a concussion  as bad as that sounds  it may still be enough against a reeling oakland squad that lost derek carr to a broken leg in week    matt mcgloin to a shoulder injury in week    and fell all the way from the no    seed in the a  f  c  to no     it is unclear at this point if mcgloin or rookie connor cook will start at quarterback against houston  no    miami dolphins at no    pittsburgh steelers time      p  m  eastern sunday on cbs the dolphins were a contender when the team s quarterback  ryan tannehill  was lost in week   with injured ligaments in his left knee  thanks to backup quarterback matt moore  and jay ajayi  the team s   running back  they won two of three games and secured a   berth  but going up against a   offense like pittsburgh is a tough test for miami s middling defense  even if tannehill s knee heals enough to allow him to return  line  steelers               bye weeks  new england  kansas city with four teams vying for two n  f  c  playoff spots  all eyes were on the   game on sunday  a redskins victory could have caused movement in the seedings  with the lions and packers playing a     evening matchup  the giants  who had already locked up the no    seed and had nothing to gain  threw a wrench in the redskins  plans  eliminating their division rivals with a decisive   victory  with the drama essentially taken out of the n  f  c  all of the playoff movement sunday occurred in the a  f  c  where there was a   at the top of the standings in the a  f  c  west  just a week after losing derek carr  the team s quarterback and a legitimate candidate for most valuable player  to a broken leg  the oakland raiders were crushed   by the denver broncos  that  combined with the kansas city chiefs    victory over the san diego chargers vaulted the chiefs from a   spot all the way to the no    seed in the a  f  c  which comes with a   bye in the playoffs  the loss for oakland added to the misery of the raiders  who have gone from super bowl contenders last week to a   team that will play on the road in houston next week potentially with a   quarterback under center as carr s backup  matt mcgloin  injured his shoulder in the loss to the broncos  beyond the switch to the chiefs as the no    in the a  f  c  it was business as usual for the teams that will get bye weeks in the playoffs  the new england patriots secured the no    spot in the a  f  c  with a win over miami  the dallas cowboys were already guaranteed the no    spot in the n  f  c  before their loss to philadelphia  and the atlanta falcons held onto the no    seed in the n  f  c  with a   win over new orleans  the only remaining chance for a minor   was for the packers  who led their division by virtue of a tiebreaker  to lose to the lions  which would have forced them to play on the road in the   round of the playoffs  but the    aspect of the de facto n  f  c  north championship went away when the redskins lost to the giants  which eliminated the redskins from   contention  while most of the races were straight forward  one of the crazier playoff scenarios that had been discussed before the week was the possibility that the tampa bay buccaneers could find themselves in the playoffs  they simply had to shoot the moon by beating the carolina panthers  having the redskins tie the giants  the packers lose to the lions  and should all of that happen they simply required wins by indianapolis  dallas  tennessee and san francisco to top the packers in strength of schedule  tampa bay took care of their end by beating the panthers early in the day  but they were eliminated officially when dallas lost to philadelphia                                                                                                                                                                                                                                                                                                                                                                                                                                                                                                                                                                                                                                                                                                                                                                                                                                                                                                                                                                                                                                                                                                                                                                                                                                                                                                                                                                                                                                                                                                                                                                                                                                                                                                     \n",
              "18282    the macy s of today grew from the union of several great names in american retailing  including its namesake chain  bloomingdale s and marshall field s  but the ambitious owner of saks fifth avenue has broached the idea of taking the union even further  combining with macy s to create a department store juggernaut at a time when the industry is reeling  hudson s bay company  the canadian owner of saks  has approached macy s about a potential takeover  people briefed on the matter who were not authorized to speak publicly said on friday  talks between the two companies are at an early stage and may still fall apart or lead to a partnership of some kind rather than a sale  while it is unclear whether a deal will happen  a combination could lift the fortunes of macy s  the country s biggest department store  which has been struggling  investors certainly appeared to see it that way  shares of macy s rose as much as   percent on friday  its biggest intraday gain since aug     according to data from bloomberg  once a retail titan  macy s has struggled to remain relevant as   and discount retailers have decimated the traditional    business  last month  macy s announced plans to cut more than      jobs and close some of its   stores  terry lundgren  its chief executive and the architect of macy s last big merger  is expected to step down by the end of march  he will be succeeded by the company s president  jeffrey gennette  since the recession  shoppers have grown accustomed to hunt for bargains and to not pay full price  discount stores and outlet malls have flourished  traditional stores have been compelled to respond by trimming prices  which cuts into their margins  departments stores have been hit especially hard  particularly as shoppers migrate away from malls  what has emerged  analysts say  is a virtual race to the bottom  that has been particularly difficult for macy s  born of a series of mergers over the past two decades that made it a juggernaut in the industry  a stalwart of the middle tier of retail  the company has neither the advantages of   retailers like hm nor the   stores  in addition  macy s faces increasingly fierce competition online from sites like amazon and elsewhere  macy s troubles have drawn the attention of a prominent activist hedge fund  starboard value  which has urged the company to generate cash by selling the real estate beneath its stores  starboard  which held just under   percent of macy s shares as of sept     had previously estimated the value of that land at about    billion  on friday  analysts at citigroup estimated that macy s   holdings could be worth at least    billion  macy s market value  by comparison  was just under    billion as of friday morning  macy s has taken some steps to sell or redevelop stores  and last year  it added an expert on real estate transactions to its board  but the company has largely resisted more ambitious efforts to divest its real estate  including     deals  in which a company sells the underlying land beneath its stores and then rents it back  the company s suitor  hudson s bay company  is far smaller      its market value was about      billion canadian dollars  or       billion      but is known for its bold steps  hudson s bay company has assembled a growing empire that includes the hudson s bay department store chain  lord  taylor and its crown jewel  saks  and the governor and executive chairman of the hudson s bay company  richard baker  has shown little fear of using debt  in november    the company borrowed nearly    billion against the saks flagship in midtown manhattan  he has spoken often of retailers  need to highlight the value of their real estate  financing a bid for macy s may be trickier  however  because the it carries about       billion in   debt  that may mean that the hudson s bay company will have to bring in a partner or borrow against more of its real estate holdings  a spokesman for the hudson s bay company declined to comment on the talks  which were reported earlier by the wall street journal   we do not comment on rumors and speculation   a representative for macy s said  a representative for starboard value did not respond to a request for comment  some analysts said that they saw the merit of a potential combination  particularly given macy s operational woes and mr  baker s expertise in wringing money out of real estate   there is a clear logic  despite disparity in   cap  between macy s and hudson s bay company  craig johnson  the president of customer growth partners  a research firm  said in a note  referring to macy s stock ticker symbol  he added   the retail market has been changing faster than m has been able to keep up with  whether the flight from the mall or the migration online                                                                                                                                                                                                                                                                                                                                                                                                                                                                                                                                                                                                                                                                                                                                                                                                                                                                                                                                                                                                                                                                                                                                                                                                                                                                                                                                                                                                                                                                                                                                                                                                                                                                                                                                                                                                                                                                                                                                                                                                                                                                                                                                                                                                                                                                                                                                                                                                                                                                                                                                                                                                                                                                                                                                                                                                                                                                                                                                                                                                                \n",
              "18283    nato  russia to hold parallel exercises in balkans        press tv  russia s military and nato forces are holding parallel military exercises in two neighboring balkan countries   russian troops will participate in war games in serbia while nato is conducting military drills in montenegro  media reported on monday   russian forces    day military exercise in serbia is named  the slavic brotherhood    and begins on wednesday   it will include   russian paratroopers    air force staffers  three transport planes and an unspecified number of troops from serbia and belarus  russia s defense ministry said   the five day nato drill in montenegro started on monday and involves responding to floods and chemical attacks  it will involve   unarmed personnel from seven nato countries and   partner states   in the past both serbia and montenegro were constitutional republics of the socialist federal republic of yugoslavia   both countries are socialist republics and traditional russian christian orthodox allies  in   this state union was re formed into serbia and montenegro  and in   the two became independent states   since their split  the two balkan neighbors seem to have headed in different directions strategically   montenegro has taken a pro western stance which has been awarded by nato with an offer to join the northern atlantic alliance   the nato invitation to montenegro has met strong opposition from russia   meanwhile  montenegrin officials have accused russia of staging an alleged coup in october to topple its pro western government because of the nato accession bid   serbia  a nato partner  has held exercises with the western alliance  but not such a large one or with foreign troops and equipment participating on its soil                                                                                                                                                                                                                                                                                                                                                                                                                                                                                                                                                                                                                                                                                                                                                                                                                                                                                                                                                                                                                                                                                                                                                                                                                                                                                                                                                                                                                                                                                                                                                                                                                                                                                                                                                                                                                                                                                                                                                                                                                                                                                                                                                                                                                                                                                                                                                                                                                                                                                                                                                                                                                                                                                                                                                                                                                                                                                                                                                                                                                                                                                                                                                                                                                                                                                                                                                                                                                                                                                                                                                                                                                                                                                                                                                                                                                                                                                                                                                                                                                                                                                                                                                                                                                                                                                                                                                                                                                                                                                                                                                                                                                                                                                                                                                                                                                                                                                                                                                                                                                                                                                                                                                                                                                                                                                                                                                                                                                                                                                                                                                                                                                                                                                                                                                                                                                                                                                                                                                                                                                                                                                                                                                                       \n",
              "18284      david swanson is an author  activist  journalist  and radio host  he is a   nobel peace prize nominee  he is director of worldbeyondwar com and campaign coordinator for rootsaction org   he hosts talk nation radio   talk nation radio is on vt radio and is syndicated by pacifica network  the show also airs on wtju  charlottesville  va  wcsx detroit  mi  kghi  westport  wa  whus  storrs  ct  wprr  grand rapids  mi  krfp lp  moscow  id  kzgm  cabool  mo  kmud  garberville  ca  wazu  peoria  il  wxrd  crown point  in  geneva radio  geneva  ny  kkrn  round mountain  ca  kskq lp  ashland  or  wuow lp  oneonta  ny  no lies radio  pinole  ca  wyap lp  clay  wv  the detour  johnson city  tn  wzrd  chicago  il  weft  champaign  il  wxpi  pittsburgh  pa  wdrt  viroqua  wi  veracity now  online  liberty and justice radio  shirley  ma  ithaca community radio  ithaca  ny  wmcb  greenfield  ma  prx org  kaos      olympia  wa  wusb     fm  stony brook  ny  wool fm  bellow falls  vermont  wslr lp     in sarasota  florida  he also blogs at davidswanson org and warisacrime org and is a prolific author  his latest books are  war is a lie   daybreak  undoing the imperial presidency and forming a more perfect union   and when the world outlawed war swanson holds a master s degree in philosophy from the university of virginia  he has worked as a newspaper reporter and as a communications director  with jobs including press secretary for dennis kucinich s   presidential campaign  media coordinator for the international labor communications association  and three years as communications coordinator for acorn  the association of community organizations for reform now  read his full and complete biography at davidswanson org and also visit book site at war is crime   what keeps the f   alive by david swanson on october      petition to stop f   going global  by david swanson  imagine if a local business in your town invented a brand new tool that was intended to have an almost magical effect thousands of miles away  however  where the tool was kept and used locally became an area unsafe for children  children who got near this tool tended to have increased blood pressure and increased stress hormones  lower reading skills  poorer memories  impaired auditory and speech perception  and impaired academic performance   most of us would find this situation at least a little concerning  unless the new invention was designed to murder lots of people  then it d be just fine   now  imagine if this same new tool ruined neighborhoods because people couldn t safely live near it  imagine if the government had to compensate people but kick them out of living near the location of this tool  again  i think  we might find that troubling if mass murder were not the mission   imagine also that this tool fairly frequently explodes  emitting highly toxic chemicals  particles  and fibers unsafe to breathe into the air for miles around  normally  that d be a problem  but if this tool is needed for killing lots of people  we ll work with its flaws  won t we   now  what if this new gadget was expected to cost at least            over   years  and what if that money had to be taken away from numerous other expenses more beneficial for the economy and the world  what if the      trillion was drained out of the economy causing a loss of jobs and a radical diminuition of resources for education  healthcare  housing  environmental protection  or humanitarian aid  wouldn t that be a worry in some cases  i mean in those cases where the ability to kill tons of human beings wasn t at stake   what if this product  even when working perfectly  was a leading destroyer of the earth s natural environment   what if this high tech toy wasn t even designed to do what was expected of it and wasn t even able to do what it was designed for   amazingly  even those shortcomings do not matter as long as the intention is massive murder and destruction  then  all is forgiven   the tool i m describing is called the f    at rootsaction org you can find a new petition launched by locally minded people acting globally in places where the f   is intended to be based  also at that link you ll find explanations of how the tool i ve been decribing is the f     the petition is directed to the united states congress and the governments of australia  italy  the netherlands  norway  turkey  the united kingdom  israel  japan and south korea from the world and from the people of burlington  vermont  and fairbanks  alaska  where the f   is to be based  this effort is being initiated by vermont stop the   coalition  save our skies vermont  western maine matters  alaska peace center  university of alaska fairbanks peace club  north star chapter   veterans for peace  world beyond war  rootsaction org  code pink  and ben cohen   the petition reads   the f   is a weapon of offensive war  serving no defensive purpose  it is planned to cost the u s       trillion over   years  because starvation on earth could be ended for    billion and the lack of clean drinking water for    billion per year  it is first and foremost through the wasting of resources that this airplane will kill  military spending  contrary to popular misconception  also hurts the u s  economy   see here   and other economies  the f   causes negative health impacts and cognitive impairment in children living near its bases  it renders housing near airports unsuitable for residential use  it has a high crash rate and horrible consequences to those living in the area of its crashes  its emissions are a major environmental polluter   wars are endangering the united states and other participating nations rather than protecting them  nonviolent tools of law  diplomacy  aid  crisis prevention  and verifiable nuclear disarmament should be substituted for continuing counterproductive wars  therefore  we  the undersigned  call for the immediate cancellation of the f   program as a whole  and the immediate cancellation of plans to base any such dangerous and noisy jets near populated areas  we oppose replacing the f   with any other weapon or basing the f   in any other locations  we further demand redirection of the money for the f   back into taxpayers  pockets  and into environmental and human needs in the u s   other f   customer nations  and around the world  including to fight climate change  pay off student debt  rebuild crumbling infrastructure  and improve education  healthcare  and housing   add your name    david swanson is an author  activist  journalist  and radio host  he is director of worldbeyondwar org and campaign coordinator for rootsaction org   swanson s books include war is a lie   he blogs at davidswanson org and warisacrime org   he hosts talk nation radio  he is a   and   nobel peace prize nominee   follow him on twitter   davidcnswanson and facebook    help support davidswanson org  warisacrime org  and talknationradio org by clicking here  http   davidswanson org donate                                                                                                                                                                                                                                                                                                                                                                                                                                                                                                                                                                                                                                                                                                               \n",
              "Name: text, Length: 18285, dtype: object"
            ]
          },
          "execution_count": 17,
          "metadata": {},
          "output_type": "execute_result"
        }
      ],
      "source": [
        "df['text']"
      ]
    },
    {
      "cell_type": "markdown",
      "metadata": {
        "id": "xFHNgFyoJ1gz"
      },
      "source": [
        "##Removing Stopwords and stemming the text\n"
      ]
    },
    {
      "cell_type": "code",
      "execution_count": null,
      "metadata": {
        "colab": {
          "base_uri": "https://localhost:8080/"
        },
        "id": "hKs6OI_FLdhP",
        "outputId": "1d540207-7d05-4634-a704-90eb6f827d79"
      },
      "outputs": [
        {
          "name": "stderr",
          "output_type": "stream",
          "text": [
            "[nltk_data] Downloading package stopwords to /root/nltk_data...\n",
            "[nltk_data]   Package stopwords is already up-to-date!\n"
          ]
        },
        {
          "data": {
            "text/plain": [
              "True"
            ]
          },
          "execution_count": 18,
          "metadata": {},
          "output_type": "execute_result"
        }
      ],
      "source": [
        "\n",
        "import nltk\n",
        "nltk.download('stopwords')"
      ]
    },
    {
      "cell_type": "code",
      "execution_count": null,
      "metadata": {
        "colab": {
          "background_save": true
        },
        "id": "wxpzMwPrJyNy"
      },
      "outputs": [],
      "source": [
        "from nltk.corpus import stopwords\n",
        "from nltk.stem.porter import PorterStemmer\n",
        "import re\n",
        "ps=PorterStemmer()\n",
        "corpus=[]\n",
        "for i in range(0,len(df)):\n",
        "  review=re.sub('[^a-zA-Z]',\" \",df['text'][i])\n",
        "  review=review.lower()\n",
        "  review=review.split()\n",
        "\n",
        "  review=[ps.stem(word) for word in review if not word in stopwords.words('english')]\n",
        "  review=' '.join(review)\n",
        "  corpus.append(review)"
      ]
    },
    {
      "cell_type": "markdown",
      "metadata": {
        "id": "6n3bleKkLznZ"
      },
      "source": [
        "##Splitting the DataFrame"
      ]
    },
    {
      "cell_type": "code",
      "execution_count": null,
      "metadata": {
        "colab": {
          "background_save": true
        },
        "id": "Vz-h3x8UKAAq",
        "outputId": "1c6c25f1-bcc4-45e1-9b54-c70263944e23"
      },
      "outputs": [
        {
          "data": {
            "text/html": [
              "<div>\n",
              "<style scoped>\n",
              "    .dataframe tbody tr th:only-of-type {\n",
              "        vertical-align: middle;\n",
              "    }\n",
              "\n",
              "    .dataframe tbody tr th {\n",
              "        vertical-align: top;\n",
              "    }\n",
              "\n",
              "    .dataframe thead th {\n",
              "        text-align: right;\n",
              "    }\n",
              "</style>\n",
              "<table border=\"1\" class=\"dataframe\">\n",
              "  <thead>\n",
              "    <tr style=\"text-align: right;\">\n",
              "      <th></th>\n",
              "      <th>label</th>\n",
              "    </tr>\n",
              "  </thead>\n",
              "  <tbody>\n",
              "    <tr>\n",
              "      <th>0</th>\n",
              "      <td>1</td>\n",
              "    </tr>\n",
              "    <tr>\n",
              "      <th>1</th>\n",
              "      <td>0</td>\n",
              "    </tr>\n",
              "    <tr>\n",
              "      <th>2</th>\n",
              "      <td>1</td>\n",
              "    </tr>\n",
              "    <tr>\n",
              "      <th>3</th>\n",
              "      <td>1</td>\n",
              "    </tr>\n",
              "    <tr>\n",
              "      <th>4</th>\n",
              "      <td>1</td>\n",
              "    </tr>\n",
              "  </tbody>\n",
              "</table>\n",
              "</div><br><label><b>dtype:</b> int64</label>"
            ],
            "text/plain": [
              "0    1\n",
              "1    0\n",
              "2    1\n",
              "3    1\n",
              "4    1\n",
              "Name: label, dtype: int64"
            ]
          },
          "execution_count": 20,
          "metadata": {},
          "output_type": "execute_result"
        }
      ],
      "source": [
        "Y=df['label']\n",
        "Y.head()"
      ]
    },
    {
      "cell_type": "code",
      "execution_count": 40,
      "metadata": {
        "colab": {
          "base_uri": "https://localhost:8080/"
        },
        "id": "qC0sdaSVNYK9",
        "outputId": "124903a4-ba65-4412-d1ef-fca707643bfc"
      },
      "outputs": [
        {
          "output_type": "stream",
          "name": "stdout",
          "text": [
            "(12799,) (5486,) (12799,) (5486,)\n"
          ]
        }
      ],
      "source": [
        "X_train, X_test, Y_train, Y_test = train_test_split(df['text'], Y, test_size=0.30, random_state=40)\n",
        "print(X_train.shape,X_test.shape,Y_train.shape,Y_test.shape)"
      ]
    },
    {
      "cell_type": "markdown",
      "metadata": {
        "id": "YYaGZ2QnNMcB"
      },
      "source": [
        "#tfdif vectorizer"
      ]
    },
    {
      "cell_type": "code",
      "execution_count": 41,
      "metadata": {
        "id": "-0dDQLd_KA5U"
      },
      "outputs": [],
      "source": [
        "tfidf_vect = TfidfVectorizer(stop_words = 'english',max_df=0.7)\n",
        "tfidf_train = tfidf_vect.fit_transform(X_train)\n",
        "tfidf_test = tfidf_vect.transform(X_test)"
      ]
    },
    {
      "cell_type": "markdown",
      "source": [
        "# Count Vectorizer"
      ],
      "metadata": {
        "id": "qJ0xCYOScinp"
      }
    },
    {
      "cell_type": "code",
      "execution_count": 42,
      "metadata": {
        "id": "irPgPM_HP7PI"
      },
      "outputs": [],
      "source": [
        "count_vect = CountVectorizer(stop_words = 'english')\n",
        "count_train = count_vect.fit_transform(X_train.values)\n",
        "count_test = count_vect.transform(X_test.values)"
      ]
    },
    {
      "cell_type": "markdown",
      "source": [
        "#Machine Learning Model"
      ],
      "metadata": {
        "id": "Mcz-PPpqYa0R"
      }
    },
    {
      "cell_type": "markdown",
      "source": [
        "##1. Naive Bayes Model"
      ],
      "metadata": {
        "id": "UOQDjhwzcoUv"
      }
    },
    {
      "cell_type": "markdown",
      "source": [
        "### TFIDF Vectorize DataSet"
      ],
      "metadata": {
        "id": "zLDUF1qIc1NP"
      }
    },
    {
      "cell_type": "code",
      "source": [
        "from sklearn.naive_bayes import MultinomialNB\n",
        "from sklearn import metrics\n",
        "from sklearn.metrics import accuracy_score"
      ],
      "metadata": {
        "id": "_hPtOZNeYdE1"
      },
      "execution_count": 43,
      "outputs": []
    },
    {
      "cell_type": "code",
      "source": [
        "clf = MultinomialNB()\n",
        "clf.fit(tfidf_train, Y_train)\n",
        "pred = clf.predict(tfidf_test)\n",
        "score = metrics.accuracy_score(Y_test, pred)\n",
        "print(\"accuracy:   %0.3f\" % score)\n",
        "cm = metrics.confusion_matrix(Y_test, pred)\n",
        "print(cm)"
      ],
      "metadata": {
        "colab": {
          "base_uri": "https://localhost:8080/"
        },
        "id": "AkhXKDhJYmRa",
        "outputId": "905735ae-c47a-4f91-8011-583db48900aa"
      },
      "execution_count": 44,
      "outputs": [
        {
          "output_type": "stream",
          "name": "stdout",
          "text": [
            "accuracy:   0.772\n",
            "[[3103    8]\n",
            " [1243 1132]]\n"
          ]
        }
      ]
    },
    {
      "cell_type": "code",
      "source": [
        "\n",
        "print('Wrong predictions out of total')\n",
        "print((Y_test !=pred).sum(),'/',((Y_test == pred).sum()+(Y_test != pred).sum()))\n",
        "print('Percentage accuracy: ',100*accuracy_score(Y_test,pred))"
      ],
      "metadata": {
        "colab": {
          "base_uri": "https://localhost:8080/"
        },
        "id": "6wCbIrA-YsCB",
        "outputId": "3bae5eb7-e98a-416d-b632-b00f499223b5"
      },
      "execution_count": 45,
      "outputs": [
        {
          "output_type": "stream",
          "name": "stdout",
          "text": [
            "Wrong predictions out of total\n",
            "1251 / 5486\n",
            "Percentage accuracy:  77.19650018228216\n"
          ]
        }
      ]
    },
    {
      "cell_type": "markdown",
      "source": [
        "#### Plotting confusion matrix for TF-Idf vectorizer"
      ],
      "metadata": {
        "id": "F8dw_4nNZtEB"
      }
    },
    {
      "cell_type": "code",
      "source": [
        "sns.heatmap(cm, cmap=\"plasma\", annot=True)"
      ],
      "metadata": {
        "colab": {
          "base_uri": "https://localhost:8080/",
          "height": 467
        },
        "id": "czES8EiYZs5y",
        "outputId": "2437c594-60d3-4cfe-97cd-02eaf900a03b"
      },
      "execution_count": 46,
      "outputs": [
        {
          "output_type": "execute_result",
          "data": {
            "text/plain": [
              "<Axes: >"
            ]
          },
          "metadata": {},
          "execution_count": 46
        },
        {
          "output_type": "display_data",
          "data": {
            "text/plain": [
              "<Figure size 640x480 with 2 Axes>"
            ],
            "image/png": "[encoded data removed]"
          },
          "metadata": {}
        }
      ]
    },
    {
      "cell_type": "markdown",
      "source": [
        "### Count Vectorized DateSet"
      ],
      "metadata": {
        "id": "vqZV_Hx_Z0Tw"
      }
    },
    {
      "cell_type": "code",
      "source": [
        "clf = MultinomialNB()\n",
        "clf.fit(count_train, Y_train)\n",
        "pred1 = clf.predict(count_test)\n",
        "score = metrics.accuracy_score(Y_test, pred1)\n",
        "print(\"accuracy:   %0.3f\" % score)\n",
        "cm2 = metrics.confusion_matrix(Y_test, pred1)\n",
        "print(cm2)"
      ],
      "metadata": {
        "colab": {
          "base_uri": "https://localhost:8080/"
        },
        "id": "j3CbHwU5Zz6q",
        "outputId": "b1bff3cf-6bf4-453d-be75-f49a07b58a90"
      },
      "execution_count": 49,
      "outputs": [
        {
          "output_type": "stream",
          "name": "stdout",
          "text": [
            "accuracy:   0.903\n",
            "[[2977  134]\n",
            " [ 397 1978]]\n"
          ]
        }
      ]
    },
    {
      "cell_type": "code",
      "source": [
        "print('Wrong predictions out of total')\n",
        "print((Y_test !=pred1).sum(),'/',((Y_test == pred1).sum()+(Y_test != pred1).sum()))\n",
        "print('Percentage accuracy: ',100*accuracy_score(Y_test,pred1))"
      ],
      "metadata": {
        "colab": {
          "base_uri": "https://localhost:8080/"
        },
        "id": "fRTkNt-kZwbh",
        "outputId": "df1d8fdd-5bfb-4992-cec1-ae319d87f2be"
      },
      "execution_count": 50,
      "outputs": [
        {
          "output_type": "stream",
          "name": "stdout",
          "text": [
            "Wrong predictions out of total\n",
            "531 / 5486\n",
            "Percentage accuracy:  90.32081662413415\n"
          ]
        }
      ]
    },
    {
      "cell_type": "markdown",
      "source": [
        "#### Plotting confusion matrix for Count vectorizer."
      ],
      "metadata": {
        "id": "Z0Lgmu_taCZw"
      }
    },
    {
      "cell_type": "code",
      "source": [
        "sns.heatmap(cm2, cmap=\"plasma\", annot=True)"
      ],
      "metadata": {
        "colab": {
          "base_uri": "https://localhost:8080/",
          "height": 467
        },
        "id": "pQCQmXdtaCN4",
        "outputId": "f5f819d9-923a-4dca-ee5b-3ae212b330e4"
      },
      "execution_count": 51,
      "outputs": [
        {
          "output_type": "execute_result",
          "data": {
            "text/plain": [
              "<Axes: >"
            ]
          },
          "metadata": {},
          "execution_count": 51
        },
        {
          "output_type": "display_data",
          "data": {
            "text/plain": [
              "<Figure size 640x480 with 2 Axes>"
            ],
            "image/png": "[encoded data removed]"
          },
          "metadata": {}
        }
      ]
    },
    {
      "cell_type": "markdown",
      "source": [
        "## 2. Random Forest Model"
      ],
      "metadata": {
        "id": "rh_DvbubaJgg"
      }
    },
    {
      "cell_type": "code",
      "source": [
        "from sklearn.ensemble import RandomForestClassifier"
      ],
      "metadata": {
        "id": "X3d8DRibZ_xD"
      },
      "execution_count": 52,
      "outputs": []
    },
    {
      "cell_type": "markdown",
      "source": [
        "### TF-Idf Vectorized DateSet"
      ],
      "metadata": {
        "id": "NkF-K_kUaPTq"
      }
    },
    {
      "cell_type": "code",
      "source": [
        "RF=RandomForestClassifier().fit(tfidf_train,Y_train)\n",
        "train_preds2 = RF.predict(tfidf_train)\n",
        "print(\"Model accuracy on train is: \", accuracy_score(Y_train, train_preds2))"
      ],
      "metadata": {
        "colab": {
          "base_uri": "https://localhost:8080/"
        },
        "id": "vi3ho4RsaM3J",
        "outputId": "e705338e-df76-4a4c-c9d1-2144109b2db8"
      },
      "execution_count": 53,
      "outputs": [
        {
          "output_type": "stream",
          "name": "stdout",
          "text": [
            "Model accuracy on train is:  0.9999218688960075\n"
          ]
        }
      ]
    },
    {
      "cell_type": "code",
      "source": [
        "test_preds2 = RF.predict(tfidf_test)\n",
        "print(\"Model accuracy on test is: \", accuracy_score(Y_test, test_preds2))\n",
        "print('-'*50)"
      ],
      "metadata": {
        "colab": {
          "base_uri": "https://localhost:8080/"
        },
        "id": "do-Ulho1aYhq",
        "outputId": "93f2401d-18e0-43b3-d87e-80c9b099efbb"
      },
      "execution_count": 54,
      "outputs": [
        {
          "output_type": "stream",
          "name": "stdout",
          "text": [
            "Model accuracy on test is:  0.9134159679183376\n",
            "--------------------------------------------------\n"
          ]
        }
      ]
    },
    {
      "cell_type": "code",
      "source": [
        "print(\"confusion_matrix train is: \", metrics.confusion_matrix(Y_train, train_preds2))\n",
        "print(\"confusion_matrix test is: \", metrics.confusion_matrix(Y_test, test_preds2))\n",
        "print('Wrong predictions out of total')\n",
        "print('-'*50)"
      ],
      "metadata": {
        "colab": {
          "base_uri": "https://localhost:8080/"
        },
        "id": "FKV92Nf4abSs",
        "outputId": "405c2af2-1358-4fd5-c830-7f327f1e2849"
      },
      "execution_count": 55,
      "outputs": [
        {
          "output_type": "stream",
          "name": "stdout",
          "text": [
            "confusion_matrix train is:  [[7249    1]\n",
            " [   0 5549]]\n",
            "confusion_matrix test is:  [[3058   53]\n",
            " [ 422 1953]]\n",
            "Wrong predictions out of total\n",
            "--------------------------------------------------\n"
          ]
        }
      ]
    },
    {
      "cell_type": "code",
      "source": [
        "print((Y_test !=test_preds2).sum(),'/',((Y_test == test_preds2).sum()+(Y_test != test_preds2).sum()))\n",
        "print('-'*50)"
      ],
      "metadata": {
        "colab": {
          "base_uri": "https://localhost:8080/"
        },
        "id": "yNDnOt0JaeuU",
        "outputId": "09c90e63-82bb-42f6-a6e3-2206e26929f2"
      },
      "execution_count": 56,
      "outputs": [
        {
          "output_type": "stream",
          "name": "stdout",
          "text": [
            "475 / 5486\n",
            "--------------------------------------------------\n"
          ]
        }
      ]
    },
    {
      "cell_type": "markdown",
      "source": [
        "### Count Vectorized"
      ],
      "metadata": {
        "id": "CwbrdHKpajAB"
      }
    },
    {
      "cell_type": "code",
      "source": [
        "RF=RandomForestClassifier().fit(count_train,Y_train)\n",
        "train_preds3 = RF.predict(count_train)\n",
        "print(\"Model accuracy on train is: \", accuracy_score(Y_train, train_preds3))\n",
        "test_preds3 = RF.predict(count_test)\n",
        "#accuracy on test\n",
        "print(\"Model accuracy on test is: \", accuracy_score(Y_test, test_preds3))\n",
        "print('-'*50)\n",
        "#Confusion matrix\n",
        "print(\"confusion_matrix train is: \", metrics.confusion_matrix(Y_train, train_preds3))\n",
        "print(\"confusion_matrix test is: \", metrics.confusion_matrix(Y_test, test_preds3))\n",
        "print('Wrong predictions out of total')\n",
        "print('-'*50)"
      ],
      "metadata": {
        "colab": {
          "base_uri": "https://localhost:8080/"
        },
        "id": "4wuIw2fkajWF",
        "outputId": "6f9e0858-94e0-4e76-faf8-862b8c6e8e69"
      },
      "execution_count": 57,
      "outputs": [
        {
          "output_type": "stream",
          "name": "stdout",
          "text": [
            "Model accuracy on train is:  0.9999218688960075\n",
            "Model accuracy on test is:  0.8975574188844331\n",
            "--------------------------------------------------\n",
            "confusion_matrix train is:  [[7249    1]\n",
            " [   0 5549]]\n",
            "confusion_matrix test is:  [[3032   79]\n",
            " [ 483 1892]]\n",
            "Wrong predictions out of total\n",
            "--------------------------------------------------\n"
          ]
        }
      ]
    },
    {
      "cell_type": "code",
      "source": [
        "print((Y_test !=test_preds3).sum(),'/',((Y_test == test_preds3).sum()+(Y_test != test_preds3).sum()))\n",
        "print('-'*50)"
      ],
      "metadata": {
        "colab": {
          "base_uri": "https://localhost:8080/"
        },
        "id": "ha8ccxdxawGS",
        "outputId": "d411aba5-d979-4a33-da27-6f25d77918eb"
      },
      "execution_count": 58,
      "outputs": [
        {
          "output_type": "stream",
          "name": "stdout",
          "text": [
            "562 / 5486\n",
            "--------------------------------------------------\n"
          ]
        }
      ]
    },
    {
      "cell_type": "markdown",
      "source": [
        "##3. K-Nearest Neighbour"
      ],
      "metadata": {
        "id": "8NXZLFG3az-v"
      }
    },
    {
      "cell_type": "code",
      "source": [
        "from sklearn.neighbors import KNeighborsClassifier\n",
        "KNN = KNeighborsClassifier().fit(tfidf_train,Y_train)"
      ],
      "metadata": {
        "id": "JnCr5lsRa0jR"
      },
      "execution_count": 59,
      "outputs": []
    },
    {
      "cell_type": "markdown",
      "source": [
        "### TFIDF Vectorized DataSet"
      ],
      "metadata": {
        "id": "wmgQ6Xk8dfiY"
      }
    },
    {
      "cell_type": "code",
      "source": [
        "train_preds4 = KNN.predict(tfidf_train)\n",
        "print(\"Model accuracy on train is: \", accuracy_score(Y_train, train_preds4))"
      ],
      "metadata": {
        "colab": {
          "base_uri": "https://localhost:8080/"
        },
        "id": "ubGNQt8Fa8g6",
        "outputId": "10b83cf8-42bd-4ab0-cd96-90b6b8c2f1ea"
      },
      "execution_count": 60,
      "outputs": [
        {
          "output_type": "stream",
          "name": "stdout",
          "text": [
            "Model accuracy on train is:  0.5187123994062036\n"
          ]
        }
      ]
    },
    {
      "cell_type": "code",
      "source": [
        "test_preds4 = KNN.predict(tfidf_test)\n",
        "print(\"Model accuracy on test is: \", accuracy_score(Y_test, test_preds4))\n",
        "print('-'*50)"
      ],
      "metadata": {
        "colab": {
          "base_uri": "https://localhost:8080/"
        },
        "id": "RRikHUZsbCGW",
        "outputId": "5484ed2a-446f-4cae-e6be-802f22bba5d9"
      },
      "execution_count": 61,
      "outputs": [
        {
          "output_type": "stream",
          "name": "stdout",
          "text": [
            "Model accuracy on test is:  0.48651111921254103\n",
            "--------------------------------------------------\n"
          ]
        }
      ]
    },
    {
      "cell_type": "code",
      "source": [
        "#Confusion matrix\n",
        "print(\"confusion_matrix train is: \", metrics.confusion_matrix(Y_train, train_preds4))\n",
        "print(\"confusion_matrix test is: \", metrics.confusion_matrix(Y_test, test_preds4))\n"
      ],
      "metadata": {
        "colab": {
          "base_uri": "https://localhost:8080/"
        },
        "id": "PO9AK7xDbD8s",
        "outputId": "0d0ac38c-0d14-4fd2-8f68-85d0e0e36dba"
      },
      "execution_count": 72,
      "outputs": [
        {
          "output_type": "stream",
          "name": "stdout",
          "text": [
            "confusion_matrix train is:  [[1106 6144]\n",
            " [  16 5533]]\n",
            "confusion_matrix test is:  [[ 304 2807]\n",
            " [  10 2365]]\n"
          ]
        }
      ]
    },
    {
      "cell_type": "code",
      "source": [
        "# Wrong Predictions made.\n",
        "\n",
        "print('Wrong predictions out of total')\n",
        "print('-'*50)\n",
        "print((Y_test !=test_preds4).sum(),'/',((Y_test == test_preds4).sum()+(Y_test != test_preds4).sum()))\n",
        "\n",
        "print('-'*50)"
      ],
      "metadata": {
        "colab": {
          "base_uri": "https://localhost:8080/"
        },
        "id": "XlyPVjqnbJNG",
        "outputId": "f7ac1f41-9c4c-4702-992c-c758c37a4b2a"
      },
      "execution_count": 71,
      "outputs": [
        {
          "output_type": "stream",
          "name": "stdout",
          "text": [
            "Wrong predictions out of total\n",
            "--------------------------------------------------\n",
            "2817 / 5486\n",
            "--------------------------------------------------\n"
          ]
        }
      ]
    },
    {
      "cell_type": "markdown",
      "source": [
        "### Count Vectorized DataSet"
      ],
      "metadata": {
        "id": "-ozdmH7RdmCj"
      }
    },
    {
      "cell_type": "code",
      "source": [
        "KNN = KNeighborsClassifier().fit(count_train,Y_train)\n",
        "#predict on train\n",
        "train_preds5 = KNN.predict(count_train)\n",
        "#accuracy on train\n",
        "print(\"Model accuracy on train is: \", accuracy_score(Y_train, train_preds5))\n",
        "\n",
        "#predict on test\n",
        "test_preds5 = KNN.predict(count_test)\n",
        "#accuracy on test\n",
        "print(\"Model accuracy on test is: \", accuracy_score(Y_test, test_preds5))\n",
        "print('-'*50)"
      ],
      "metadata": {
        "colab": {
          "base_uri": "https://localhost:8080/"
        },
        "id": "puTvcfcpbNLx",
        "outputId": "4d2aa377-ac6d-46a7-dda3-2c4253abf9c8"
      },
      "execution_count": 64,
      "outputs": [
        {
          "output_type": "stream",
          "name": "stdout",
          "text": [
            "Model accuracy on train is:  0.7850613329166342\n",
            "Model accuracy on test is:  0.7320452059788553\n",
            "--------------------------------------------------\n"
          ]
        }
      ]
    },
    {
      "cell_type": "code",
      "source": [
        "#Confusion matrix\n",
        "print(\"confusion_matrix train is: \", metrics.confusion_matrix(Y_train, train_preds5))\n",
        "print(\"confusion_matrix test is: \", metrics.confusion_matrix(Y_test, test_preds5))\n"
      ],
      "metadata": {
        "colab": {
          "base_uri": "https://localhost:8080/"
        },
        "id": "eBdak_4pbOX3",
        "outputId": "541e491b-f944-458a-974b-af2d5c6d3d81"
      },
      "execution_count": 73,
      "outputs": [
        {
          "output_type": "stream",
          "name": "stdout",
          "text": [
            "confusion_matrix train is:  [[4680 2570]\n",
            " [ 181 5368]]\n",
            "confusion_matrix test is:  [[1770 1341]\n",
            " [ 129 2246]]\n"
          ]
        }
      ]
    },
    {
      "cell_type": "code",
      "source": [
        "# Wrong Predictions made.\n",
        "print('Wrong predictions out of total')\n",
        "print('-'*50)\n",
        "print((Y_test !=test_preds5).sum(),'/',((Y_test == test_preds5).sum()+(Y_test != test_preds5).sum()))\n",
        "\n",
        "print('-'*50)"
      ],
      "metadata": {
        "colab": {
          "base_uri": "https://localhost:8080/"
        },
        "id": "bn5AgMrReAkb",
        "outputId": "e5e3b14a-2bf8-45d6-a586-d5b0cace135a"
      },
      "execution_count": 74,
      "outputs": [
        {
          "output_type": "stream",
          "name": "stdout",
          "text": [
            "Wrong predictions out of total\n",
            "--------------------------------------------------\n",
            "1470 / 5486\n",
            "--------------------------------------------------\n"
          ]
        }
      ]
    },
    {
      "cell_type": "code",
      "source": [],
      "metadata": {
        "id": "NDWsvbkOeNIC"
      },
      "execution_count": null,
      "outputs": []
    }
  ],
  "metadata": {
    "colab": {
      "toc_visible": true,
      "provenance": [],
      "authorship_tag": "ABX9TyNVZg74Rj2qOGLTxEH2Hsen",
      "include_colab_link": true
    },
    "kernelspec": {
      "display_name": "Python 3",
      "name": "python3"
    },
    "language_info": {
      "name": "python"
    }
  },
  "nbformat": 4,
  "nbformat_minor": 0
}